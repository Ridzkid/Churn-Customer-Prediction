{
 "cells": [
  {
   "cell_type": "markdown",
   "metadata": {},
   "source": [
    "## Introduction\n",
    "  \n",
    "`Nama    : Ridzki Darykholaf Hendriansyah `\n",
    "  \n",
    "`Batch   : 009`\n",
    "  \n",
    "In this case, I will to make Neoral Network Model"
   ]
  },
  {
   "cell_type": "markdown",
   "metadata": {},
   "source": [
    "## About Dataset\n",
    "> Context\n",
    "  \n",
    "\"Predict behavior to retain customers. You can analyze all relevant customer data and develop focused customer retention programs.\" [IBM Sample Data Sets]\n",
    "> Content\n",
    "  \n",
    "Each row represents a customer, each column contains customer’s attributes described on the column Metadata.\n",
    "\n",
    "The data set includes information about:\n",
    "\n",
    "- Customers who left within the last month – the column is called Churn\n",
    "- Services that each customer has signed up for – phone, multiple lines, internet, online security, online backup, device protection, tech support, and streaming TV and movies\n",
    "- Customer account information – how long they’ve been a customer, contract, payment method, paperless billing, monthly charges, and total charges\n",
    "- Demographic info about customers – gender, age range, and if they have partners and \n",
    "  \n",
    "> Inspiration\n",
    "  \n",
    "To explore this type of models and learn more about the subject.\n",
    "\n",
    "New version from [IBM](https://community.ibm.com/community/user/businessanalytics/blogs/steven-macko/2019/07/11/telco-customer-churn-1113)\n",
    "  \n",
    "\n",
    "\n",
    "\n"
   ]
  },
  {
   "cell_type": "markdown",
   "metadata": {},
   "source": [
    "## Assignment Objectives\n",
    "Milestones 1 was created to develop Phase 2 Learning:\n",
    "- Able to understand the concept of Artificial Neural Networks.\n",
    "- Capable of preparing data for use in the Neural Network model.\n",
    "- Able to implement Artificial Neural Networks with the given data.\n",
    "- Able to analyze and explain the created layer.\n",
    "\n"
   ]
  },
  {
   "cell_type": "markdown",
   "metadata": {},
   "source": [
    "## What is that!\n",
    "> Neural Networks\n",
    "  \n",
    "  Neural networks, also known as artificial neural networks (ANNs) or simulated neural networks (SNNs), are a subset of machine learning and are at the heart of deep learning algorithms. Their name and structure are inspired by the human brain, mimicking the way that biological neurons signal to one another. [From](https://www.ibm.com/cloud/learn/neural-networks)"
   ]
  },
  {
   "cell_type": "markdown",
   "metadata": {},
   "source": [
    "## Import Libraries\n",
    "In this case I will to import all library used for this dataset"
   ]
  },
  {
   "cell_type": "code",
   "execution_count": 1,
   "metadata": {},
   "outputs": [],
   "source": [
    "#untuk EDA\n",
    "import pandas as pd\n",
    "import numpy as np\n",
    "import matplotlib.pyplot as plt\n",
    "import seaborn as sns\n",
    "import plotly.graph_objs as go\n",
    "import plotly.offline as py\n",
    "\n",
    "#untuk preprocessing\n",
    "from sklearn.model_selection import train_test_split, GridSearchCV\n",
    "from sklearn.compose import ColumnTransformer\n",
    "from sklearn.pipeline import Pipeline\n",
    "from sklearn.metrics import *\n",
    "from sklearn.preprocessing import  StandardScaler, FunctionTransformer, PowerTransformer\n",
    "from sklearn.preprocessing import StandardScaler\n",
    "from sklearn.preprocessing import OneHotEncoder\n",
    "from sklearn.preprocessing import OrdinalEncoder\n",
    "from feature_engine.outliers import Winsorizer\n",
    "from imblearn.over_sampling import RandomOverSampler\n",
    "from tensorflow.keras.layers import Input, Dense\n",
    "from tensorflow.keras.models import Model\n",
    "\n",
    "\n",
    "#untuk model\n",
    "from sklearn.tree import DecisionTreeClassifier\n",
    "from sklearn.ensemble import RandomForestClassifier, GradientBoostingClassifier\n",
    "from sklearn.pipeline import Pipeline, make_pipeline\n",
    "from tensorflow import keras\n",
    "import tensorflow as tf\n",
    "from tensorflow.keras import layers\n",
    "from keras.layers import Dropout\n",
    "from keras.models import Sequential\n",
    "from keras.layers import Dense\n",
    "from tensorflow.keras.optimizers import Adam\n",
    "from keras.losses import BinaryCrossentropy\n",
    "\n",
    "import warnings\n",
    "warnings.filterwarnings(\"ignore\")"
   ]
  },
  {
   "cell_type": "markdown",
   "metadata": {},
   "source": [
    "## Data loading\n",
    ">his section contains the data preparation process before further data exploration is carried out. The Data Loading process can be in the form of giving a new name for each column, checking the size of the dataset, etc."
   ]
  },
  {
   "cell_type": "code",
   "execution_count": 2,
   "metadata": {},
   "outputs": [
    {
     "data": {
      "text/plain": [
       "(7043, 21)"
      ]
     },
     "execution_count": 2,
     "metadata": {},
     "output_type": "execute_result"
    }
   ],
   "source": [
    "df = pd.read_csv('WA_Fn-UseC_-Telco-Customer-Churn.csv')\n",
    "pd.set_option('display.max.columns', None)\n",
    "df.shape"
   ]
  },
  {
   "cell_type": "code",
   "execution_count": 3,
   "metadata": {},
   "outputs": [
    {
     "data": {
      "text/html": [
       "<div>\n",
       "<style scoped>\n",
       "    .dataframe tbody tr th:only-of-type {\n",
       "        vertical-align: middle;\n",
       "    }\n",
       "\n",
       "    .dataframe tbody tr th {\n",
       "        vertical-align: top;\n",
       "    }\n",
       "\n",
       "    .dataframe thead th {\n",
       "        text-align: right;\n",
       "    }\n",
       "</style>\n",
       "<table border=\"1\" class=\"dataframe\">\n",
       "  <thead>\n",
       "    <tr style=\"text-align: right;\">\n",
       "      <th></th>\n",
       "      <th>customerID</th>\n",
       "      <th>gender</th>\n",
       "      <th>SeniorCitizen</th>\n",
       "      <th>Partner</th>\n",
       "      <th>Dependents</th>\n",
       "      <th>tenure</th>\n",
       "      <th>PhoneService</th>\n",
       "      <th>MultipleLines</th>\n",
       "      <th>InternetService</th>\n",
       "      <th>OnlineSecurity</th>\n",
       "      <th>OnlineBackup</th>\n",
       "      <th>DeviceProtection</th>\n",
       "      <th>TechSupport</th>\n",
       "      <th>StreamingTV</th>\n",
       "      <th>StreamingMovies</th>\n",
       "      <th>Contract</th>\n",
       "      <th>PaperlessBilling</th>\n",
       "      <th>PaymentMethod</th>\n",
       "      <th>MonthlyCharges</th>\n",
       "      <th>TotalCharges</th>\n",
       "      <th>Churn</th>\n",
       "    </tr>\n",
       "  </thead>\n",
       "  <tbody>\n",
       "    <tr>\n",
       "      <th>0</th>\n",
       "      <td>7590-VHVEG</td>\n",
       "      <td>Female</td>\n",
       "      <td>0</td>\n",
       "      <td>Yes</td>\n",
       "      <td>No</td>\n",
       "      <td>1</td>\n",
       "      <td>No</td>\n",
       "      <td>No phone service</td>\n",
       "      <td>DSL</td>\n",
       "      <td>No</td>\n",
       "      <td>Yes</td>\n",
       "      <td>No</td>\n",
       "      <td>No</td>\n",
       "      <td>No</td>\n",
       "      <td>No</td>\n",
       "      <td>Month-to-month</td>\n",
       "      <td>Yes</td>\n",
       "      <td>Electronic check</td>\n",
       "      <td>29.85</td>\n",
       "      <td>29.85</td>\n",
       "      <td>No</td>\n",
       "    </tr>\n",
       "    <tr>\n",
       "      <th>1</th>\n",
       "      <td>5575-GNVDE</td>\n",
       "      <td>Male</td>\n",
       "      <td>0</td>\n",
       "      <td>No</td>\n",
       "      <td>No</td>\n",
       "      <td>34</td>\n",
       "      <td>Yes</td>\n",
       "      <td>No</td>\n",
       "      <td>DSL</td>\n",
       "      <td>Yes</td>\n",
       "      <td>No</td>\n",
       "      <td>Yes</td>\n",
       "      <td>No</td>\n",
       "      <td>No</td>\n",
       "      <td>No</td>\n",
       "      <td>One year</td>\n",
       "      <td>No</td>\n",
       "      <td>Mailed check</td>\n",
       "      <td>56.95</td>\n",
       "      <td>1889.5</td>\n",
       "      <td>No</td>\n",
       "    </tr>\n",
       "    <tr>\n",
       "      <th>2</th>\n",
       "      <td>3668-QPYBK</td>\n",
       "      <td>Male</td>\n",
       "      <td>0</td>\n",
       "      <td>No</td>\n",
       "      <td>No</td>\n",
       "      <td>2</td>\n",
       "      <td>Yes</td>\n",
       "      <td>No</td>\n",
       "      <td>DSL</td>\n",
       "      <td>Yes</td>\n",
       "      <td>Yes</td>\n",
       "      <td>No</td>\n",
       "      <td>No</td>\n",
       "      <td>No</td>\n",
       "      <td>No</td>\n",
       "      <td>Month-to-month</td>\n",
       "      <td>Yes</td>\n",
       "      <td>Mailed check</td>\n",
       "      <td>53.85</td>\n",
       "      <td>108.15</td>\n",
       "      <td>Yes</td>\n",
       "    </tr>\n",
       "    <tr>\n",
       "      <th>3</th>\n",
       "      <td>7795-CFOCW</td>\n",
       "      <td>Male</td>\n",
       "      <td>0</td>\n",
       "      <td>No</td>\n",
       "      <td>No</td>\n",
       "      <td>45</td>\n",
       "      <td>No</td>\n",
       "      <td>No phone service</td>\n",
       "      <td>DSL</td>\n",
       "      <td>Yes</td>\n",
       "      <td>No</td>\n",
       "      <td>Yes</td>\n",
       "      <td>Yes</td>\n",
       "      <td>No</td>\n",
       "      <td>No</td>\n",
       "      <td>One year</td>\n",
       "      <td>No</td>\n",
       "      <td>Bank transfer (automatic)</td>\n",
       "      <td>42.30</td>\n",
       "      <td>1840.75</td>\n",
       "      <td>No</td>\n",
       "    </tr>\n",
       "    <tr>\n",
       "      <th>4</th>\n",
       "      <td>9237-HQITU</td>\n",
       "      <td>Female</td>\n",
       "      <td>0</td>\n",
       "      <td>No</td>\n",
       "      <td>No</td>\n",
       "      <td>2</td>\n",
       "      <td>Yes</td>\n",
       "      <td>No</td>\n",
       "      <td>Fiber optic</td>\n",
       "      <td>No</td>\n",
       "      <td>No</td>\n",
       "      <td>No</td>\n",
       "      <td>No</td>\n",
       "      <td>No</td>\n",
       "      <td>No</td>\n",
       "      <td>Month-to-month</td>\n",
       "      <td>Yes</td>\n",
       "      <td>Electronic check</td>\n",
       "      <td>70.70</td>\n",
       "      <td>151.65</td>\n",
       "      <td>Yes</td>\n",
       "    </tr>\n",
       "  </tbody>\n",
       "</table>\n",
       "</div>"
      ],
      "text/plain": [
       "   customerID  gender  SeniorCitizen Partner Dependents  tenure PhoneService  \\\n",
       "0  7590-VHVEG  Female              0     Yes         No       1           No   \n",
       "1  5575-GNVDE    Male              0      No         No      34          Yes   \n",
       "2  3668-QPYBK    Male              0      No         No       2          Yes   \n",
       "3  7795-CFOCW    Male              0      No         No      45           No   \n",
       "4  9237-HQITU  Female              0      No         No       2          Yes   \n",
       "\n",
       "      MultipleLines InternetService OnlineSecurity OnlineBackup  \\\n",
       "0  No phone service             DSL             No          Yes   \n",
       "1                No             DSL            Yes           No   \n",
       "2                No             DSL            Yes          Yes   \n",
       "3  No phone service             DSL            Yes           No   \n",
       "4                No     Fiber optic             No           No   \n",
       "\n",
       "  DeviceProtection TechSupport StreamingTV StreamingMovies        Contract  \\\n",
       "0               No          No          No              No  Month-to-month   \n",
       "1              Yes          No          No              No        One year   \n",
       "2               No          No          No              No  Month-to-month   \n",
       "3              Yes         Yes          No              No        One year   \n",
       "4               No          No          No              No  Month-to-month   \n",
       "\n",
       "  PaperlessBilling              PaymentMethod  MonthlyCharges TotalCharges  \\\n",
       "0              Yes           Electronic check           29.85        29.85   \n",
       "1               No               Mailed check           56.95       1889.5   \n",
       "2              Yes               Mailed check           53.85       108.15   \n",
       "3               No  Bank transfer (automatic)           42.30      1840.75   \n",
       "4              Yes           Electronic check           70.70       151.65   \n",
       "\n",
       "  Churn  \n",
       "0    No  \n",
       "1    No  \n",
       "2   Yes  \n",
       "3    No  \n",
       "4   Yes  "
      ]
     },
     "execution_count": 3,
     "metadata": {},
     "output_type": "execute_result"
    }
   ],
   "source": [
    "df.head()"
   ]
  },
  {
   "cell_type": "markdown",
   "metadata": {},
   "source": [
    "I want to copy the dataset"
   ]
  },
  {
   "cell_type": "code",
   "execution_count": 4,
   "metadata": {},
   "outputs": [],
   "source": [
    "df_copy = df.copy() #Copying dataset"
   ]
  },
  {
   "cell_type": "markdown",
   "metadata": {},
   "source": [
    "## Exploratory Data Analysis (EDA)\n",
    "This section contains the exploration of the dataset above using queries, grouping, simple visualization, etc\n",
    "\n"
   ]
  },
  {
   "cell_type": "code",
   "execution_count": 5,
   "metadata": {},
   "outputs": [
    {
     "data": {
      "text/plain": [
       "(7043, 21)"
      ]
     },
     "execution_count": 5,
     "metadata": {},
     "output_type": "execute_result"
    }
   ],
   "source": [
    "#For know shape of dataset\n",
    "\n",
    "df.shape"
   ]
  },
  {
   "cell_type": "markdown",
   "metadata": {},
   "source": [
    "This dataset have 7043 entry data and have 21 column"
   ]
  },
  {
   "cell_type": "code",
   "execution_count": 6,
   "metadata": {},
   "outputs": [
    {
     "name": "stdout",
     "output_type": "stream",
     "text": [
      "<class 'pandas.core.frame.DataFrame'>\n",
      "RangeIndex: 7043 entries, 0 to 7042\n",
      "Data columns (total 21 columns):\n",
      " #   Column            Non-Null Count  Dtype  \n",
      "---  ------            --------------  -----  \n",
      " 0   customerID        7043 non-null   object \n",
      " 1   gender            7043 non-null   object \n",
      " 2   SeniorCitizen     7043 non-null   int64  \n",
      " 3   Partner           7043 non-null   object \n",
      " 4   Dependents        7043 non-null   object \n",
      " 5   tenure            7043 non-null   int64  \n",
      " 6   PhoneService      7043 non-null   object \n",
      " 7   MultipleLines     7043 non-null   object \n",
      " 8   InternetService   7043 non-null   object \n",
      " 9   OnlineSecurity    7043 non-null   object \n",
      " 10  OnlineBackup      7043 non-null   object \n",
      " 11  DeviceProtection  7043 non-null   object \n",
      " 12  TechSupport       7043 non-null   object \n",
      " 13  StreamingTV       7043 non-null   object \n",
      " 14  StreamingMovies   7043 non-null   object \n",
      " 15  Contract          7043 non-null   object \n",
      " 16  PaperlessBilling  7043 non-null   object \n",
      " 17  PaymentMethod     7043 non-null   object \n",
      " 18  MonthlyCharges    7043 non-null   float64\n",
      " 19  TotalCharges      7043 non-null   object \n",
      " 20  Churn             7043 non-null   object \n",
      "dtypes: float64(1), int64(2), object(18)\n",
      "memory usage: 1.1+ MB\n"
     ]
    }
   ],
   "source": [
    "df.info()"
   ]
  },
  {
   "cell_type": "markdown",
   "metadata": {},
   "source": [
    "I see a mistake for type of data in colomn `TotalCharge`, I see in dataset is int but in `df.info` was object, I want to check that column"
   ]
  },
  {
   "cell_type": "code",
   "execution_count": 7,
   "metadata": {},
   "outputs": [
    {
     "data": {
      "text/plain": [
       "          11\n",
       "20.2      11\n",
       "19.75      9\n",
       "20.05      8\n",
       "19.9       8\n",
       "          ..\n",
       "6849.4     1\n",
       "692.35     1\n",
       "130.15     1\n",
       "3211.9     1\n",
       "6844.5     1\n",
       "Name: TotalCharges, Length: 6531, dtype: int64"
      ]
     },
     "execution_count": 7,
     "metadata": {},
     "output_type": "execute_result"
    }
   ],
   "source": [
    "df['TotalCharges'].value_counts()"
   ]
  },
  {
   "cell_type": "markdown",
   "metadata": {},
   "source": [
    "Look at the result, we can see the `space` is value, we can change that to the NaN and than we can drop that "
   ]
  },
  {
   "cell_type": "code",
   "execution_count": 8,
   "metadata": {},
   "outputs": [],
   "source": [
    "df = df.replace(' ', np.nan).dropna() #Replace space with NaN and drop NaN"
   ]
  },
  {
   "cell_type": "code",
   "execution_count": 9,
   "metadata": {},
   "outputs": [
    {
     "data": {
      "text/plain": [
       "20.2      11\n",
       "19.75      9\n",
       "20.05      8\n",
       "19.9       8\n",
       "19.65      8\n",
       "          ..\n",
       "6849.4     1\n",
       "692.35     1\n",
       "130.15     1\n",
       "3211.9     1\n",
       "6844.5     1\n",
       "Name: TotalCharges, Length: 6530, dtype: int64"
      ]
     },
     "execution_count": 9,
     "metadata": {},
     "output_type": "execute_result"
    }
   ],
   "source": [
    "df['TotalCharges'].value_counts()"
   ]
  },
  {
   "cell_type": "markdown",
   "metadata": {},
   "source": [
    "That `space` already dropped"
   ]
  },
  {
   "cell_type": "code",
   "execution_count": 10,
   "metadata": {},
   "outputs": [
    {
     "name": "stdout",
     "output_type": "stream",
     "text": [
      "<class 'pandas.core.frame.DataFrame'>\n",
      "Int64Index: 7032 entries, 0 to 7042\n",
      "Data columns (total 21 columns):\n",
      " #   Column            Non-Null Count  Dtype  \n",
      "---  ------            --------------  -----  \n",
      " 0   customerID        7032 non-null   object \n",
      " 1   gender            7032 non-null   object \n",
      " 2   SeniorCitizen     7032 non-null   int64  \n",
      " 3   Partner           7032 non-null   object \n",
      " 4   Dependents        7032 non-null   object \n",
      " 5   tenure            7032 non-null   int64  \n",
      " 6   PhoneService      7032 non-null   object \n",
      " 7   MultipleLines     7032 non-null   object \n",
      " 8   InternetService   7032 non-null   object \n",
      " 9   OnlineSecurity    7032 non-null   object \n",
      " 10  OnlineBackup      7032 non-null   object \n",
      " 11  DeviceProtection  7032 non-null   object \n",
      " 12  TechSupport       7032 non-null   object \n",
      " 13  StreamingTV       7032 non-null   object \n",
      " 14  StreamingMovies   7032 non-null   object \n",
      " 15  Contract          7032 non-null   object \n",
      " 16  PaperlessBilling  7032 non-null   object \n",
      " 17  PaymentMethod     7032 non-null   object \n",
      " 18  MonthlyCharges    7032 non-null   float64\n",
      " 19  TotalCharges      7032 non-null   object \n",
      " 20  Churn             7032 non-null   object \n",
      "dtypes: float64(1), int64(2), object(18)\n",
      "memory usage: 1.2+ MB\n"
     ]
    }
   ],
   "source": [
    "df.info()"
   ]
  },
  {
   "cell_type": "markdown",
   "metadata": {},
   "source": [
    "But, type data for column `TotalCharges` still `object`, i will to change that to numeric"
   ]
  },
  {
   "cell_type": "code",
   "execution_count": 11,
   "metadata": {},
   "outputs": [],
   "source": [
    "df.TotalCharges = pd.to_numeric(df.TotalCharges) #change type data for column TotalCharge"
   ]
  },
  {
   "cell_type": "code",
   "execution_count": 12,
   "metadata": {},
   "outputs": [
    {
     "name": "stdout",
     "output_type": "stream",
     "text": [
      "<class 'pandas.core.frame.DataFrame'>\n",
      "Int64Index: 7032 entries, 0 to 7042\n",
      "Data columns (total 21 columns):\n",
      " #   Column            Non-Null Count  Dtype  \n",
      "---  ------            --------------  -----  \n",
      " 0   customerID        7032 non-null   object \n",
      " 1   gender            7032 non-null   object \n",
      " 2   SeniorCitizen     7032 non-null   int64  \n",
      " 3   Partner           7032 non-null   object \n",
      " 4   Dependents        7032 non-null   object \n",
      " 5   tenure            7032 non-null   int64  \n",
      " 6   PhoneService      7032 non-null   object \n",
      " 7   MultipleLines     7032 non-null   object \n",
      " 8   InternetService   7032 non-null   object \n",
      " 9   OnlineSecurity    7032 non-null   object \n",
      " 10  OnlineBackup      7032 non-null   object \n",
      " 11  DeviceProtection  7032 non-null   object \n",
      " 12  TechSupport       7032 non-null   object \n",
      " 13  StreamingTV       7032 non-null   object \n",
      " 14  StreamingMovies   7032 non-null   object \n",
      " 15  Contract          7032 non-null   object \n",
      " 16  PaperlessBilling  7032 non-null   object \n",
      " 17  PaymentMethod     7032 non-null   object \n",
      " 18  MonthlyCharges    7032 non-null   float64\n",
      " 19  TotalCharges      7032 non-null   float64\n",
      " 20  Churn             7032 non-null   object \n",
      "dtypes: float64(2), int64(2), object(17)\n",
      "memory usage: 1.2+ MB\n"
     ]
    }
   ],
   "source": [
    "df.info()"
   ]
  },
  {
   "cell_type": "markdown",
   "metadata": {},
   "source": [
    "type data for column `TotalCharge` already change to `float64` "
   ]
  },
  {
   "cell_type": "code",
   "execution_count": 13,
   "metadata": {},
   "outputs": [
    {
     "data": {
      "text/plain": [
       "customerID          0\n",
       "gender              0\n",
       "SeniorCitizen       0\n",
       "Partner             0\n",
       "Dependents          0\n",
       "tenure              0\n",
       "PhoneService        0\n",
       "MultipleLines       0\n",
       "InternetService     0\n",
       "OnlineSecurity      0\n",
       "OnlineBackup        0\n",
       "DeviceProtection    0\n",
       "TechSupport         0\n",
       "StreamingTV         0\n",
       "StreamingMovies     0\n",
       "Contract            0\n",
       "PaperlessBilling    0\n",
       "PaymentMethod       0\n",
       "MonthlyCharges      0\n",
       "TotalCharges        0\n",
       "Churn               0\n",
       "dtype: int64"
      ]
     },
     "execution_count": 13,
     "metadata": {},
     "output_type": "execute_result"
    }
   ],
   "source": [
    "df.isna().sum()"
   ]
  },
  {
   "cell_type": "markdown",
   "metadata": {},
   "source": [
    "This dataset haven't missing value"
   ]
  },
  {
   "cell_type": "code",
   "execution_count": 14,
   "metadata": {},
   "outputs": [
    {
     "data": {
      "image/png": "[encoded data removed]",
      "text/plain": [
       "<Figure size 1440x1080 with 4 Axes>"
      ]
     },
     "metadata": {
      "needs_background": "light"
     },
     "output_type": "display_data"
    }
   ],
   "source": [
    "#For know the distribution of data numerical in dataset\n",
    "df.hist()\n",
    "plt.gcf().set_size_inches(20, 15)\n",
    "plt.show()"
   ]
  },
  {
   "cell_type": "markdown",
   "metadata": {},
   "source": [
    "In this dataset only have 3 column catagorical, and all distribution is skew"
   ]
  },
  {
   "cell_type": "code",
   "execution_count": 15,
   "metadata": {},
   "outputs": [],
   "source": [
    "# to separate beetwen numerical and categorical data\n",
    "\n",
    "num_col = df.select_dtypes(include=np.number).columns.tolist()\n",
    "cat_col = df.select_dtypes(include=object).columns.tolist()"
   ]
  },
  {
   "cell_type": "code",
   "execution_count": 16,
   "metadata": {},
   "outputs": [
    {
     "data": {
      "text/plain": [
       "['customerID',\n",
       " 'gender',\n",
       " 'Partner',\n",
       " 'Dependents',\n",
       " 'PhoneService',\n",
       " 'MultipleLines',\n",
       " 'InternetService',\n",
       " 'OnlineSecurity',\n",
       " 'OnlineBackup',\n",
       " 'DeviceProtection',\n",
       " 'TechSupport',\n",
       " 'StreamingTV',\n",
       " 'StreamingMovies',\n",
       " 'Contract',\n",
       " 'PaperlessBilling',\n",
       " 'PaymentMethod',\n",
       " 'Churn']"
      ]
     },
     "execution_count": 16,
     "metadata": {},
     "output_type": "execute_result"
    }
   ],
   "source": [
    "cat_col"
   ]
  },
  {
   "cell_type": "markdown",
   "metadata": {},
   "source": [
    "This dataset have 17 column for catagorical "
   ]
  },
  {
   "cell_type": "code",
   "execution_count": 17,
   "metadata": {},
   "outputs": [
    {
     "data": {
      "text/plain": [
       "['SeniorCitizen', 'tenure', 'MonthlyCharges', 'TotalCharges']"
      ]
     },
     "execution_count": 17,
     "metadata": {},
     "output_type": "execute_result"
    }
   ],
   "source": [
    "num_col"
   ]
  },
  {
   "cell_type": "markdown",
   "metadata": {},
   "source": [
    "And have 4 column for numerical "
   ]
  },
  {
   "cell_type": "code",
   "execution_count": 18,
   "metadata": {},
   "outputs": [
    {
     "data": {
      "text/html": [
       "<div>\n",
       "<style scoped>\n",
       "    .dataframe tbody tr th:only-of-type {\n",
       "        vertical-align: middle;\n",
       "    }\n",
       "\n",
       "    .dataframe tbody tr th {\n",
       "        vertical-align: top;\n",
       "    }\n",
       "\n",
       "    .dataframe thead th {\n",
       "        text-align: right;\n",
       "    }\n",
       "</style>\n",
       "<table border=\"1\" class=\"dataframe\">\n",
       "  <thead>\n",
       "    <tr style=\"text-align: right;\">\n",
       "      <th></th>\n",
       "      <th>SeniorCitizen</th>\n",
       "      <th>tenure</th>\n",
       "      <th>MonthlyCharges</th>\n",
       "      <th>TotalCharges</th>\n",
       "    </tr>\n",
       "  </thead>\n",
       "  <tbody>\n",
       "    <tr>\n",
       "      <th>count</th>\n",
       "      <td>7032.000000</td>\n",
       "      <td>7032.000000</td>\n",
       "      <td>7032.000000</td>\n",
       "      <td>7032.000000</td>\n",
       "    </tr>\n",
       "    <tr>\n",
       "      <th>mean</th>\n",
       "      <td>0.162400</td>\n",
       "      <td>32.421786</td>\n",
       "      <td>64.798208</td>\n",
       "      <td>2283.300441</td>\n",
       "    </tr>\n",
       "    <tr>\n",
       "      <th>std</th>\n",
       "      <td>0.368844</td>\n",
       "      <td>24.545260</td>\n",
       "      <td>30.085974</td>\n",
       "      <td>2266.771362</td>\n",
       "    </tr>\n",
       "    <tr>\n",
       "      <th>min</th>\n",
       "      <td>0.000000</td>\n",
       "      <td>1.000000</td>\n",
       "      <td>18.250000</td>\n",
       "      <td>18.800000</td>\n",
       "    </tr>\n",
       "    <tr>\n",
       "      <th>25%</th>\n",
       "      <td>0.000000</td>\n",
       "      <td>9.000000</td>\n",
       "      <td>35.587500</td>\n",
       "      <td>401.450000</td>\n",
       "    </tr>\n",
       "    <tr>\n",
       "      <th>50%</th>\n",
       "      <td>0.000000</td>\n",
       "      <td>29.000000</td>\n",
       "      <td>70.350000</td>\n",
       "      <td>1397.475000</td>\n",
       "    </tr>\n",
       "    <tr>\n",
       "      <th>75%</th>\n",
       "      <td>0.000000</td>\n",
       "      <td>55.000000</td>\n",
       "      <td>89.862500</td>\n",
       "      <td>3794.737500</td>\n",
       "    </tr>\n",
       "    <tr>\n",
       "      <th>max</th>\n",
       "      <td>1.000000</td>\n",
       "      <td>72.000000</td>\n",
       "      <td>118.750000</td>\n",
       "      <td>8684.800000</td>\n",
       "    </tr>\n",
       "  </tbody>\n",
       "</table>\n",
       "</div>"
      ],
      "text/plain": [
       "       SeniorCitizen       tenure  MonthlyCharges  TotalCharges\n",
       "count    7032.000000  7032.000000     7032.000000   7032.000000\n",
       "mean        0.162400    32.421786       64.798208   2283.300441\n",
       "std         0.368844    24.545260       30.085974   2266.771362\n",
       "min         0.000000     1.000000       18.250000     18.800000\n",
       "25%         0.000000     9.000000       35.587500    401.450000\n",
       "50%         0.000000    29.000000       70.350000   1397.475000\n",
       "75%         0.000000    55.000000       89.862500   3794.737500\n",
       "max         1.000000    72.000000      118.750000   8684.800000"
      ]
     },
     "execution_count": 18,
     "metadata": {},
     "output_type": "execute_result"
    }
   ],
   "source": [
    "df.describe()"
   ]
  },
  {
   "cell_type": "markdown",
   "metadata": {},
   "source": [
    "Here it can be seen that there is information on numerical labels, judging from the data above, it can be seen that some data have outliers\n"
   ]
  },
  {
   "cell_type": "code",
   "execution_count": 19,
   "metadata": {},
   "outputs": [
    {
     "data": {
      "text/html": [
       "<div>\n",
       "<style scoped>\n",
       "    .dataframe tbody tr th:only-of-type {\n",
       "        vertical-align: middle;\n",
       "    }\n",
       "\n",
       "    .dataframe tbody tr th {\n",
       "        vertical-align: top;\n",
       "    }\n",
       "\n",
       "    .dataframe thead th {\n",
       "        text-align: right;\n",
       "    }\n",
       "</style>\n",
       "<table border=\"1\" class=\"dataframe\">\n",
       "  <thead>\n",
       "    <tr style=\"text-align: right;\">\n",
       "      <th></th>\n",
       "      <th>customerID</th>\n",
       "      <th>gender</th>\n",
       "      <th>SeniorCitizen</th>\n",
       "      <th>Partner</th>\n",
       "      <th>Dependents</th>\n",
       "      <th>tenure</th>\n",
       "      <th>PhoneService</th>\n",
       "      <th>MultipleLines</th>\n",
       "      <th>InternetService</th>\n",
       "      <th>OnlineSecurity</th>\n",
       "      <th>OnlineBackup</th>\n",
       "      <th>DeviceProtection</th>\n",
       "      <th>TechSupport</th>\n",
       "      <th>StreamingTV</th>\n",
       "      <th>StreamingMovies</th>\n",
       "      <th>Contract</th>\n",
       "      <th>PaperlessBilling</th>\n",
       "      <th>PaymentMethod</th>\n",
       "      <th>MonthlyCharges</th>\n",
       "      <th>TotalCharges</th>\n",
       "      <th>Churn</th>\n",
       "    </tr>\n",
       "  </thead>\n",
       "  <tbody>\n",
       "    <tr>\n",
       "      <th>0</th>\n",
       "      <td>7590-VHVEG</td>\n",
       "      <td>Female</td>\n",
       "      <td>0</td>\n",
       "      <td>Yes</td>\n",
       "      <td>No</td>\n",
       "      <td>1</td>\n",
       "      <td>No</td>\n",
       "      <td>No phone service</td>\n",
       "      <td>DSL</td>\n",
       "      <td>No</td>\n",
       "      <td>Yes</td>\n",
       "      <td>No</td>\n",
       "      <td>No</td>\n",
       "      <td>No</td>\n",
       "      <td>No</td>\n",
       "      <td>Month-to-month</td>\n",
       "      <td>Yes</td>\n",
       "      <td>Electronic check</td>\n",
       "      <td>29.85</td>\n",
       "      <td>29.85</td>\n",
       "      <td>No</td>\n",
       "    </tr>\n",
       "    <tr>\n",
       "      <th>1</th>\n",
       "      <td>5575-GNVDE</td>\n",
       "      <td>Male</td>\n",
       "      <td>0</td>\n",
       "      <td>No</td>\n",
       "      <td>No</td>\n",
       "      <td>34</td>\n",
       "      <td>Yes</td>\n",
       "      <td>No</td>\n",
       "      <td>DSL</td>\n",
       "      <td>Yes</td>\n",
       "      <td>No</td>\n",
       "      <td>Yes</td>\n",
       "      <td>No</td>\n",
       "      <td>No</td>\n",
       "      <td>No</td>\n",
       "      <td>One year</td>\n",
       "      <td>No</td>\n",
       "      <td>Mailed check</td>\n",
       "      <td>56.95</td>\n",
       "      <td>1889.50</td>\n",
       "      <td>No</td>\n",
       "    </tr>\n",
       "    <tr>\n",
       "      <th>2</th>\n",
       "      <td>3668-QPYBK</td>\n",
       "      <td>Male</td>\n",
       "      <td>0</td>\n",
       "      <td>No</td>\n",
       "      <td>No</td>\n",
       "      <td>2</td>\n",
       "      <td>Yes</td>\n",
       "      <td>No</td>\n",
       "      <td>DSL</td>\n",
       "      <td>Yes</td>\n",
       "      <td>Yes</td>\n",
       "      <td>No</td>\n",
       "      <td>No</td>\n",
       "      <td>No</td>\n",
       "      <td>No</td>\n",
       "      <td>Month-to-month</td>\n",
       "      <td>Yes</td>\n",
       "      <td>Mailed check</td>\n",
       "      <td>53.85</td>\n",
       "      <td>108.15</td>\n",
       "      <td>Yes</td>\n",
       "    </tr>\n",
       "    <tr>\n",
       "      <th>3</th>\n",
       "      <td>7795-CFOCW</td>\n",
       "      <td>Male</td>\n",
       "      <td>0</td>\n",
       "      <td>No</td>\n",
       "      <td>No</td>\n",
       "      <td>45</td>\n",
       "      <td>No</td>\n",
       "      <td>No phone service</td>\n",
       "      <td>DSL</td>\n",
       "      <td>Yes</td>\n",
       "      <td>No</td>\n",
       "      <td>Yes</td>\n",
       "      <td>Yes</td>\n",
       "      <td>No</td>\n",
       "      <td>No</td>\n",
       "      <td>One year</td>\n",
       "      <td>No</td>\n",
       "      <td>Bank transfer (automatic)</td>\n",
       "      <td>42.30</td>\n",
       "      <td>1840.75</td>\n",
       "      <td>No</td>\n",
       "    </tr>\n",
       "    <tr>\n",
       "      <th>4</th>\n",
       "      <td>9237-HQITU</td>\n",
       "      <td>Female</td>\n",
       "      <td>0</td>\n",
       "      <td>No</td>\n",
       "      <td>No</td>\n",
       "      <td>2</td>\n",
       "      <td>Yes</td>\n",
       "      <td>No</td>\n",
       "      <td>Fiber optic</td>\n",
       "      <td>No</td>\n",
       "      <td>No</td>\n",
       "      <td>No</td>\n",
       "      <td>No</td>\n",
       "      <td>No</td>\n",
       "      <td>No</td>\n",
       "      <td>Month-to-month</td>\n",
       "      <td>Yes</td>\n",
       "      <td>Electronic check</td>\n",
       "      <td>70.70</td>\n",
       "      <td>151.65</td>\n",
       "      <td>Yes</td>\n",
       "    </tr>\n",
       "  </tbody>\n",
       "</table>\n",
       "</div>"
      ],
      "text/plain": [
       "   customerID  gender  SeniorCitizen Partner Dependents  tenure PhoneService  \\\n",
       "0  7590-VHVEG  Female              0     Yes         No       1           No   \n",
       "1  5575-GNVDE    Male              0      No         No      34          Yes   \n",
       "2  3668-QPYBK    Male              0      No         No       2          Yes   \n",
       "3  7795-CFOCW    Male              0      No         No      45           No   \n",
       "4  9237-HQITU  Female              0      No         No       2          Yes   \n",
       "\n",
       "      MultipleLines InternetService OnlineSecurity OnlineBackup  \\\n",
       "0  No phone service             DSL             No          Yes   \n",
       "1                No             DSL            Yes           No   \n",
       "2                No             DSL            Yes          Yes   \n",
       "3  No phone service             DSL            Yes           No   \n",
       "4                No     Fiber optic             No           No   \n",
       "\n",
       "  DeviceProtection TechSupport StreamingTV StreamingMovies        Contract  \\\n",
       "0               No          No          No              No  Month-to-month   \n",
       "1              Yes          No          No              No        One year   \n",
       "2               No          No          No              No  Month-to-month   \n",
       "3              Yes         Yes          No              No        One year   \n",
       "4               No          No          No              No  Month-to-month   \n",
       "\n",
       "  PaperlessBilling              PaymentMethod  MonthlyCharges  TotalCharges  \\\n",
       "0              Yes           Electronic check           29.85         29.85   \n",
       "1               No               Mailed check           56.95       1889.50   \n",
       "2              Yes               Mailed check           53.85        108.15   \n",
       "3               No  Bank transfer (automatic)           42.30       1840.75   \n",
       "4              Yes           Electronic check           70.70        151.65   \n",
       "\n",
       "  Churn  \n",
       "0    No  \n",
       "1    No  \n",
       "2   Yes  \n",
       "3    No  \n",
       "4   Yes  "
      ]
     },
     "execution_count": 19,
     "metadata": {},
     "output_type": "execute_result"
    }
   ],
   "source": [
    "df.head(5)"
   ]
  },
  {
   "cell_type": "markdown",
   "metadata": {},
   "source": [
    "> To see the cardinality"
   ]
  },
  {
   "cell_type": "code",
   "execution_count": 20,
   "metadata": {},
   "outputs": [
    {
     "name": "stdout",
     "output_type": "stream",
     "text": [
      "customerID  berisi  7032  labels\n",
      "gender  berisi  2  labels\n",
      "Partner  berisi  2  labels\n",
      "Dependents  berisi  2  labels\n",
      "PhoneService  berisi  2  labels\n",
      "MultipleLines  berisi  3  labels\n",
      "InternetService  berisi  3  labels\n",
      "OnlineSecurity  berisi  3  labels\n",
      "OnlineBackup  berisi  3  labels\n",
      "DeviceProtection  berisi  3  labels\n",
      "TechSupport  berisi  3  labels\n",
      "StreamingTV  berisi  3  labels\n",
      "StreamingMovies  berisi  3  labels\n",
      "Contract  berisi  3  labels\n",
      "PaperlessBilling  berisi  2  labels\n",
      "PaymentMethod  berisi  4  labels\n",
      "Churn  berisi  2  labels\n"
     ]
    }
   ],
   "source": [
    "\n",
    "for var in cat_col:\n",
    "    \n",
    "    print(var, ' berisi ', len(df[var].unique()), ' labels')"
   ]
  },
  {
   "cell_type": "markdown",
   "metadata": {},
   "source": [
    "I think the customerID will to drop, cause customerID have big cardinality and I don't use that"
   ]
  },
  {
   "cell_type": "code",
   "execution_count": 21,
   "metadata": {},
   "outputs": [],
   "source": [
    "#Drop column customerID\n",
    "df = df.drop(['customerID'], axis=1)"
   ]
  },
  {
   "cell_type": "code",
   "execution_count": 22,
   "metadata": {},
   "outputs": [
    {
     "data": {
      "text/html": [
       "<div>\n",
       "<style scoped>\n",
       "    .dataframe tbody tr th:only-of-type {\n",
       "        vertical-align: middle;\n",
       "    }\n",
       "\n",
       "    .dataframe tbody tr th {\n",
       "        vertical-align: top;\n",
       "    }\n",
       "\n",
       "    .dataframe thead th {\n",
       "        text-align: right;\n",
       "    }\n",
       "</style>\n",
       "<table border=\"1\" class=\"dataframe\">\n",
       "  <thead>\n",
       "    <tr style=\"text-align: right;\">\n",
       "      <th></th>\n",
       "      <th>gender</th>\n",
       "      <th>SeniorCitizen</th>\n",
       "      <th>Partner</th>\n",
       "      <th>Dependents</th>\n",
       "      <th>tenure</th>\n",
       "      <th>PhoneService</th>\n",
       "      <th>MultipleLines</th>\n",
       "      <th>InternetService</th>\n",
       "      <th>OnlineSecurity</th>\n",
       "      <th>OnlineBackup</th>\n",
       "      <th>DeviceProtection</th>\n",
       "      <th>TechSupport</th>\n",
       "      <th>StreamingTV</th>\n",
       "      <th>StreamingMovies</th>\n",
       "      <th>Contract</th>\n",
       "      <th>PaperlessBilling</th>\n",
       "      <th>PaymentMethod</th>\n",
       "      <th>MonthlyCharges</th>\n",
       "      <th>TotalCharges</th>\n",
       "      <th>Churn</th>\n",
       "    </tr>\n",
       "  </thead>\n",
       "  <tbody>\n",
       "    <tr>\n",
       "      <th>0</th>\n",
       "      <td>Female</td>\n",
       "      <td>0</td>\n",
       "      <td>Yes</td>\n",
       "      <td>No</td>\n",
       "      <td>1</td>\n",
       "      <td>No</td>\n",
       "      <td>No phone service</td>\n",
       "      <td>DSL</td>\n",
       "      <td>No</td>\n",
       "      <td>Yes</td>\n",
       "      <td>No</td>\n",
       "      <td>No</td>\n",
       "      <td>No</td>\n",
       "      <td>No</td>\n",
       "      <td>Month-to-month</td>\n",
       "      <td>Yes</td>\n",
       "      <td>Electronic check</td>\n",
       "      <td>29.85</td>\n",
       "      <td>29.85</td>\n",
       "      <td>No</td>\n",
       "    </tr>\n",
       "    <tr>\n",
       "      <th>1</th>\n",
       "      <td>Male</td>\n",
       "      <td>0</td>\n",
       "      <td>No</td>\n",
       "      <td>No</td>\n",
       "      <td>34</td>\n",
       "      <td>Yes</td>\n",
       "      <td>No</td>\n",
       "      <td>DSL</td>\n",
       "      <td>Yes</td>\n",
       "      <td>No</td>\n",
       "      <td>Yes</td>\n",
       "      <td>No</td>\n",
       "      <td>No</td>\n",
       "      <td>No</td>\n",
       "      <td>One year</td>\n",
       "      <td>No</td>\n",
       "      <td>Mailed check</td>\n",
       "      <td>56.95</td>\n",
       "      <td>1889.50</td>\n",
       "      <td>No</td>\n",
       "    </tr>\n",
       "    <tr>\n",
       "      <th>2</th>\n",
       "      <td>Male</td>\n",
       "      <td>0</td>\n",
       "      <td>No</td>\n",
       "      <td>No</td>\n",
       "      <td>2</td>\n",
       "      <td>Yes</td>\n",
       "      <td>No</td>\n",
       "      <td>DSL</td>\n",
       "      <td>Yes</td>\n",
       "      <td>Yes</td>\n",
       "      <td>No</td>\n",
       "      <td>No</td>\n",
       "      <td>No</td>\n",
       "      <td>No</td>\n",
       "      <td>Month-to-month</td>\n",
       "      <td>Yes</td>\n",
       "      <td>Mailed check</td>\n",
       "      <td>53.85</td>\n",
       "      <td>108.15</td>\n",
       "      <td>Yes</td>\n",
       "    </tr>\n",
       "    <tr>\n",
       "      <th>3</th>\n",
       "      <td>Male</td>\n",
       "      <td>0</td>\n",
       "      <td>No</td>\n",
       "      <td>No</td>\n",
       "      <td>45</td>\n",
       "      <td>No</td>\n",
       "      <td>No phone service</td>\n",
       "      <td>DSL</td>\n",
       "      <td>Yes</td>\n",
       "      <td>No</td>\n",
       "      <td>Yes</td>\n",
       "      <td>Yes</td>\n",
       "      <td>No</td>\n",
       "      <td>No</td>\n",
       "      <td>One year</td>\n",
       "      <td>No</td>\n",
       "      <td>Bank transfer (automatic)</td>\n",
       "      <td>42.30</td>\n",
       "      <td>1840.75</td>\n",
       "      <td>No</td>\n",
       "    </tr>\n",
       "    <tr>\n",
       "      <th>4</th>\n",
       "      <td>Female</td>\n",
       "      <td>0</td>\n",
       "      <td>No</td>\n",
       "      <td>No</td>\n",
       "      <td>2</td>\n",
       "      <td>Yes</td>\n",
       "      <td>No</td>\n",
       "      <td>Fiber optic</td>\n",
       "      <td>No</td>\n",
       "      <td>No</td>\n",
       "      <td>No</td>\n",
       "      <td>No</td>\n",
       "      <td>No</td>\n",
       "      <td>No</td>\n",
       "      <td>Month-to-month</td>\n",
       "      <td>Yes</td>\n",
       "      <td>Electronic check</td>\n",
       "      <td>70.70</td>\n",
       "      <td>151.65</td>\n",
       "      <td>Yes</td>\n",
       "    </tr>\n",
       "  </tbody>\n",
       "</table>\n",
       "</div>"
      ],
      "text/plain": [
       "   gender  SeniorCitizen Partner Dependents  tenure PhoneService  \\\n",
       "0  Female              0     Yes         No       1           No   \n",
       "1    Male              0      No         No      34          Yes   \n",
       "2    Male              0      No         No       2          Yes   \n",
       "3    Male              0      No         No      45           No   \n",
       "4  Female              0      No         No       2          Yes   \n",
       "\n",
       "      MultipleLines InternetService OnlineSecurity OnlineBackup  \\\n",
       "0  No phone service             DSL             No          Yes   \n",
       "1                No             DSL            Yes           No   \n",
       "2                No             DSL            Yes          Yes   \n",
       "3  No phone service             DSL            Yes           No   \n",
       "4                No     Fiber optic             No           No   \n",
       "\n",
       "  DeviceProtection TechSupport StreamingTV StreamingMovies        Contract  \\\n",
       "0               No          No          No              No  Month-to-month   \n",
       "1              Yes          No          No              No        One year   \n",
       "2               No          No          No              No  Month-to-month   \n",
       "3              Yes         Yes          No              No        One year   \n",
       "4               No          No          No              No  Month-to-month   \n",
       "\n",
       "  PaperlessBilling              PaymentMethod  MonthlyCharges  TotalCharges  \\\n",
       "0              Yes           Electronic check           29.85         29.85   \n",
       "1               No               Mailed check           56.95       1889.50   \n",
       "2              Yes               Mailed check           53.85        108.15   \n",
       "3               No  Bank transfer (automatic)           42.30       1840.75   \n",
       "4              Yes           Electronic check           70.70        151.65   \n",
       "\n",
       "  Churn  \n",
       "0    No  \n",
       "1    No  \n",
       "2   Yes  \n",
       "3    No  \n",
       "4   Yes  "
      ]
     },
     "execution_count": 22,
     "metadata": {},
     "output_type": "execute_result"
    }
   ],
   "source": [
    "df.head(5)"
   ]
  },
  {
   "cell_type": "markdown",
   "metadata": {},
   "source": [
    "Already to drop that column"
   ]
  },
  {
   "cell_type": "code",
   "execution_count": 23,
   "metadata": {},
   "outputs": [],
   "source": [
    "num_col = df.select_dtypes(include=np.number).columns.tolist()\n",
    "cat_col = df.select_dtypes(include=object).columns.tolist()"
   ]
  },
  {
   "cell_type": "code",
   "execution_count": 24,
   "metadata": {},
   "outputs": [
    {
     "data": {
      "text/plain": [
       "['gender',\n",
       " 'Partner',\n",
       " 'Dependents',\n",
       " 'PhoneService',\n",
       " 'MultipleLines',\n",
       " 'InternetService',\n",
       " 'OnlineSecurity',\n",
       " 'OnlineBackup',\n",
       " 'DeviceProtection',\n",
       " 'TechSupport',\n",
       " 'StreamingTV',\n",
       " 'StreamingMovies',\n",
       " 'Contract',\n",
       " 'PaperlessBilling',\n",
       " 'PaymentMethod',\n",
       " 'Churn']"
      ]
     },
     "execution_count": 24,
     "metadata": {},
     "output_type": "execute_result"
    }
   ],
   "source": [
    "cat_col"
   ]
  },
  {
   "cell_type": "markdown",
   "metadata": {},
   "source": [
    "Already remove that"
   ]
  },
  {
   "cell_type": "markdown",
   "metadata": {},
   "source": [
    "> Want to know distribution of target label"
   ]
  },
  {
   "cell_type": "code",
   "execution_count": 25,
   "metadata": {},
   "outputs": [
    {
     "data": {
      "application/vnd.plotly.v1+json": {
       "config": {
        "linkText": "Export to plot.ly",
        "plotlyServerURL": "https://plot.ly",
        "showLink": false
       },
       "data": [
        {
         "labels": [
          "No",
          "Yes"
         ],
         "marker": {
          "colors": [
           "DeepPink",
           "DodgerBlue"
          ],
          "line": {
           "color": "#000000",
           "width": 1.5
          }
         },
         "opacity": 0.8,
         "textfont": {
          "size": 15
         },
         "type": "pie",
         "values": [
          5163,
          1869
         ]
        }
       ],
       "layout": {
        "template": {
         "data": {
          "bar": [
           {
            "error_x": {
             "color": "#2a3f5f"
            },
            "error_y": {
             "color": "#2a3f5f"
            },
            "marker": {
             "line": {
              "color": "#E5ECF6",
              "width": 0.5
             },
             "pattern": {
              "fillmode": "overlay",
              "size": 10,
              "solidity": 0.2
             }
            },
            "type": "bar"
           }
          ],
          "barpolar": [
           {
            "marker": {
             "line": {
              "color": "#E5ECF6",
              "width": 0.5
             },
             "pattern": {
              "fillmode": "overlay",
              "size": 10,
              "solidity": 0.2
             }
            },
            "type": "barpolar"
           }
          ],
          "carpet": [
           {
            "aaxis": {
             "endlinecolor": "#2a3f5f",
             "gridcolor": "white",
             "linecolor": "white",
             "minorgridcolor": "white",
             "startlinecolor": "#2a3f5f"
            },
            "baxis": {
             "endlinecolor": "#2a3f5f",
             "gridcolor": "white",
             "linecolor": "white",
             "minorgridcolor": "white",
             "startlinecolor": "#2a3f5f"
            },
            "type": "carpet"
           }
          ],
          "choropleth": [
           {
            "colorbar": {
             "outlinewidth": 0,
             "ticks": ""
            },
            "type": "choropleth"
           }
          ],
          "contour": [
           {
            "colorbar": {
             "outlinewidth": 0,
             "ticks": ""
            },
            "colorscale": [
             [
              0,
              "#0d0887"
             ],
             [
              0.1111111111111111,
              "#46039f"
             ],
             [
              0.2222222222222222,
              "#7201a8"
             ],
             [
              0.3333333333333333,
              "#9c179e"
             ],
             [
              0.4444444444444444,
              "#bd3786"
             ],
             [
              0.5555555555555556,
              "#d8576b"
             ],
             [
              0.6666666666666666,
              "#ed7953"
             ],
             [
              0.7777777777777778,
              "#fb9f3a"
             ],
             [
              0.8888888888888888,
              "#fdca26"
             ],
             [
              1,
              "#f0f921"
             ]
            ],
            "type": "contour"
           }
          ],
          "contourcarpet": [
           {
            "colorbar": {
             "outlinewidth": 0,
             "ticks": ""
            },
            "type": "contourcarpet"
           }
          ],
          "heatmap": [
           {
            "colorbar": {
             "outlinewidth": 0,
             "ticks": ""
            },
            "colorscale": [
             [
              0,
              "#0d0887"
             ],
             [
              0.1111111111111111,
              "#46039f"
             ],
             [
              0.2222222222222222,
              "#7201a8"
             ],
             [
              0.3333333333333333,
              "#9c179e"
             ],
             [
              0.4444444444444444,
              "#bd3786"
             ],
             [
              0.5555555555555556,
              "#d8576b"
             ],
             [
              0.6666666666666666,
              "#ed7953"
             ],
             [
              0.7777777777777778,
              "#fb9f3a"
             ],
             [
              0.8888888888888888,
              "#fdca26"
             ],
             [
              1,
              "#f0f921"
             ]
            ],
            "type": "heatmap"
           }
          ],
          "heatmapgl": [
           {
            "colorbar": {
             "outlinewidth": 0,
             "ticks": ""
            },
            "colorscale": [
             [
              0,
              "#0d0887"
             ],
             [
              0.1111111111111111,
              "#46039f"
             ],
             [
              0.2222222222222222,
              "#7201a8"
             ],
             [
              0.3333333333333333,
              "#9c179e"
             ],
             [
              0.4444444444444444,
              "#bd3786"
             ],
             [
              0.5555555555555556,
              "#d8576b"
             ],
             [
              0.6666666666666666,
              "#ed7953"
             ],
             [
              0.7777777777777778,
              "#fb9f3a"
             ],
             [
              0.8888888888888888,
              "#fdca26"
             ],
             [
              1,
              "#f0f921"
             ]
            ],
            "type": "heatmapgl"
           }
          ],
          "histogram": [
           {
            "marker": {
             "pattern": {
              "fillmode": "overlay",
              "size": 10,
              "solidity": 0.2
             }
            },
            "type": "histogram"
           }
          ],
          "histogram2d": [
           {
            "colorbar": {
             "outlinewidth": 0,
             "ticks": ""
            },
            "colorscale": [
             [
              0,
              "#0d0887"
             ],
             [
              0.1111111111111111,
              "#46039f"
             ],
             [
              0.2222222222222222,
              "#7201a8"
             ],
             [
              0.3333333333333333,
              "#9c179e"
             ],
             [
              0.4444444444444444,
              "#bd3786"
             ],
             [
              0.5555555555555556,
              "#d8576b"
             ],
             [
              0.6666666666666666,
              "#ed7953"
             ],
             [
              0.7777777777777778,
              "#fb9f3a"
             ],
             [
              0.8888888888888888,
              "#fdca26"
             ],
             [
              1,
              "#f0f921"
             ]
            ],
            "type": "histogram2d"
           }
          ],
          "histogram2dcontour": [
           {
            "colorbar": {
             "outlinewidth": 0,
             "ticks": ""
            },
            "colorscale": [
             [
              0,
              "#0d0887"
             ],
             [
              0.1111111111111111,
              "#46039f"
             ],
             [
              0.2222222222222222,
              "#7201a8"
             ],
             [
              0.3333333333333333,
              "#9c179e"
             ],
             [
              0.4444444444444444,
              "#bd3786"
             ],
             [
              0.5555555555555556,
              "#d8576b"
             ],
             [
              0.6666666666666666,
              "#ed7953"
             ],
             [
              0.7777777777777778,
              "#fb9f3a"
             ],
             [
              0.8888888888888888,
              "#fdca26"
             ],
             [
              1,
              "#f0f921"
             ]
            ],
            "type": "histogram2dcontour"
           }
          ],
          "mesh3d": [
           {
            "colorbar": {
             "outlinewidth": 0,
             "ticks": ""
            },
            "type": "mesh3d"
           }
          ],
          "parcoords": [
           {
            "line": {
             "colorbar": {
              "outlinewidth": 0,
              "ticks": ""
             }
            },
            "type": "parcoords"
           }
          ],
          "pie": [
           {
            "automargin": true,
            "type": "pie"
           }
          ],
          "scatter": [
           {
            "marker": {
             "colorbar": {
              "outlinewidth": 0,
              "ticks": ""
             }
            },
            "type": "scatter"
           }
          ],
          "scatter3d": [
           {
            "line": {
             "colorbar": {
              "outlinewidth": 0,
              "ticks": ""
             }
            },
            "marker": {
             "colorbar": {
              "outlinewidth": 0,
              "ticks": ""
             }
            },
            "type": "scatter3d"
           }
          ],
          "scattercarpet": [
           {
            "marker": {
             "colorbar": {
              "outlinewidth": 0,
              "ticks": ""
             }
            },
            "type": "scattercarpet"
           }
          ],
          "scattergeo": [
           {
            "marker": {
             "colorbar": {
              "outlinewidth": 0,
              "ticks": ""
             }
            },
            "type": "scattergeo"
           }
          ],
          "scattergl": [
           {
            "marker": {
             "colorbar": {
              "outlinewidth": 0,
              "ticks": ""
             }
            },
            "type": "scattergl"
           }
          ],
          "scattermapbox": [
           {
            "marker": {
             "colorbar": {
              "outlinewidth": 0,
              "ticks": ""
             }
            },
            "type": "scattermapbox"
           }
          ],
          "scatterpolar": [
           {
            "marker": {
             "colorbar": {
              "outlinewidth": 0,
              "ticks": ""
             }
            },
            "type": "scatterpolar"
           }
          ],
          "scatterpolargl": [
           {
            "marker": {
             "colorbar": {
              "outlinewidth": 0,
              "ticks": ""
             }
            },
            "type": "scatterpolargl"
           }
          ],
          "scatterternary": [
           {
            "marker": {
             "colorbar": {
              "outlinewidth": 0,
              "ticks": ""
             }
            },
            "type": "scatterternary"
           }
          ],
          "surface": [
           {
            "colorbar": {
             "outlinewidth": 0,
             "ticks": ""
            },
            "colorscale": [
             [
              0,
              "#0d0887"
             ],
             [
              0.1111111111111111,
              "#46039f"
             ],
             [
              0.2222222222222222,
              "#7201a8"
             ],
             [
              0.3333333333333333,
              "#9c179e"
             ],
             [
              0.4444444444444444,
              "#bd3786"
             ],
             [
              0.5555555555555556,
              "#d8576b"
             ],
             [
              0.6666666666666666,
              "#ed7953"
             ],
             [
              0.7777777777777778,
              "#fb9f3a"
             ],
             [
              0.8888888888888888,
              "#fdca26"
             ],
             [
              1,
              "#f0f921"
             ]
            ],
            "type": "surface"
           }
          ],
          "table": [
           {
            "cells": {
             "fill": {
              "color": "#EBF0F8"
             },
             "line": {
              "color": "white"
             }
            },
            "header": {
             "fill": {
              "color": "#C8D4E3"
             },
             "line": {
              "color": "white"
             }
            },
            "type": "table"
           }
          ]
         },
         "layout": {
          "annotationdefaults": {
           "arrowcolor": "#2a3f5f",
           "arrowhead": 0,
           "arrowwidth": 1
          },
          "autotypenumbers": "strict",
          "coloraxis": {
           "colorbar": {
            "outlinewidth": 0,
            "ticks": ""
           }
          },
          "colorscale": {
           "diverging": [
            [
             0,
             "#8e0152"
            ],
            [
             0.1,
             "#c51b7d"
            ],
            [
             0.2,
             "#de77ae"
            ],
            [
             0.3,
             "#f1b6da"
            ],
            [
             0.4,
             "#fde0ef"
            ],
            [
             0.5,
             "#f7f7f7"
            ],
            [
             0.6,
             "#e6f5d0"
            ],
            [
             0.7,
             "#b8e186"
            ],
            [
             0.8,
             "#7fbc41"
            ],
            [
             0.9,
             "#4d9221"
            ],
            [
             1,
             "#276419"
            ]
           ],
           "sequential": [
            [
             0,
             "#0d0887"
            ],
            [
             0.1111111111111111,
             "#46039f"
            ],
            [
             0.2222222222222222,
             "#7201a8"
            ],
            [
             0.3333333333333333,
             "#9c179e"
            ],
            [
             0.4444444444444444,
             "#bd3786"
            ],
            [
             0.5555555555555556,
             "#d8576b"
            ],
            [
             0.6666666666666666,
             "#ed7953"
            ],
            [
             0.7777777777777778,
             "#fb9f3a"
            ],
            [
             0.8888888888888888,
             "#fdca26"
            ],
            [
             1,
             "#f0f921"
            ]
           ],
           "sequentialminus": [
            [
             0,
             "#0d0887"
            ],
            [
             0.1111111111111111,
             "#46039f"
            ],
            [
             0.2222222222222222,
             "#7201a8"
            ],
            [
             0.3333333333333333,
             "#9c179e"
            ],
            [
             0.4444444444444444,
             "#bd3786"
            ],
            [
             0.5555555555555556,
             "#d8576b"
            ],
            [
             0.6666666666666666,
             "#ed7953"
            ],
            [
             0.7777777777777778,
             "#fb9f3a"
            ],
            [
             0.8888888888888888,
             "#fdca26"
            ],
            [
             1,
             "#f0f921"
            ]
           ]
          },
          "colorway": [
           "#636efa",
           "#EF553B",
           "#00cc96",
           "#ab63fa",
           "#FFA15A",
           "#19d3f3",
           "#FF6692",
           "#B6E880",
           "#FF97FF",
           "#FECB52"
          ],
          "font": {
           "color": "#2a3f5f"
          },
          "geo": {
           "bgcolor": "white",
           "lakecolor": "white",
           "landcolor": "#E5ECF6",
           "showlakes": true,
           "showland": true,
           "subunitcolor": "white"
          },
          "hoverlabel": {
           "align": "left"
          },
          "hovermode": "closest",
          "mapbox": {
           "style": "light"
          },
          "paper_bgcolor": "white",
          "plot_bgcolor": "#E5ECF6",
          "polar": {
           "angularaxis": {
            "gridcolor": "white",
            "linecolor": "white",
            "ticks": ""
           },
           "bgcolor": "#E5ECF6",
           "radialaxis": {
            "gridcolor": "white",
            "linecolor": "white",
            "ticks": ""
           }
          },
          "scene": {
           "xaxis": {
            "backgroundcolor": "#E5ECF6",
            "gridcolor": "white",
            "gridwidth": 2,
            "linecolor": "white",
            "showbackground": true,
            "ticks": "",
            "zerolinecolor": "white"
           },
           "yaxis": {
            "backgroundcolor": "#E5ECF6",
            "gridcolor": "white",
            "gridwidth": 2,
            "linecolor": "white",
            "showbackground": true,
            "ticks": "",
            "zerolinecolor": "white"
           },
           "zaxis": {
            "backgroundcolor": "#E5ECF6",
            "gridcolor": "white",
            "gridwidth": 2,
            "linecolor": "white",
            "showbackground": true,
            "ticks": "",
            "zerolinecolor": "white"
           }
          },
          "shapedefaults": {
           "line": {
            "color": "#2a3f5f"
           }
          },
          "ternary": {
           "aaxis": {
            "gridcolor": "white",
            "linecolor": "white",
            "ticks": ""
           },
           "baxis": {
            "gridcolor": "white",
            "linecolor": "white",
            "ticks": ""
           },
           "bgcolor": "#E5ECF6",
           "caxis": {
            "gridcolor": "white",
            "linecolor": "white",
            "ticks": ""
           }
          },
          "title": {
           "x": 0.05
          },
          "xaxis": {
           "automargin": true,
           "gridcolor": "white",
           "linecolor": "white",
           "ticks": "",
           "title": {
            "standoff": 15
           },
           "zerolinecolor": "white",
           "zerolinewidth": 2
          },
          "yaxis": {
           "automargin": true,
           "gridcolor": "white",
           "linecolor": "white",
           "ticks": "",
           "title": {
            "standoff": 15
           },
           "zerolinecolor": "white",
           "zerolinewidth": 2
          }
         }
        },
        "title": {
         "text": "Persentase Churn"
        }
       }
      }
     },
     "metadata": {},
     "output_type": "display_data"
    },
    {
     "data": {
      "image/png": "[encoded data removed]",
      "text/plain": [
       "<Figure size 432x288 with 1 Axes>"
      ]
     },
     "metadata": {
      "needs_background": "light"
     },
     "output_type": "display_data"
    }
   ],
   "source": [
    "# pie chart\n",
    "trace = go.Pie(labels = ['No','Yes'],\n",
    "               values = df['Churn'].value_counts(),\n",
    "               textfont=dict(size=15), opacity = 0.8,\n",
    "               marker=dict(colors=[ 'DeepPink', 'DodgerBlue'], line=dict(color='#000000', width=1.5)))\n",
    "\n",
    "\n",
    "layout = dict(title = 'Persentase Churn')\n",
    "           \n",
    "fig = dict(data = [trace], layout=layout)\n",
    "py.iplot(fig)\n",
    "\n",
    "#bar chart\n",
    "test =sns.countplot(x=\"Churn\", data=df, palette=\"Set1\")\n",
    "test.set_title(\"Frequency distribution of Churn variable\")\n",
    "\n",
    "plt.show()"
   ]
  },
  {
   "cell_type": "markdown",
   "metadata": {},
   "source": [
    "Here it can be seen that 73.4% in the `Churn` column is value no while 26.6% is value yes"
   ]
  },
  {
   "cell_type": "markdown",
   "metadata": {},
   "source": [
    "And than, I want to know distribution of numerical data in this data set"
   ]
  },
  {
   "cell_type": "code",
   "execution_count": 26,
   "metadata": {},
   "outputs": [
    {
     "data": {
      "image/png": "[encoded data removed]",
      "text/plain": [
       "<Figure size 1440x1080 with 4 Axes>"
      ]
     },
     "metadata": {
      "needs_background": "light"
     },
     "output_type": "display_data"
    }
   ],
   "source": [
    "#To know the distribution of data numerical in dataset\n",
    "df.hist()\n",
    "plt.gcf().set_size_inches(20, 15)\n",
    "plt.show()"
   ]
  },
  {
   "cell_type": "markdown",
   "metadata": {},
   "source": [
    "For that information, we know that numerical column all skewed"
   ]
  },
  {
   "cell_type": "markdown",
   "metadata": {},
   "source": [
    "> Want to know distribution data for catagorical column to target"
   ]
  },
  {
   "cell_type": "code",
   "execution_count": 27,
   "metadata": {},
   "outputs": [
    {
     "data": {
      "image/png": "[encoded data removed]",
      "text/plain": [
       "<Figure size 1224x360 with 1 Axes>"
      ]
     },
     "metadata": {
      "needs_background": "light"
     },
     "output_type": "display_data"
    },
    {
     "data": {
      "image/png": "[encoded data removed]",
      "text/plain": [
       "<Figure size 1224x360 with 1 Axes>"
      ]
     },
     "metadata": {
      "needs_background": "light"
     },
     "output_type": "display_data"
    },
    {
     "data": {
      "image/png": "[encoded data removed]",
      "text/plain": [
       "<Figure size 1224x360 with 1 Axes>"
      ]
     },
     "metadata": {
      "needs_background": "light"
     },
     "output_type": "display_data"
    },
    {
     "data": {
      "image/png": "[encoded data removed]",
      "text/plain": [
       "<Figure size 1224x360 with 1 Axes>"
      ]
     },
     "metadata": {
      "needs_background": "light"
     },
     "output_type": "display_data"
    },
    {
     "data": {
      "image/png": "[encoded data removed]",
      "text/plain": [
       "<Figure size 1224x360 with 1 Axes>"
      ]
     },
     "metadata": {
      "needs_background": "light"
     },
     "output_type": "display_data"
    },
    {
     "data": {
      "image/png": "[encoded data removed]",
      "text/plain": [
       "<Figure size 1224x360 with 1 Axes>"
      ]
     },
     "metadata": {
      "needs_background": "light"
     },
     "output_type": "display_data"
    },
    {
     "data": {
      "image/png": "[encoded data removed]",
      "text/plain": [
       "<Figure size 1224x360 with 1 Axes>"
      ]
     },
     "metadata": {
      "needs_background": "light"
     },
     "output_type": "display_data"
    },
    {
     "data": {
      "image/png": "[encoded data removed]",
      "text/plain": [
       "<Figure size 1224x360 with 1 Axes>"
      ]
     },
     "metadata": {
      "needs_background": "light"
     },
     "output_type": "display_data"
    },
    {
     "data": {
      "image/png": "[encoded data removed]",
      "text/plain": [
       "<Figure size 1224x360 with 1 Axes>"
      ]
     },
     "metadata": {
      "needs_background": "light"
     },
     "output_type": "display_data"
    },
    {
     "data": {
      "image/png": "[encoded data removed]",
      "text/plain": [
       "<Figure size 1224x360 with 1 Axes>"
      ]
     },
     "metadata": {
      "needs_background": "light"
     },
     "output_type": "display_data"
    },
    {
     "data": {
      "image/png": "[encoded data removed]",
      "text/plain": [
       "<Figure size 1224x360 with 1 Axes>"
      ]
     },
     "metadata": {
      "needs_background": "light"
     },
     "output_type": "display_data"
    },
    {
     "data": {
      "image/png": "[encoded data removed]",
      "text/plain": [
       "<Figure size 1224x360 with 1 Axes>"
      ]
     },
     "metadata": {
      "needs_background": "light"
     },
     "output_type": "display_data"
    },
    {
     "data": {
      "image/png": "[encoded data removed]",
      "text/plain": [
       "<Figure size 1224x360 with 1 Axes>"
      ]
     },
     "metadata": {
      "needs_background": "light"
     },
     "output_type": "display_data"
    },
    {
     "data": {
      "image/png": "[encoded data removed]",
      "text/plain": [
       "<Figure size 1224x360 with 1 Axes>"
      ]
     },
     "metadata": {
      "needs_background": "light"
     },
     "output_type": "display_data"
    },
    {
     "data": {
      "image/png": "[encoded data removed]",
      "text/plain": [
       "<Figure size 1224x360 with 1 Axes>"
      ]
     },
     "metadata": {
      "needs_background": "light"
     },
     "output_type": "display_data"
    },
    {
     "data": {
      "image/png": "[encoded data removed]",
      "text/plain": [
       "<Figure size 1224x360 with 1 Axes>"
      ]
     },
     "metadata": {
      "needs_background": "light"
     },
     "output_type": "display_data"
    }
   ],
   "source": [
    "for col in cat_col:\n",
    "    plt.figure(figsize=(17,5))\n",
    "    sns.countplot(x=col, hue=\"Churn\", data=df, palette=\"Set1\")\n",
    "    plt.title(col)\n",
    "    plt.xticks(rotation=90)\n",
    "    plt.legend(loc='upper right')\n",
    "    plt.show()"
   ]
  },
  {
   "cell_type": "markdown",
   "metadata": {},
   "source": [
    "Thats all for distribusion data for catagorical column to Target we know that:\n",
    "- For gender column: for column `Churn` value no it is dominated by Male, indicating that males are more likely to don't leave services than females\n",
    "- For Partner Column : For column `Churn` value no, it is dominated by those who have partners, it means those who have partners don't leave the service more often than those who don't have partners\n",
    "- For Dependants Column : For column `Churn` value no, dominated by those who don't have dependents, it means that many people who don't  have dependents don't leave the service compared to those who have dependents\n",
    "- For PhoneService Column: For column `Churn` value no, dominated by those who have PhoneService, That means many people who have PhoneService don't leave the service\n",
    "- For MultipleLines Column: For column `Churn` value no, dominated by those who don't have MultipleLines, that means many people who don't have MultipleLines don't leave the service\n",
    "- For Internet Service Column: For column `Churn` value no, dominated by Using DSL as an internet service, it means many people who use DSL don't leave the service\n",
    "- For Online Security Column: For column `Churn` value no, dominated by those who don't use online security, it means that many people who don't use online security don't leave the service\n",
    "- For Online Backup Column: For column `Churn` value no, dominated by those who have Online Backup , it means many people who have OnlineBackup don't leave the service\n",
    "- For Device Protection Column: For column `Churn` value no, dominated by those who  don't have Device Protection , that means many people who don't have Device Protection don't leave the service\n",
    "- For Tech Support Column: For column `Churn` value no, dominated by those who  don't have Tech Support , that means many people who  don't have TechSupport  don't leave the service\n",
    "- For Streaming TV Column: For column `Churn` value no, dominated by those who have streaming TV services, that means many people who have streaming TV services don't leave the service\n",
    "- For Streaming Movies Column: For column `Churn` value no, dominated by those who have Streaming Movies services, that means many people who have movie streaming services don't leave the service\n",
    "- For Contract Column: For column `Churn` value no, dominated by those who have Contracts for Month-to-month , that means many people who have contracts Month-to-month do not leave the service\n",
    "- For Paperless Billing Column: For column `Churn` value no, dominated by those who have Paperless Billing , meaning that many people who have Pepperless Billing do not leave the service\n",
    "\n"
   ]
  },
  {
   "cell_type": "markdown",
   "metadata": {},
   "source": [
    "> Feature Important "
   ]
  },
  {
   "cell_type": "code",
   "execution_count": 28,
   "metadata": {},
   "outputs": [
    {
     "data": {
      "image/png": "[encoded data removed]",
      "text/plain": [
       "<Figure size 432x288 with 1 Axes>"
      ]
     },
     "metadata": {
      "needs_background": "light"
     },
     "output_type": "display_data"
    }
   ],
   "source": [
    "\n",
    "df_copy['Churn'] = df_copy['Churn'] == 'Yes' #For change the churn to boolean\n",
    "\n",
    "for col in df_copy.columns:                     #Looping for change data type\n",
    "    if df_copy[col].dtype == 'object':\n",
    "        df_copy[col] = df_copy[col].astype('category').cat.codes\n",
    "\n",
    "#Use DecisionTreeClassifier for feature important\n",
    "tree = DecisionTreeClassifier(random_state=20)\n",
    "tree.fit(df_copy.drop(['Churn'], axis=1), df_copy['Churn'])\n",
    "_result = pd.DataFrame(tree.feature_importances_, index=df_copy.drop(['Churn'], axis=1).columns, columns=['Importance']).sort_values('Importance')\n",
    "plt.barh(_result.index, _result['Importance'])\n",
    "plt.xlabel('Importance');"
   ]
  },
  {
   "cell_type": "markdown",
   "metadata": {},
   "source": [
    "Here it can be seen that the important features of the dataset are:\n",
    "1. TotalCharges\n",
    "2. Monthly Charges\n",
    "3. Contract\n",
    "4. Tanure\n",
    "5. Online Security\n",
    "  \n",
    "This time I only used 5 features to be included in the model"
   ]
  },
  {
   "cell_type": "markdown",
   "metadata": {},
   "source": [
    "## Data Preprocessing\n",
    "> This section contains the process of preparing data for the model training process, such as dividing the data into train-dev-test, data transformation (normalization, encoding, etc.), and other necessary processes."
   ]
  },
  {
   "cell_type": "markdown",
   "metadata": {},
   "source": [
    "I want drop another column except 5 feature importent"
   ]
  },
  {
   "cell_type": "code",
   "execution_count": 29,
   "metadata": {},
   "outputs": [
    {
     "data": {
      "text/html": [
       "<div>\n",
       "<style scoped>\n",
       "    .dataframe tbody tr th:only-of-type {\n",
       "        vertical-align: middle;\n",
       "    }\n",
       "\n",
       "    .dataframe tbody tr th {\n",
       "        vertical-align: top;\n",
       "    }\n",
       "\n",
       "    .dataframe thead th {\n",
       "        text-align: right;\n",
       "    }\n",
       "</style>\n",
       "<table border=\"1\" class=\"dataframe\">\n",
       "  <thead>\n",
       "    <tr style=\"text-align: right;\">\n",
       "      <th></th>\n",
       "      <th>tenure</th>\n",
       "      <th>OnlineSecurity</th>\n",
       "      <th>Contract</th>\n",
       "      <th>MonthlyCharges</th>\n",
       "      <th>TotalCharges</th>\n",
       "      <th>Churn</th>\n",
       "    </tr>\n",
       "  </thead>\n",
       "  <tbody>\n",
       "    <tr>\n",
       "      <th>0</th>\n",
       "      <td>1</td>\n",
       "      <td>No</td>\n",
       "      <td>Month-to-month</td>\n",
       "      <td>29.85</td>\n",
       "      <td>29.85</td>\n",
       "      <td>No</td>\n",
       "    </tr>\n",
       "    <tr>\n",
       "      <th>1</th>\n",
       "      <td>34</td>\n",
       "      <td>Yes</td>\n",
       "      <td>One year</td>\n",
       "      <td>56.95</td>\n",
       "      <td>1889.50</td>\n",
       "      <td>No</td>\n",
       "    </tr>\n",
       "    <tr>\n",
       "      <th>2</th>\n",
       "      <td>2</td>\n",
       "      <td>Yes</td>\n",
       "      <td>Month-to-month</td>\n",
       "      <td>53.85</td>\n",
       "      <td>108.15</td>\n",
       "      <td>Yes</td>\n",
       "    </tr>\n",
       "    <tr>\n",
       "      <th>3</th>\n",
       "      <td>45</td>\n",
       "      <td>Yes</td>\n",
       "      <td>One year</td>\n",
       "      <td>42.30</td>\n",
       "      <td>1840.75</td>\n",
       "      <td>No</td>\n",
       "    </tr>\n",
       "    <tr>\n",
       "      <th>4</th>\n",
       "      <td>2</td>\n",
       "      <td>No</td>\n",
       "      <td>Month-to-month</td>\n",
       "      <td>70.70</td>\n",
       "      <td>151.65</td>\n",
       "      <td>Yes</td>\n",
       "    </tr>\n",
       "  </tbody>\n",
       "</table>\n",
       "</div>"
      ],
      "text/plain": [
       "   tenure OnlineSecurity        Contract  MonthlyCharges  TotalCharges Churn\n",
       "0       1             No  Month-to-month           29.85         29.85    No\n",
       "1      34            Yes        One year           56.95       1889.50    No\n",
       "2       2            Yes  Month-to-month           53.85        108.15   Yes\n",
       "3      45            Yes        One year           42.30       1840.75    No\n",
       "4       2             No  Month-to-month           70.70        151.65   Yes"
      ]
     },
     "execution_count": 29,
     "metadata": {},
     "output_type": "execute_result"
    }
   ],
   "source": [
    "#To droping another colomn\n",
    "df_fi = df.drop(['PhoneService','OnlineBackup','StreamingMovies','StreamingTV','Partner','SeniorCitizen','TechSupport','DeviceProtection','PaperlessBilling','Dependents','MultipleLines','gender','InternetService','PaymentMethod'], axis=1)\n",
    "df_fi.head()"
   ]
  },
  {
   "cell_type": "markdown",
   "metadata": {},
   "source": [
    "That's dataset would be use in this case"
   ]
  },
  {
   "cell_type": "code",
   "execution_count": 30,
   "metadata": {},
   "outputs": [
    {
     "data": {
      "text/html": [
       "<div>\n",
       "<style scoped>\n",
       "    .dataframe tbody tr th:only-of-type {\n",
       "        vertical-align: middle;\n",
       "    }\n",
       "\n",
       "    .dataframe tbody tr th {\n",
       "        vertical-align: top;\n",
       "    }\n",
       "\n",
       "    .dataframe thead th {\n",
       "        text-align: right;\n",
       "    }\n",
       "</style>\n",
       "<table border=\"1\" class=\"dataframe\">\n",
       "  <thead>\n",
       "    <tr style=\"text-align: right;\">\n",
       "      <th></th>\n",
       "      <th>tenure</th>\n",
       "      <th>OnlineSecurity</th>\n",
       "      <th>Contract</th>\n",
       "      <th>MonthlyCharges</th>\n",
       "      <th>TotalCharges</th>\n",
       "      <th>Churn</th>\n",
       "    </tr>\n",
       "  </thead>\n",
       "  <tbody>\n",
       "    <tr>\n",
       "      <th>0</th>\n",
       "      <td>1</td>\n",
       "      <td>No</td>\n",
       "      <td>Month-to-month</td>\n",
       "      <td>29.85</td>\n",
       "      <td>29.85</td>\n",
       "      <td>No</td>\n",
       "    </tr>\n",
       "    <tr>\n",
       "      <th>1</th>\n",
       "      <td>34</td>\n",
       "      <td>Yes</td>\n",
       "      <td>One year</td>\n",
       "      <td>56.95</td>\n",
       "      <td>1889.50</td>\n",
       "      <td>No</td>\n",
       "    </tr>\n",
       "    <tr>\n",
       "      <th>2</th>\n",
       "      <td>2</td>\n",
       "      <td>Yes</td>\n",
       "      <td>Month-to-month</td>\n",
       "      <td>53.85</td>\n",
       "      <td>108.15</td>\n",
       "      <td>Yes</td>\n",
       "    </tr>\n",
       "    <tr>\n",
       "      <th>3</th>\n",
       "      <td>45</td>\n",
       "      <td>Yes</td>\n",
       "      <td>One year</td>\n",
       "      <td>42.30</td>\n",
       "      <td>1840.75</td>\n",
       "      <td>No</td>\n",
       "    </tr>\n",
       "    <tr>\n",
       "      <th>4</th>\n",
       "      <td>2</td>\n",
       "      <td>No</td>\n",
       "      <td>Month-to-month</td>\n",
       "      <td>70.70</td>\n",
       "      <td>151.65</td>\n",
       "      <td>Yes</td>\n",
       "    </tr>\n",
       "  </tbody>\n",
       "</table>\n",
       "</div>"
      ],
      "text/plain": [
       "   tenure OnlineSecurity        Contract  MonthlyCharges  TotalCharges Churn\n",
       "0       1             No  Month-to-month           29.85         29.85    No\n",
       "1      34            Yes        One year           56.95       1889.50    No\n",
       "2       2            Yes  Month-to-month           53.85        108.15   Yes\n",
       "3      45            Yes        One year           42.30       1840.75    No\n",
       "4       2             No  Month-to-month           70.70        151.65   Yes"
      ]
     },
     "execution_count": 30,
     "metadata": {},
     "output_type": "execute_result"
    }
   ],
   "source": [
    "df_fi.head()"
   ]
  },
  {
   "cell_type": "markdown",
   "metadata": {},
   "source": [
    "Kemudian membuat data inferencenya"
   ]
  },
  {
   "cell_type": "markdown",
   "metadata": {},
   "source": [
    "## Spilliting DataSet"
   ]
  },
  {
   "cell_type": "code",
   "execution_count": 31,
   "metadata": {},
   "outputs": [
    {
     "data": {
      "text/html": [
       "<div>\n",
       "<style scoped>\n",
       "    .dataframe tbody tr th:only-of-type {\n",
       "        vertical-align: middle;\n",
       "    }\n",
       "\n",
       "    .dataframe tbody tr th {\n",
       "        vertical-align: top;\n",
       "    }\n",
       "\n",
       "    .dataframe thead th {\n",
       "        text-align: right;\n",
       "    }\n",
       "</style>\n",
       "<table border=\"1\" class=\"dataframe\">\n",
       "  <thead>\n",
       "    <tr style=\"text-align: right;\">\n",
       "      <th></th>\n",
       "      <th>tenure</th>\n",
       "      <th>OnlineSecurity</th>\n",
       "      <th>Contract</th>\n",
       "      <th>MonthlyCharges</th>\n",
       "      <th>TotalCharges</th>\n",
       "    </tr>\n",
       "  </thead>\n",
       "  <tbody>\n",
       "    <tr>\n",
       "      <th>0</th>\n",
       "      <td>1</td>\n",
       "      <td>No</td>\n",
       "      <td>Month-to-month</td>\n",
       "      <td>29.85</td>\n",
       "      <td>29.85</td>\n",
       "    </tr>\n",
       "    <tr>\n",
       "      <th>1</th>\n",
       "      <td>34</td>\n",
       "      <td>Yes</td>\n",
       "      <td>One year</td>\n",
       "      <td>56.95</td>\n",
       "      <td>1889.50</td>\n",
       "    </tr>\n",
       "    <tr>\n",
       "      <th>2</th>\n",
       "      <td>2</td>\n",
       "      <td>Yes</td>\n",
       "      <td>Month-to-month</td>\n",
       "      <td>53.85</td>\n",
       "      <td>108.15</td>\n",
       "    </tr>\n",
       "    <tr>\n",
       "      <th>3</th>\n",
       "      <td>45</td>\n",
       "      <td>Yes</td>\n",
       "      <td>One year</td>\n",
       "      <td>42.30</td>\n",
       "      <td>1840.75</td>\n",
       "    </tr>\n",
       "    <tr>\n",
       "      <th>4</th>\n",
       "      <td>2</td>\n",
       "      <td>No</td>\n",
       "      <td>Month-to-month</td>\n",
       "      <td>70.70</td>\n",
       "      <td>151.65</td>\n",
       "    </tr>\n",
       "    <tr>\n",
       "      <th>...</th>\n",
       "      <td>...</td>\n",
       "      <td>...</td>\n",
       "      <td>...</td>\n",
       "      <td>...</td>\n",
       "      <td>...</td>\n",
       "    </tr>\n",
       "    <tr>\n",
       "      <th>7038</th>\n",
       "      <td>24</td>\n",
       "      <td>Yes</td>\n",
       "      <td>One year</td>\n",
       "      <td>84.80</td>\n",
       "      <td>1990.50</td>\n",
       "    </tr>\n",
       "    <tr>\n",
       "      <th>7039</th>\n",
       "      <td>72</td>\n",
       "      <td>No</td>\n",
       "      <td>One year</td>\n",
       "      <td>103.20</td>\n",
       "      <td>7362.90</td>\n",
       "    </tr>\n",
       "    <tr>\n",
       "      <th>7040</th>\n",
       "      <td>11</td>\n",
       "      <td>Yes</td>\n",
       "      <td>Month-to-month</td>\n",
       "      <td>29.60</td>\n",
       "      <td>346.45</td>\n",
       "    </tr>\n",
       "    <tr>\n",
       "      <th>7041</th>\n",
       "      <td>4</td>\n",
       "      <td>No</td>\n",
       "      <td>Month-to-month</td>\n",
       "      <td>74.40</td>\n",
       "      <td>306.60</td>\n",
       "    </tr>\n",
       "    <tr>\n",
       "      <th>7042</th>\n",
       "      <td>66</td>\n",
       "      <td>Yes</td>\n",
       "      <td>Two year</td>\n",
       "      <td>105.65</td>\n",
       "      <td>6844.50</td>\n",
       "    </tr>\n",
       "  </tbody>\n",
       "</table>\n",
       "<p>7032 rows × 5 columns</p>\n",
       "</div>"
      ],
      "text/plain": [
       "      tenure OnlineSecurity        Contract  MonthlyCharges  TotalCharges\n",
       "0          1             No  Month-to-month           29.85         29.85\n",
       "1         34            Yes        One year           56.95       1889.50\n",
       "2          2            Yes  Month-to-month           53.85        108.15\n",
       "3         45            Yes        One year           42.30       1840.75\n",
       "4          2             No  Month-to-month           70.70        151.65\n",
       "...      ...            ...             ...             ...           ...\n",
       "7038      24            Yes        One year           84.80       1990.50\n",
       "7039      72             No        One year          103.20       7362.90\n",
       "7040      11            Yes  Month-to-month           29.60        346.45\n",
       "7041       4             No  Month-to-month           74.40        306.60\n",
       "7042      66            Yes        Two year          105.65       6844.50\n",
       "\n",
       "[7032 rows x 5 columns]"
      ]
     },
     "execution_count": 31,
     "metadata": {},
     "output_type": "execute_result"
    }
   ],
   "source": [
    "#To Separate data X and Y (Target)\n",
    "X = df_fi.drop(['Churn'], axis=1)\n",
    "y = df_fi['Churn'] == 'Yes' #For change the churn to boolean\n",
    "X"
   ]
  },
  {
   "cell_type": "code",
   "execution_count": 32,
   "metadata": {},
   "outputs": [
    {
     "data": {
      "text/plain": [
       "0       False\n",
       "1       False\n",
       "2        True\n",
       "3       False\n",
       "4        True\n",
       "        ...  \n",
       "7038    False\n",
       "7039    False\n",
       "7040    False\n",
       "7041     True\n",
       "7042    False\n",
       "Name: Churn, Length: 7032, dtype: bool"
      ]
     },
     "execution_count": 32,
     "metadata": {},
     "output_type": "execute_result"
    }
   ],
   "source": [
    "y"
   ]
  },
  {
   "cell_type": "code",
   "execution_count": 33,
   "metadata": {},
   "outputs": [],
   "source": [
    "#To separate data X_train and X_val\n",
    "X_train, X_val, y_train, y_val = train_test_split(X,y, test_size=0.2, random_state=20)\n",
    "#To separate data X_train and X_test\n",
    "X_train, X_test, y_train, y_test = train_test_split(X_train, y_train, test_size=0.1, random_state=20)"
   ]
  },
  {
   "cell_type": "code",
   "execution_count": 34,
   "metadata": {},
   "outputs": [
    {
     "data": {
      "text/plain": [
       "((5062, 5), (5062,), (563, 5), (563,), (1407, 5), (1407,))"
      ]
     },
     "execution_count": 34,
     "metadata": {},
     "output_type": "execute_result"
    }
   ],
   "source": [
    "X_train.shape, y_train.shape, X_test.shape, y_test.shape,  X_val.shape, y_val.shape"
   ]
  },
  {
   "cell_type": "markdown",
   "metadata": {},
   "source": [
    "Because the target have imbalance data, we must to Oversampling, Let's cekidot!"
   ]
  },
  {
   "cell_type": "code",
   "execution_count": 35,
   "metadata": {},
   "outputs": [
    {
     "data": {
      "text/plain": [
       "False    3720\n",
       "True     2684\n",
       "Name: Churn, dtype: int64"
      ]
     },
     "execution_count": 35,
     "metadata": {},
     "output_type": "execute_result"
    }
   ],
   "source": [
    "#Do oversampling wiht imbalance dataset\n",
    "n_pos = y_train.sum()\n",
    "n_pos = y_train.sum()\n",
    "\n",
    "sampler = RandomOverSampler(sampling_strategy={1: n_pos * 2})\n",
    "X_train, y_train = sampler.fit_resample(X_train, y_train)\n",
    "y_train.value_counts()"
   ]
  },
  {
   "cell_type": "markdown",
   "metadata": {},
   "source": [
    "I use that strategy because the formula is \\alpha_{os} = N_{rm} / N_{M} where N_{rm} is the number of samples in the minority class after resampling and N_{M} is the number of samples in the majority class"
   ]
  },
  {
   "cell_type": "code",
   "execution_count": 36,
   "metadata": {},
   "outputs": [
    {
     "data": {
      "text/plain": [
       "{0: 0.860752688172043, 1: 1.1929955290611027}"
      ]
     },
     "execution_count": 36,
     "metadata": {},
     "output_type": "execute_result"
    }
   ],
   "source": [
    "#Give Weights to the data\n",
    "n_pos = y_train.sum()\n",
    "n_neg = y_train.shape[0] - n_pos\n",
    "total = n_pos + n_neg\n",
    "\n",
    "class_weights = {0: (1 / n_neg) * (total / 2.0), 1: (1 / n_pos) * (total / 2.0)}\n",
    "class_weights"
   ]
  },
  {
   "cell_type": "markdown",
   "metadata": {},
   "source": [
    "After that I want to separate the X_train to numerical column and catagorical column"
   ]
  },
  {
   "cell_type": "code",
   "execution_count": 37,
   "metadata": {},
   "outputs": [
    {
     "name": "stdout",
     "output_type": "stream",
     "text": [
      "Numerical Columns: ['tenure', 'MonthlyCharges', 'TotalCharges']\n",
      "Categorical Columns: ['OnlineSecurity', 'Contract']\n"
     ]
    }
   ],
   "source": [
    "#Seperate data X_train to numerical and categorical\n",
    "num_cols = [col for col in X_train.columns if X_train[col].dtypes != 'O']\n",
    "cat_cols = [col for col in X_train.columns if X_train[col].dtypes == 'O']\n",
    "\n",
    "print('Numerical Columns:', num_cols)\n",
    "print('Categorical Columns:', cat_cols)"
   ]
  },
  {
   "cell_type": "code",
   "execution_count": 38,
   "metadata": {},
   "outputs": [],
   "source": [
    "#To separate data X_train and X_test to numerical and categorical\n",
    "X_train_cat = X_train[cat_cols]\n",
    "X_train_num = X_train.drop(columns=cat_cols)\n",
    "\n",
    "X_test_cat = X_test[cat_cols]\n",
    "X_test_num = X_test.drop(columns=cat_cols)"
   ]
  },
  {
   "cell_type": "markdown",
   "metadata": {},
   "source": [
    "## Handling Outlier"
   ]
  },
  {
   "cell_type": "code",
   "execution_count": 39,
   "metadata": {},
   "outputs": [
    {
     "data": {
      "text/html": [
       "<div>\n",
       "<style scoped>\n",
       "    .dataframe tbody tr th:only-of-type {\n",
       "        vertical-align: middle;\n",
       "    }\n",
       "\n",
       "    .dataframe tbody tr th {\n",
       "        vertical-align: top;\n",
       "    }\n",
       "\n",
       "    .dataframe thead th {\n",
       "        text-align: right;\n",
       "    }\n",
       "</style>\n",
       "<table border=\"1\" class=\"dataframe\">\n",
       "  <thead>\n",
       "    <tr style=\"text-align: right;\">\n",
       "      <th></th>\n",
       "      <th>columns</th>\n",
       "      <th>skew</th>\n",
       "      <th>status</th>\n",
       "    </tr>\n",
       "  </thead>\n",
       "  <tbody>\n",
       "    <tr>\n",
       "      <th>0</th>\n",
       "      <td>tenure</td>\n",
       "      <td>0.415934</td>\n",
       "      <td>Normal</td>\n",
       "    </tr>\n",
       "    <tr>\n",
       "      <th>1</th>\n",
       "      <td>MonthlyCharges</td>\n",
       "      <td>-0.336750</td>\n",
       "      <td>Normal</td>\n",
       "    </tr>\n",
       "    <tr>\n",
       "      <th>2</th>\n",
       "      <td>TotalCharges</td>\n",
       "      <td>1.080735</td>\n",
       "      <td>Skewed</td>\n",
       "    </tr>\n",
       "  </tbody>\n",
       "</table>\n",
       "</div>"
      ],
      "text/plain": [
       "          columns      skew  status\n",
       "0          tenure  0.415934  Normal\n",
       "1  MonthlyCharges -0.336750  Normal\n",
       "2    TotalCharges  1.080735  Skewed"
      ]
     },
     "execution_count": 39,
     "metadata": {},
     "output_type": "execute_result"
    }
   ],
   "source": [
    "distribusion_data = pd.DataFrame({'columns':X_train.describe().columns, 'skew' : X_train.skew(axis=0)})\n",
    "distribusion_data.reset_index(drop=True, inplace=True)\n",
    "\n",
    "distribusion_data['status'] = np.where(distribusion_data['skew'].abs()>0.5, 'Skewed', 'Normal')\n",
    "distribusion_data"
   ]
  },
  {
   "cell_type": "markdown",
   "metadata": {},
   "source": [
    "Here it can be seen that there are 2 columns that are normally distributed and 1 column is a skewed column"
   ]
  },
  {
   "cell_type": "markdown",
   "metadata": {},
   "source": [
    "Then, create a function for outlier detection\n",
    "- If skewed then use IQR as his detection\n",
    "- If Normal Distribution then use Z-score as detection"
   ]
  },
  {
   "cell_type": "code",
   "execution_count": 40,
   "metadata": {},
   "outputs": [],
   "source": [
    "# Outliers Detection Function\n",
    "# To know Outlier with Z-score \n",
    "# Make dev function Z-score\n",
    "\n",
    "def find_normal_boundaries(X_train, variable):\n",
    "    upper_boundary = X_train[variable].mean() + 3 * X_train[variable].std()\n",
    "    lower_boundary = X_train[variable].mean() - 3 * X_train[variable].std()\n",
    "\n",
    "    return upper_boundary, lower_boundary"
   ]
  },
  {
   "cell_type": "code",
   "execution_count": 41,
   "metadata": {},
   "outputs": [],
   "source": [
    "# Outliers Detection Function\n",
    "# To know outlier with IQR\n",
    "# Make dev function IQR\n",
    "\n",
    "def find_skewed_boundaries(X_train, variable, distance):\n",
    "    IQR = X_train[variable].quantile(0.75) - X_train[variable].quantile(0.25)\n",
    "\n",
    "    lower_boundary_skew = X_train[variable].quantile(0.25) - (IQR * distance)\n",
    "    upper_boundary_skew = X_train[variable].quantile(0.75) + (IQR * distance)\n",
    "\n",
    "    return upper_boundary_skew, lower_boundary_skew\n",
    "    "
   ]
  },
  {
   "cell_type": "code",
   "execution_count": 42,
   "metadata": {},
   "outputs": [
    {
     "name": "stdout",
     "output_type": "stream",
     "text": [
      "Batas lower dan upper untuk tenure:(-43.45663441515432, 102.2786206737427)\n",
      "==============================\n",
      "Batas lower dan upper untuk MonthlyCharges:(-20.86629329657424, 154.59894476440684)\n",
      "==============================\n",
      "Batas lower dan upper untuk TotalCharges:(-4328.1, 8059.5)\n",
      "==============================\n"
     ]
    }
   ],
   "source": [
    "j = 0\n",
    "outliers={}\n",
    "for i in X_train.describe().columns:\n",
    "    if distribusion_data['status'].loc[(distribusion_data['columns']==i)].values[0]== 'Normal':\n",
    "        upper_boundary, lower_boundary = find_normal_boundaries(X_train, i)\n",
    "        print(f\"Batas lower dan upper untuk {i}:{lower_boundary, upper_boundary}\")\n",
    "        outliers[f\"outliers{j}\"] = np.where(X_train[i] > upper_boundary, True, np.where(X_train[i] < lower_boundary, True, False))\n",
    "    else:\n",
    "        upper_boundary, lower_boundary = find_skewed_boundaries(X_train, i, 1.5)\n",
    "        print(f\"Batas lower dan upper untuk {i}:{lower_boundary, upper_boundary}\")\n",
    "        outliers[f\"outliers{j}\"] = np.where(X_train[i] > upper_boundary, True, np.where(X_train[i] < lower_boundary, True, False))\n",
    "    print(\"=\"*30)\n",
    "    j+=1\n"
   ]
  },
  {
   "cell_type": "code",
   "execution_count": 43,
   "metadata": {},
   "outputs": [
    {
     "data": {
      "text/html": [
       "<div>\n",
       "<style scoped>\n",
       "    .dataframe tbody tr th:only-of-type {\n",
       "        vertical-align: middle;\n",
       "    }\n",
       "\n",
       "    .dataframe tbody tr th {\n",
       "        vertical-align: top;\n",
       "    }\n",
       "\n",
       "    .dataframe thead th {\n",
       "        text-align: right;\n",
       "    }\n",
       "</style>\n",
       "<table border=\"1\" class=\"dataframe\">\n",
       "  <thead>\n",
       "    <tr style=\"text-align: right;\">\n",
       "      <th></th>\n",
       "      <th>columns</th>\n",
       "      <th>skew</th>\n",
       "      <th>status</th>\n",
       "      <th>trimmed_row</th>\n",
       "      <th>percentage</th>\n",
       "      <th>action</th>\n",
       "    </tr>\n",
       "  </thead>\n",
       "  <tbody>\n",
       "    <tr>\n",
       "      <th>0</th>\n",
       "      <td>tenure</td>\n",
       "      <td>0.415934</td>\n",
       "      <td>Normal</td>\n",
       "      <td>628.0</td>\n",
       "      <td>8.93</td>\n",
       "      <td>Capping</td>\n",
       "    </tr>\n",
       "    <tr>\n",
       "      <th>1</th>\n",
       "      <td>MonthlyCharges</td>\n",
       "      <td>-0.336750</td>\n",
       "      <td>Normal</td>\n",
       "      <td>628.0</td>\n",
       "      <td>8.93</td>\n",
       "      <td>Capping</td>\n",
       "    </tr>\n",
       "    <tr>\n",
       "      <th>2</th>\n",
       "      <td>TotalCharges</td>\n",
       "      <td>1.080735</td>\n",
       "      <td>Skewed</td>\n",
       "      <td>683.0</td>\n",
       "      <td>9.71</td>\n",
       "      <td>Capping</td>\n",
       "    </tr>\n",
       "  </tbody>\n",
       "</table>\n",
       "</div>"
      ],
      "text/plain": [
       "          columns      skew  status  trimmed_row  percentage   action\n",
       "0          tenure  0.415934  Normal        628.0        8.93  Capping\n",
       "1  MonthlyCharges -0.336750  Normal        628.0        8.93  Capping\n",
       "2    TotalCharges  1.080735  Skewed        683.0        9.71  Capping"
      ]
     },
     "execution_count": 43,
     "metadata": {},
     "output_type": "execute_result"
    }
   ],
   "source": [
    "for i, (k, v) in enumerate(outliers.items()):\n",
    "    X_train_trimmed = X_train.loc[~outliers[k]]\n",
    "    distribusion_data.loc[i,'trimmed_row'] = df.shape[0] - X_train_trimmed.shape[0]\n",
    "    distribusion_data.loc[i,'percentage'] = np.round(100-(X_train_trimmed.shape[0]/df.shape[0]*100), 2)\n",
    "    distribusion_data.loc[i,'action'] = np.where(distribusion_data.loc[i,'percentage']>15, 'Keep', \n",
    "                                        np.where(distribusion_data.loc[i,'percentage']>5, 'Capping', 'Trim'))\n",
    "distribusion_data"
   ]
  },
  {
   "cell_type": "markdown",
   "metadata": {},
   "source": [
    "Then we can handle that with winsorizer for capping status"
   ]
  },
  {
   "cell_type": "code",
   "execution_count": 44,
   "metadata": {},
   "outputs": [
    {
     "name": "stdout",
     "output_type": "stream",
     "text": [
      "X_train - Before Handling: (6404, 5)\n",
      "X_train - After Handling: (6404, 5)\n"
     ]
    }
   ],
   "source": [
    "print('X_train - Before Handling:', X_train.shape)\n",
    "out_winsorizer_skew= Winsorizer(capping_method='iqr', tail='both',fold=1.5,variables=['tenure','MonthlyCharges','TotalCharges'], missing_values='ignore')\n",
    "out_winsorizer_skew.fit(X_train)\n",
    "\n",
    "X_train= out_winsorizer_skew.transform(X_train)\n",
    "print('X_train - After Handling:', X_train.shape)"
   ]
  },
  {
   "cell_type": "markdown",
   "metadata": {},
   "source": [
    "And we already to capping the outlier"
   ]
  },
  {
   "cell_type": "markdown",
   "metadata": {},
   "source": [
    "## Feature Scaling"
   ]
  },
  {
   "cell_type": "markdown",
   "metadata": {},
   "source": [
    "I use Pipeline for Feature Scaling"
   ]
  },
  {
   "cell_type": "markdown",
   "metadata": {},
   "source": [
    "## Feature Encoding"
   ]
  },
  {
   "cell_type": "markdown",
   "metadata": {},
   "source": [
    "I use Pipeline for Feature Encoding"
   ]
  },
  {
   "cell_type": "markdown",
   "metadata": {},
   "source": [
    "## Pipeline For Feature Scaling dan Encodeing"
   ]
  },
  {
   "cell_type": "markdown",
   "metadata": {},
   "source": [
    "In this case I use Feature Scaling and Encoding with Pipeline"
   ]
  },
  {
   "cell_type": "code",
   "execution_count": 45,
   "metadata": {},
   "outputs": [],
   "source": [
    "num_col = X_train.select_dtypes(include=np.number).columns.tolist()\n",
    "cat_col = X_train.select_dtypes(include=object).columns.tolist()\n",
    "\n",
    "X_train_num = X_train[num_col]\n",
    "X_test_num = X_test[num_col]\n",
    "\n",
    "X_train_cat = X_train[cat_col]\n",
    "X_test_cat = X_test[cat_col]"
   ]
  },
  {
   "cell_type": "code",
   "execution_count": 46,
   "metadata": {},
   "outputs": [
    {
     "data": {
      "text/html": [
       "<div>\n",
       "<style scoped>\n",
       "    .dataframe tbody tr th:only-of-type {\n",
       "        vertical-align: middle;\n",
       "    }\n",
       "\n",
       "    .dataframe tbody tr th {\n",
       "        vertical-align: top;\n",
       "    }\n",
       "\n",
       "    .dataframe thead th {\n",
       "        text-align: right;\n",
       "    }\n",
       "</style>\n",
       "<table border=\"1\" class=\"dataframe\">\n",
       "  <thead>\n",
       "    <tr style=\"text-align: right;\">\n",
       "      <th></th>\n",
       "      <th>tenure</th>\n",
       "      <th>OnlineSecurity</th>\n",
       "      <th>Contract</th>\n",
       "      <th>MonthlyCharges</th>\n",
       "      <th>TotalCharges</th>\n",
       "    </tr>\n",
       "  </thead>\n",
       "  <tbody>\n",
       "    <tr>\n",
       "      <th>0</th>\n",
       "      <td>3.0</td>\n",
       "      <td>No internet service</td>\n",
       "      <td>Month-to-month</td>\n",
       "      <td>20.85</td>\n",
       "      <td>60.65</td>\n",
       "    </tr>\n",
       "    <tr>\n",
       "      <th>1</th>\n",
       "      <td>11.0</td>\n",
       "      <td>No</td>\n",
       "      <td>Month-to-month</td>\n",
       "      <td>75.20</td>\n",
       "      <td>775.30</td>\n",
       "    </tr>\n",
       "    <tr>\n",
       "      <th>2</th>\n",
       "      <td>67.0</td>\n",
       "      <td>Yes</td>\n",
       "      <td>One year</td>\n",
       "      <td>60.05</td>\n",
       "      <td>3994.05</td>\n",
       "    </tr>\n",
       "    <tr>\n",
       "      <th>3</th>\n",
       "      <td>23.0</td>\n",
       "      <td>Yes</td>\n",
       "      <td>Two year</td>\n",
       "      <td>91.10</td>\n",
       "      <td>2198.30</td>\n",
       "    </tr>\n",
       "    <tr>\n",
       "      <th>4</th>\n",
       "      <td>64.0</td>\n",
       "      <td>No</td>\n",
       "      <td>Two year</td>\n",
       "      <td>68.30</td>\n",
       "      <td>4378.80</td>\n",
       "    </tr>\n",
       "    <tr>\n",
       "      <th>...</th>\n",
       "      <td>...</td>\n",
       "      <td>...</td>\n",
       "      <td>...</td>\n",
       "      <td>...</td>\n",
       "      <td>...</td>\n",
       "    </tr>\n",
       "    <tr>\n",
       "      <th>6399</th>\n",
       "      <td>6.0</td>\n",
       "      <td>No</td>\n",
       "      <td>Month-to-month</td>\n",
       "      <td>95.75</td>\n",
       "      <td>573.75</td>\n",
       "    </tr>\n",
       "    <tr>\n",
       "      <th>6400</th>\n",
       "      <td>39.0</td>\n",
       "      <td>No</td>\n",
       "      <td>Month-to-month</td>\n",
       "      <td>95.65</td>\n",
       "      <td>3759.05</td>\n",
       "    </tr>\n",
       "    <tr>\n",
       "      <th>6401</th>\n",
       "      <td>5.0</td>\n",
       "      <td>No</td>\n",
       "      <td>Month-to-month</td>\n",
       "      <td>96.25</td>\n",
       "      <td>512.45</td>\n",
       "    </tr>\n",
       "    <tr>\n",
       "      <th>6402</th>\n",
       "      <td>9.0</td>\n",
       "      <td>No</td>\n",
       "      <td>Month-to-month</td>\n",
       "      <td>75.75</td>\n",
       "      <td>655.90</td>\n",
       "    </tr>\n",
       "    <tr>\n",
       "      <th>6403</th>\n",
       "      <td>21.0</td>\n",
       "      <td>No</td>\n",
       "      <td>Month-to-month</td>\n",
       "      <td>86.50</td>\n",
       "      <td>1808.70</td>\n",
       "    </tr>\n",
       "  </tbody>\n",
       "</table>\n",
       "<p>6404 rows × 5 columns</p>\n",
       "</div>"
      ],
      "text/plain": [
       "      tenure       OnlineSecurity        Contract  MonthlyCharges  \\\n",
       "0        3.0  No internet service  Month-to-month           20.85   \n",
       "1       11.0                   No  Month-to-month           75.20   \n",
       "2       67.0                  Yes        One year           60.05   \n",
       "3       23.0                  Yes        Two year           91.10   \n",
       "4       64.0                   No        Two year           68.30   \n",
       "...      ...                  ...             ...             ...   \n",
       "6399     6.0                   No  Month-to-month           95.75   \n",
       "6400    39.0                   No  Month-to-month           95.65   \n",
       "6401     5.0                   No  Month-to-month           96.25   \n",
       "6402     9.0                   No  Month-to-month           75.75   \n",
       "6403    21.0                   No  Month-to-month           86.50   \n",
       "\n",
       "      TotalCharges  \n",
       "0            60.65  \n",
       "1           775.30  \n",
       "2          3994.05  \n",
       "3          2198.30  \n",
       "4          4378.80  \n",
       "...            ...  \n",
       "6399        573.75  \n",
       "6400       3759.05  \n",
       "6401        512.45  \n",
       "6402        655.90  \n",
       "6403       1808.70  \n",
       "\n",
       "[6404 rows x 5 columns]"
      ]
     },
     "execution_count": 46,
     "metadata": {},
     "output_type": "execute_result"
    }
   ],
   "source": [
    "X_train"
   ]
  },
  {
   "cell_type": "code",
   "execution_count": 47,
   "metadata": {},
   "outputs": [],
   "source": [
    "num_pipeline = make_pipeline(\n",
    "                             StandardScaler())\n",
    "\n",
    "cat_pipeline = make_pipeline(OneHotEncoder())\n",
    "\n",
    "data_pipeline = ColumnTransformer([\n",
    "    ('pipe_num', num_pipeline, num_col),\n",
    "    ('pipe_cat', cat_pipeline, cat_col)\n",
    "])\n"
   ]
  },
  {
   "cell_type": "code",
   "execution_count": 48,
   "metadata": {},
   "outputs": [],
   "source": [
    "train_pipeline = data_pipeline.fit_transform(X_train), y_train\n",
    "val_pipeline = data_pipeline.transform(X_val), y_val\n",
    "test_pipeline = data_pipeline.transform(X_test), y_test"
   ]
  },
  {
   "cell_type": "markdown",
   "metadata": {},
   "source": [
    "Here I do:\n",
    "- Scaler with standart scaler\n",
    "- One Hot Endocer for encode catagorical column \n",
    "  \n",
    "I will save that data to tensorflow \n"
   ]
  },
  {
   "cell_type": "code",
   "execution_count": 49,
   "metadata": {},
   "outputs": [],
   "source": [
    "#saving data into tf.data\n",
    "import tensorflow as tf\n",
    "train_data = tf.data.Dataset.from_tensor_slices(train_pipeline).shuffle(10000).batch(128)\n",
    "val_data = tf.data.Dataset.from_tensor_slices(val_pipeline).batch(128)\n",
    "test_data = tf.data.Dataset.from_tensor_slices(test_pipeline).batch(128)"
   ]
  },
  {
   "cell_type": "markdown",
   "metadata": {},
   "source": [
    "## Model Defination\n",
    "This section contains cells to define the model. Explain the reasons for using an algorithm/model, the hyperparameters used, the types of metrics used, and other things related to the model."
   ]
  },
  {
   "cell_type": "code",
   "execution_count": 50,
   "metadata": {},
   "outputs": [],
   "source": [
    "#For Sequential Model\n",
    "model = Sequential()\n",
    "model.add(Dense(8, activation= 'relu',input_shape=(9,))) # first hidden layer 8 neuron\n",
    "model.add(Dropout(0.2))\n",
    "model.add(Dense(4, activation= 'relu')) #second hidden layer 4 neuron\n",
    "model.add(Dropout(0.2))\n",
    "model.add(Dense(2, activation= 'relu')) #third hidden layer 2 neuron\n",
    "model.add(Dropout(0.2))\n",
    "\n",
    "model.add(Dense(1, activation='sigmoid'))\n"
   ]
  },
  {
   "cell_type": "code",
   "execution_count": 51,
   "metadata": {},
   "outputs": [
    {
     "name": "stdout",
     "output_type": "stream",
     "text": [
      "Model: \"sequential\"\n",
      "_________________________________________________________________\n",
      " Layer (type)                Output Shape              Param #   \n",
      "=================================================================\n",
      " dense (Dense)               (None, 8)                 80        \n",
      "                                                                 \n",
      " dropout (Dropout)           (None, 8)                 0         \n",
      "                                                                 \n",
      " dense_1 (Dense)             (None, 4)                 36        \n",
      "                                                                 \n",
      " dropout_1 (Dropout)         (None, 4)                 0         \n",
      "                                                                 \n",
      " dense_2 (Dense)             (None, 2)                 10        \n",
      "                                                                 \n",
      " dropout_2 (Dropout)         (None, 2)                 0         \n",
      "                                                                 \n",
      " dense_3 (Dense)             (None, 1)                 3         \n",
      "                                                                 \n",
      "=================================================================\n",
      "Total params: 129\n",
      "Trainable params: 129\n",
      "Non-trainable params: 0\n",
      "_________________________________________________________________\n"
     ]
    }
   ],
   "source": [
    "model.summary()"
   ]
  },
  {
   "cell_type": "code",
   "execution_count": 52,
   "metadata": {},
   "outputs": [],
   "source": [
    "#Compile the model\n",
    "model.compile(loss='binary_crossentropy', #binary_crossentropy for binary classification\n",
    "              optimizer= 'adam', #adam for optimization and learning rate with 0.15\n",
    "              metrics=['accuracy']) #defaultny matrics loss"
   ]
  },
  {
   "cell_type": "markdown",
   "metadata": {},
   "source": [
    "## Model Training\n",
    ">The cells in this section only contain the code to train the model and the resulting output. Do the training process several times with different hyperparameters to see the results obtained. Analyze and narrate these results in the Model Evaluation section."
   ]
  },
  {
   "cell_type": "code",
   "execution_count": 53,
   "metadata": {},
   "outputs": [
    {
     "name": "stdout",
     "output_type": "stream",
     "text": [
      "Epoch 1/100\n",
      "51/51 [==============================] - 1s 4ms/step - loss: 0.6879 - accuracy: 0.5729 - val_loss: 0.6696 - val_accuracy: 0.7406\n",
      "Epoch 2/100\n",
      "51/51 [==============================] - 0s 3ms/step - loss: 0.6753 - accuracy: 0.5809 - val_loss: 0.6384 - val_accuracy: 0.7406\n",
      "Epoch 3/100\n",
      "51/51 [==============================] - 0s 3ms/step - loss: 0.6572 - accuracy: 0.5809 - val_loss: 0.5797 - val_accuracy: 0.7406\n",
      "Epoch 4/100\n",
      "51/51 [==============================] - 0s 1ms/step - loss: 0.6311 - accuracy: 0.5809 - val_loss: 0.5321 - val_accuracy: 0.7406\n",
      "Epoch 5/100\n",
      "51/51 [==============================] - 0s 2ms/step - loss: 0.6162 - accuracy: 0.5809 - val_loss: 0.5104 - val_accuracy: 0.7406\n",
      "Epoch 6/100\n",
      "51/51 [==============================] - 0s 2ms/step - loss: 0.6082 - accuracy: 0.5809 - val_loss: 0.4985 - val_accuracy: 0.7406\n",
      "Epoch 7/100\n",
      "51/51 [==============================] - 0s 2ms/step - loss: 0.5999 - accuracy: 0.6527 - val_loss: 0.4908 - val_accuracy: 0.7868\n",
      "Epoch 8/100\n",
      "51/51 [==============================] - 0s 1ms/step - loss: 0.5964 - accuracy: 0.6736 - val_loss: 0.4907 - val_accuracy: 0.7797\n",
      "Epoch 9/100\n",
      "51/51 [==============================] - 0s 1ms/step - loss: 0.5932 - accuracy: 0.6705 - val_loss: 0.4854 - val_accuracy: 0.7790\n",
      "Epoch 10/100\n",
      "51/51 [==============================] - 0s 1ms/step - loss: 0.5902 - accuracy: 0.6758 - val_loss: 0.4811 - val_accuracy: 0.7768\n",
      "Epoch 11/100\n",
      "51/51 [==============================] - 0s 1ms/step - loss: 0.5874 - accuracy: 0.6713 - val_loss: 0.4801 - val_accuracy: 0.7626\n",
      "Epoch 12/100\n",
      "51/51 [==============================] - 0s 1ms/step - loss: 0.5872 - accuracy: 0.6754 - val_loss: 0.4788 - val_accuracy: 0.7527\n",
      "Epoch 13/100\n",
      "51/51 [==============================] - 0s 1ms/step - loss: 0.5875 - accuracy: 0.6705 - val_loss: 0.4802 - val_accuracy: 0.7406\n",
      "Epoch 14/100\n",
      "51/51 [==============================] - 0s 1ms/step - loss: 0.5817 - accuracy: 0.6766 - val_loss: 0.4777 - val_accuracy: 0.7427\n",
      "Epoch 15/100\n",
      "51/51 [==============================] - 0s 2ms/step - loss: 0.5791 - accuracy: 0.6791 - val_loss: 0.4747 - val_accuracy: 0.7434\n",
      "Epoch 16/100\n",
      "51/51 [==============================] - 0s 6ms/step - loss: 0.5777 - accuracy: 0.6732 - val_loss: 0.4756 - val_accuracy: 0.7392\n",
      "Epoch 17/100\n",
      "51/51 [==============================] - 0s 5ms/step - loss: 0.5832 - accuracy: 0.6758 - val_loss: 0.4848 - val_accuracy: 0.7392\n",
      "Epoch 18/100\n",
      "51/51 [==============================] - 0s 5ms/step - loss: 0.5821 - accuracy: 0.6694 - val_loss: 0.4790 - val_accuracy: 0.7420\n",
      "Epoch 19/100\n",
      "51/51 [==============================] - 0s 2ms/step - loss: 0.5803 - accuracy: 0.6790 - val_loss: 0.4785 - val_accuracy: 0.7420\n",
      "Epoch 20/100\n",
      "51/51 [==============================] - 0s 1ms/step - loss: 0.5735 - accuracy: 0.6797 - val_loss: 0.4729 - val_accuracy: 0.7463\n",
      "Epoch 21/100\n",
      "51/51 [==============================] - 0s 1ms/step - loss: 0.5739 - accuracy: 0.6824 - val_loss: 0.4737 - val_accuracy: 0.7448\n",
      "Epoch 22/100\n",
      "51/51 [==============================] - 0s 2ms/step - loss: 0.5774 - accuracy: 0.6802 - val_loss: 0.4761 - val_accuracy: 0.7413\n",
      "Epoch 23/100\n",
      "51/51 [==============================] - 0s 1ms/step - loss: 0.5788 - accuracy: 0.6813 - val_loss: 0.4743 - val_accuracy: 0.7420\n",
      "Epoch 24/100\n",
      "51/51 [==============================] - 0s 1ms/step - loss: 0.5808 - accuracy: 0.6827 - val_loss: 0.4739 - val_accuracy: 0.7427\n",
      "Epoch 25/100\n",
      "51/51 [==============================] - 0s 1ms/step - loss: 0.5732 - accuracy: 0.6961 - val_loss: 0.4731 - val_accuracy: 0.7420\n",
      "Epoch 26/100\n",
      "51/51 [==============================] - 0s 2ms/step - loss: 0.5702 - accuracy: 0.6975 - val_loss: 0.4731 - val_accuracy: 0.7413\n",
      "Epoch 27/100\n",
      "51/51 [==============================] - 0s 1ms/step - loss: 0.5690 - accuracy: 0.7044 - val_loss: 0.4759 - val_accuracy: 0.7370\n",
      "Epoch 28/100\n",
      "51/51 [==============================] - 0s 1ms/step - loss: 0.5675 - accuracy: 0.7035 - val_loss: 0.4806 - val_accuracy: 0.7399\n",
      "Epoch 29/100\n",
      "51/51 [==============================] - 0s 2ms/step - loss: 0.5715 - accuracy: 0.6978 - val_loss: 0.4749 - val_accuracy: 0.7420\n",
      "Epoch 30/100\n",
      "51/51 [==============================] - 0s 2ms/step - loss: 0.5649 - accuracy: 0.7061 - val_loss: 0.4715 - val_accuracy: 0.7392\n",
      "Epoch 31/100\n",
      "51/51 [==============================] - 0s 2ms/step - loss: 0.5688 - accuracy: 0.7038 - val_loss: 0.4736 - val_accuracy: 0.7392\n",
      "Epoch 32/100\n",
      "51/51 [==============================] - 0s 1ms/step - loss: 0.5648 - accuracy: 0.7078 - val_loss: 0.4728 - val_accuracy: 0.7377\n",
      "Epoch 33/100\n",
      "51/51 [==============================] - 0s 1ms/step - loss: 0.5646 - accuracy: 0.7088 - val_loss: 0.4706 - val_accuracy: 0.7406\n",
      "Epoch 34/100\n",
      "51/51 [==============================] - 0s 1ms/step - loss: 0.5629 - accuracy: 0.7122 - val_loss: 0.4690 - val_accuracy: 0.7406\n",
      "Epoch 35/100\n",
      "51/51 [==============================] - 0s 1ms/step - loss: 0.5663 - accuracy: 0.7064 - val_loss: 0.4711 - val_accuracy: 0.7399\n",
      "Epoch 36/100\n",
      "51/51 [==============================] - 0s 2ms/step - loss: 0.5689 - accuracy: 0.7036 - val_loss: 0.4753 - val_accuracy: 0.7385\n",
      "Epoch 37/100\n",
      "51/51 [==============================] - 0s 2ms/step - loss: 0.5662 - accuracy: 0.7024 - val_loss: 0.4750 - val_accuracy: 0.7377\n",
      "Epoch 38/100\n",
      "51/51 [==============================] - 0s 1ms/step - loss: 0.5584 - accuracy: 0.7130 - val_loss: 0.4673 - val_accuracy: 0.7427\n",
      "Epoch 39/100\n",
      "51/51 [==============================] - 0s 1ms/step - loss: 0.5600 - accuracy: 0.7086 - val_loss: 0.4705 - val_accuracy: 0.7392\n",
      "Epoch 40/100\n",
      "51/51 [==============================] - 0s 1ms/step - loss: 0.5614 - accuracy: 0.7097 - val_loss: 0.4702 - val_accuracy: 0.7406\n",
      "Epoch 41/100\n",
      "51/51 [==============================] - 0s 2ms/step - loss: 0.5614 - accuracy: 0.7164 - val_loss: 0.4712 - val_accuracy: 0.7406\n",
      "Epoch 42/100\n",
      "51/51 [==============================] - 0s 1ms/step - loss: 0.5657 - accuracy: 0.7105 - val_loss: 0.4729 - val_accuracy: 0.7413\n",
      "Epoch 43/100\n",
      "51/51 [==============================] - 0s 2ms/step - loss: 0.5656 - accuracy: 0.7058 - val_loss: 0.4728 - val_accuracy: 0.7406\n",
      "Epoch 44/100\n",
      "51/51 [==============================] - 0s 1ms/step - loss: 0.5567 - accuracy: 0.7128 - val_loss: 0.4716 - val_accuracy: 0.7420\n",
      "Epoch 45/100\n",
      "51/51 [==============================] - 0s 2ms/step - loss: 0.5569 - accuracy: 0.7108 - val_loss: 0.4721 - val_accuracy: 0.7427\n",
      "Epoch 46/100\n",
      "51/51 [==============================] - 0s 2ms/step - loss: 0.5657 - accuracy: 0.7036 - val_loss: 0.4768 - val_accuracy: 0.7385\n",
      "Epoch 47/100\n",
      "51/51 [==============================] - 0s 2ms/step - loss: 0.5655 - accuracy: 0.7046 - val_loss: 0.4724 - val_accuracy: 0.7392\n",
      "Epoch 48/100\n",
      "51/51 [==============================] - 0s 2ms/step - loss: 0.5693 - accuracy: 0.7000 - val_loss: 0.4768 - val_accuracy: 0.7392\n",
      "Epoch 49/100\n",
      "51/51 [==============================] - 0s 2ms/step - loss: 0.5513 - accuracy: 0.7203 - val_loss: 0.4713 - val_accuracy: 0.7441\n",
      "Epoch 50/100\n",
      "51/51 [==============================] - 0s 2ms/step - loss: 0.5593 - accuracy: 0.7110 - val_loss: 0.4719 - val_accuracy: 0.7413\n",
      "Epoch 51/100\n",
      "51/51 [==============================] - 0s 1ms/step - loss: 0.5601 - accuracy: 0.7124 - val_loss: 0.4743 - val_accuracy: 0.7399\n",
      "Epoch 52/100\n",
      "51/51 [==============================] - 0s 1ms/step - loss: 0.5607 - accuracy: 0.7125 - val_loss: 0.4717 - val_accuracy: 0.7434\n",
      "Epoch 53/100\n",
      "51/51 [==============================] - 0s 2ms/step - loss: 0.5569 - accuracy: 0.7178 - val_loss: 0.4694 - val_accuracy: 0.7448\n",
      "Epoch 54/100\n",
      "51/51 [==============================] - 0s 1ms/step - loss: 0.5563 - accuracy: 0.7156 - val_loss: 0.4682 - val_accuracy: 0.7448\n",
      "Epoch 55/100\n",
      "51/51 [==============================] - 0s 1ms/step - loss: 0.5585 - accuracy: 0.7147 - val_loss: 0.4701 - val_accuracy: 0.7441\n",
      "Epoch 56/100\n",
      "51/51 [==============================] - 0s 2ms/step - loss: 0.5585 - accuracy: 0.7100 - val_loss: 0.4725 - val_accuracy: 0.7427\n",
      "Epoch 57/100\n",
      "51/51 [==============================] - 0s 2ms/step - loss: 0.5588 - accuracy: 0.7128 - val_loss: 0.4741 - val_accuracy: 0.7434\n",
      "Epoch 58/100\n",
      "51/51 [==============================] - 0s 2ms/step - loss: 0.5609 - accuracy: 0.7086 - val_loss: 0.4709 - val_accuracy: 0.7448\n",
      "Epoch 59/100\n",
      "51/51 [==============================] - 0s 2ms/step - loss: 0.5531 - accuracy: 0.7189 - val_loss: 0.4691 - val_accuracy: 0.7512\n",
      "Epoch 60/100\n",
      "51/51 [==============================] - 0s 2ms/step - loss: 0.5619 - accuracy: 0.7080 - val_loss: 0.4709 - val_accuracy: 0.7463\n",
      "Epoch 61/100\n",
      "51/51 [==============================] - 0s 1ms/step - loss: 0.5583 - accuracy: 0.7050 - val_loss: 0.4725 - val_accuracy: 0.7441\n",
      "Epoch 62/100\n",
      "51/51 [==============================] - 0s 1ms/step - loss: 0.5600 - accuracy: 0.7113 - val_loss: 0.4732 - val_accuracy: 0.7434\n",
      "Epoch 63/100\n",
      "51/51 [==============================] - 0s 1ms/step - loss: 0.5559 - accuracy: 0.7133 - val_loss: 0.4736 - val_accuracy: 0.7456\n",
      "Epoch 64/100\n",
      "51/51 [==============================] - 0s 2ms/step - loss: 0.5590 - accuracy: 0.7135 - val_loss: 0.4738 - val_accuracy: 0.7448\n",
      "Epoch 65/100\n",
      "51/51 [==============================] - 0s 1ms/step - loss: 0.5538 - accuracy: 0.7180 - val_loss: 0.4723 - val_accuracy: 0.7456\n",
      "Epoch 66/100\n",
      "51/51 [==============================] - 0s 2ms/step - loss: 0.5503 - accuracy: 0.7219 - val_loss: 0.4715 - val_accuracy: 0.7463\n",
      "Epoch 67/100\n",
      "51/51 [==============================] - 0s 2ms/step - loss: 0.5618 - accuracy: 0.7094 - val_loss: 0.4770 - val_accuracy: 0.7427\n",
      "Epoch 68/100\n",
      "51/51 [==============================] - 0s 2ms/step - loss: 0.5530 - accuracy: 0.7146 - val_loss: 0.4709 - val_accuracy: 0.7477\n",
      "Epoch 69/100\n",
      "51/51 [==============================] - 0s 2ms/step - loss: 0.5588 - accuracy: 0.7138 - val_loss: 0.4719 - val_accuracy: 0.7456\n",
      "Epoch 70/100\n",
      "51/51 [==============================] - 0s 2ms/step - loss: 0.5622 - accuracy: 0.7127 - val_loss: 0.4728 - val_accuracy: 0.7477\n",
      "Epoch 71/100\n",
      "51/51 [==============================] - 0s 2ms/step - loss: 0.5556 - accuracy: 0.7124 - val_loss: 0.4751 - val_accuracy: 0.7441\n",
      "Epoch 72/100\n",
      "51/51 [==============================] - 0s 2ms/step - loss: 0.5550 - accuracy: 0.7155 - val_loss: 0.4700 - val_accuracy: 0.7420\n",
      "Epoch 73/100\n",
      "51/51 [==============================] - 0s 2ms/step - loss: 0.5547 - accuracy: 0.7194 - val_loss: 0.4673 - val_accuracy: 0.7448\n",
      "Epoch 74/100\n",
      "51/51 [==============================] - 0s 1ms/step - loss: 0.5592 - accuracy: 0.7161 - val_loss: 0.4720 - val_accuracy: 0.7413\n",
      "Epoch 75/100\n",
      "51/51 [==============================] - 0s 2ms/step - loss: 0.5526 - accuracy: 0.7172 - val_loss: 0.4740 - val_accuracy: 0.7399\n",
      "Epoch 76/100\n",
      "51/51 [==============================] - 0s 1ms/step - loss: 0.5572 - accuracy: 0.7069 - val_loss: 0.4726 - val_accuracy: 0.7413\n",
      "Epoch 77/100\n",
      "51/51 [==============================] - 0s 1ms/step - loss: 0.5536 - accuracy: 0.7210 - val_loss: 0.4716 - val_accuracy: 0.7441\n",
      "Epoch 78/100\n",
      "51/51 [==============================] - 0s 1ms/step - loss: 0.5573 - accuracy: 0.7144 - val_loss: 0.4744 - val_accuracy: 0.7406\n",
      "Epoch 79/100\n",
      "51/51 [==============================] - 0s 2ms/step - loss: 0.5536 - accuracy: 0.7163 - val_loss: 0.4712 - val_accuracy: 0.7399\n",
      "Epoch 80/100\n",
      "51/51 [==============================] - 0s 1ms/step - loss: 0.5493 - accuracy: 0.7191 - val_loss: 0.4693 - val_accuracy: 0.7385\n",
      "Epoch 81/100\n",
      "51/51 [==============================] - 0s 2ms/step - loss: 0.5615 - accuracy: 0.7175 - val_loss: 0.4790 - val_accuracy: 0.7313\n",
      "Epoch 82/100\n",
      "51/51 [==============================] - 0s 2ms/step - loss: 0.5486 - accuracy: 0.7230 - val_loss: 0.4649 - val_accuracy: 0.7477\n",
      "Epoch 83/100\n",
      "51/51 [==============================] - 0s 2ms/step - loss: 0.5526 - accuracy: 0.7166 - val_loss: 0.4713 - val_accuracy: 0.7377\n",
      "Epoch 84/100\n",
      "51/51 [==============================] - 0s 2ms/step - loss: 0.5538 - accuracy: 0.7191 - val_loss: 0.4732 - val_accuracy: 0.7349\n",
      "Epoch 85/100\n",
      "51/51 [==============================] - 0s 1ms/step - loss: 0.5546 - accuracy: 0.7239 - val_loss: 0.4674 - val_accuracy: 0.7456\n",
      "Epoch 86/100\n",
      "51/51 [==============================] - 0s 2ms/step - loss: 0.5482 - accuracy: 0.7274 - val_loss: 0.4663 - val_accuracy: 0.7448\n",
      "Epoch 87/100\n",
      "51/51 [==============================] - 0s 2ms/step - loss: 0.5537 - accuracy: 0.7210 - val_loss: 0.4696 - val_accuracy: 0.7448\n",
      "Epoch 88/100\n",
      "51/51 [==============================] - 0s 2ms/step - loss: 0.5527 - accuracy: 0.7216 - val_loss: 0.4687 - val_accuracy: 0.7448\n",
      "Epoch 89/100\n",
      "51/51 [==============================] - 0s 3ms/step - loss: 0.5494 - accuracy: 0.7169 - val_loss: 0.4663 - val_accuracy: 0.7427\n",
      "Epoch 90/100\n",
      "51/51 [==============================] - 0s 2ms/step - loss: 0.5548 - accuracy: 0.7241 - val_loss: 0.4704 - val_accuracy: 0.7420\n",
      "Epoch 91/100\n",
      "51/51 [==============================] - 0s 1ms/step - loss: 0.5554 - accuracy: 0.7174 - val_loss: 0.4718 - val_accuracy: 0.7413\n",
      "Epoch 92/100\n",
      "51/51 [==============================] - 0s 1ms/step - loss: 0.5602 - accuracy: 0.7147 - val_loss: 0.4716 - val_accuracy: 0.7463\n",
      "Epoch 93/100\n",
      "51/51 [==============================] - 0s 1ms/step - loss: 0.5529 - accuracy: 0.7181 - val_loss: 0.4693 - val_accuracy: 0.7470\n",
      "Epoch 94/100\n",
      "51/51 [==============================] - 0s 1ms/step - loss: 0.5550 - accuracy: 0.7200 - val_loss: 0.4695 - val_accuracy: 0.7456\n",
      "Epoch 95/100\n",
      "51/51 [==============================] - 0s 1ms/step - loss: 0.5477 - accuracy: 0.7224 - val_loss: 0.4659 - val_accuracy: 0.7470\n",
      "Epoch 96/100\n",
      "51/51 [==============================] - 0s 1ms/step - loss: 0.5483 - accuracy: 0.7213 - val_loss: 0.4671 - val_accuracy: 0.7434\n",
      "Epoch 97/100\n",
      "51/51 [==============================] - 0s 1ms/step - loss: 0.5533 - accuracy: 0.7250 - val_loss: 0.4669 - val_accuracy: 0.7470\n",
      "Epoch 98/100\n",
      "51/51 [==============================] - 0s 1ms/step - loss: 0.5491 - accuracy: 0.7210 - val_loss: 0.4688 - val_accuracy: 0.7456\n",
      "Epoch 99/100\n",
      "51/51 [==============================] - 0s 1ms/step - loss: 0.5585 - accuracy: 0.7167 - val_loss: 0.4745 - val_accuracy: 0.7420\n",
      "Epoch 100/100\n",
      "51/51 [==============================] - 0s 1ms/step - loss: 0.5495 - accuracy: 0.7202 - val_loss: 0.4694 - val_accuracy: 0.7463\n"
     ]
    }
   ],
   "source": [
    "history = model.fit(train_data, epochs=100, validation_data=val_data)"
   ]
  },
  {
   "cell_type": "markdown",
   "metadata": {},
   "source": [
    "## Model Evaluation\n",
    "In this section, an evaluation of the model is carried out which must show how the model performs based on the selected metrics. This should be demonstrated by visualizing the performance trend and/or model error rate. Perform analysis related to the results on the model and write down the results of the analysis."
   ]
  },
  {
   "cell_type": "code",
   "execution_count": 54,
   "metadata": {},
   "outputs": [
    {
     "data": {
      "text/html": [
       "<div>\n",
       "<style scoped>\n",
       "    .dataframe tbody tr th:only-of-type {\n",
       "        vertical-align: middle;\n",
       "    }\n",
       "\n",
       "    .dataframe tbody tr th {\n",
       "        vertical-align: top;\n",
       "    }\n",
       "\n",
       "    .dataframe thead th {\n",
       "        text-align: right;\n",
       "    }\n",
       "</style>\n",
       "<table border=\"1\" class=\"dataframe\">\n",
       "  <thead>\n",
       "    <tr style=\"text-align: right;\">\n",
       "      <th></th>\n",
       "      <th>loss</th>\n",
       "      <th>accuracy</th>\n",
       "      <th>val_loss</th>\n",
       "      <th>val_accuracy</th>\n",
       "    </tr>\n",
       "  </thead>\n",
       "  <tbody>\n",
       "    <tr>\n",
       "      <th>0</th>\n",
       "      <td>0.687901</td>\n",
       "      <td>0.572923</td>\n",
       "      <td>0.669646</td>\n",
       "      <td>0.740583</td>\n",
       "    </tr>\n",
       "    <tr>\n",
       "      <th>1</th>\n",
       "      <td>0.675347</td>\n",
       "      <td>0.580887</td>\n",
       "      <td>0.638384</td>\n",
       "      <td>0.740583</td>\n",
       "    </tr>\n",
       "    <tr>\n",
       "      <th>2</th>\n",
       "      <td>0.657217</td>\n",
       "      <td>0.580887</td>\n",
       "      <td>0.579676</td>\n",
       "      <td>0.740583</td>\n",
       "    </tr>\n",
       "    <tr>\n",
       "      <th>3</th>\n",
       "      <td>0.631073</td>\n",
       "      <td>0.580887</td>\n",
       "      <td>0.532142</td>\n",
       "      <td>0.740583</td>\n",
       "    </tr>\n",
       "    <tr>\n",
       "      <th>4</th>\n",
       "      <td>0.616168</td>\n",
       "      <td>0.580887</td>\n",
       "      <td>0.510435</td>\n",
       "      <td>0.740583</td>\n",
       "    </tr>\n",
       "  </tbody>\n",
       "</table>\n",
       "</div>"
      ],
      "text/plain": [
       "       loss  accuracy  val_loss  val_accuracy\n",
       "0  0.687901  0.572923  0.669646      0.740583\n",
       "1  0.675347  0.580887  0.638384      0.740583\n",
       "2  0.657217  0.580887  0.579676      0.740583\n",
       "3  0.631073  0.580887  0.532142      0.740583\n",
       "4  0.616168  0.580887  0.510435      0.740583"
      ]
     },
     "execution_count": 54,
     "metadata": {},
     "output_type": "execute_result"
    }
   ],
   "source": [
    "metrics = pd.DataFrame(history.history)\n",
    "metrics.head()"
   ]
  },
  {
   "cell_type": "code",
   "execution_count": 55,
   "metadata": {},
   "outputs": [
    {
     "data": {
      "text/plain": [
       "<AxesSubplot:>"
      ]
     },
     "execution_count": 55,
     "metadata": {},
     "output_type": "execute_result"
    },
    {
     "data": {
      "image/png": "[encoded data removed]",
      "text/plain": [
       "<Figure size 432x288 with 1 Axes>"
      ]
     },
     "metadata": {
      "needs_background": "light"
     },
     "output_type": "display_data"
    }
   ],
   "source": [
    "metrics[['loss','val_loss']].plot()"
   ]
  },
  {
   "cell_type": "markdown",
   "metadata": {},
   "source": [
    "I think it's overfit"
   ]
  },
  {
   "cell_type": "code",
   "execution_count": 56,
   "metadata": {},
   "outputs": [
    {
     "data": {
      "text/plain": [
       "<AxesSubplot:>"
      ]
     },
     "execution_count": 56,
     "metadata": {},
     "output_type": "execute_result"
    },
    {
     "data": {
      "image/png": "[encoded data removed]",
      "text/plain": [
       "<Figure size 432x288 with 1 Axes>"
      ]
     },
     "metadata": {
      "needs_background": "light"
     },
     "output_type": "display_data"
    }
   ],
   "source": [
    "metrics[['accuracy','val_accuracy']].plot()"
   ]
  },
  {
   "cell_type": "code",
   "execution_count": 57,
   "metadata": {},
   "outputs": [
    {
     "name": "stdout",
     "output_type": "stream",
     "text": [
      "              precision    recall  f1-score   support\n",
      "\n",
      "       False       0.87      0.74      0.80       401\n",
      "        True       0.53      0.72      0.61       162\n",
      "\n",
      "    accuracy                           0.74       563\n",
      "   macro avg       0.70      0.73      0.71       563\n",
      "weighted avg       0.77      0.74      0.75       563\n",
      "\n"
     ]
    }
   ],
   "source": [
    "y_pred = model.predict(test_data) #hasilnya akan probabilitas\n",
    "y_pred= np.where(y_pred > 0.5, 1, 0) # Binary only kalau multiclass berbeda lagi\n",
    "print(classification_report(y_test, y_pred))"
   ]
  },
  {
   "cell_type": "markdown",
   "metadata": {},
   "source": [
    "We can get :\n",
    "- For class false f1-score accuracy is 84%\n",
    "- For the True class, the F1-score accuracy is 63%\n",
    "- And accuracy model 75%\n"
   ]
  },
  {
   "cell_type": "code",
   "execution_count": 58,
   "metadata": {},
   "outputs": [],
   "source": [
    "#For Functional Model\n",
    "#Functional Model without Dropout\n",
    "data_in = Input(shape=(9,))\n",
    "hidden_1= Dense(8, activation='relu')(data_in)  #first hidden layer 8 neuron\n",
    "hidden_2= Dense(4, activation='relu')(hidden_1) #second hidden layer 4 neuron\n",
    "hidden_3= Dense(2, activation='relu')(hidden_2) #third hidden layer 2 neuron\n",
    "out = Dense(1, activation='sigmoid')(hidden_3)\n",
    "\n",
    "# Jadikan 1 Kesatuan\n",
    "model2= Model(inputs=data_in, outputs=out)\n"
   ]
  },
  {
   "cell_type": "code",
   "execution_count": 59,
   "metadata": {},
   "outputs": [
    {
     "name": "stdout",
     "output_type": "stream",
     "text": [
      "Model: \"model\"\n",
      "_________________________________________________________________\n",
      " Layer (type)                Output Shape              Param #   \n",
      "=================================================================\n",
      " input_1 (InputLayer)        [(None, 9)]               0         \n",
      "                                                                 \n",
      " dense_4 (Dense)             (None, 8)                 80        \n",
      "                                                                 \n",
      " dense_5 (Dense)             (None, 4)                 36        \n",
      "                                                                 \n",
      " dense_6 (Dense)             (None, 2)                 10        \n",
      "                                                                 \n",
      " dense_7 (Dense)             (None, 1)                 3         \n",
      "                                                                 \n",
      "=================================================================\n",
      "Total params: 129\n",
      "Trainable params: 129\n",
      "Non-trainable params: 0\n",
      "_________________________________________________________________\n"
     ]
    }
   ],
   "source": [
    "model2.summary()"
   ]
  },
  {
   "cell_type": "code",
   "execution_count": 60,
   "metadata": {},
   "outputs": [
    {
     "name": "stdout",
     "output_type": "stream",
     "text": [
      "Epoch 1/300\n",
      "51/51 [==============================] - 1s 4ms/step - loss: 0.6532 - accuracy: 0.5809 - val_loss: 0.5965 - val_accuracy: 0.7406\n",
      "Epoch 2/300\n",
      "51/51 [==============================] - 0s 1ms/step - loss: 0.6253 - accuracy: 0.5809 - val_loss: 0.5568 - val_accuracy: 0.7406\n",
      "Epoch 3/300\n",
      "51/51 [==============================] - 0s 1ms/step - loss: 0.6047 - accuracy: 0.6015 - val_loss: 0.5284 - val_accuracy: 0.7726\n",
      "Epoch 4/300\n",
      "51/51 [==============================] - 0s 1ms/step - loss: 0.5831 - accuracy: 0.7024 - val_loss: 0.4981 - val_accuracy: 0.7783\n",
      "Epoch 5/300\n",
      "51/51 [==============================] - 0s 1ms/step - loss: 0.5647 - accuracy: 0.7197 - val_loss: 0.4789 - val_accuracy: 0.7761\n",
      "Epoch 6/300\n",
      "51/51 [==============================] - 0s 1ms/step - loss: 0.5514 - accuracy: 0.7275 - val_loss: 0.4696 - val_accuracy: 0.7662\n",
      "Epoch 7/300\n",
      "51/51 [==============================] - 0s 1ms/step - loss: 0.5410 - accuracy: 0.7413 - val_loss: 0.4647 - val_accuracy: 0.7562\n",
      "Epoch 8/300\n",
      "51/51 [==============================] - 0s 1ms/step - loss: 0.5341 - accuracy: 0.7475 - val_loss: 0.4626 - val_accuracy: 0.7569\n",
      "Epoch 9/300\n",
      "51/51 [==============================] - 0s 1ms/step - loss: 0.5290 - accuracy: 0.7516 - val_loss: 0.4612 - val_accuracy: 0.7548\n",
      "Epoch 10/300\n",
      "51/51 [==============================] - 0s 1ms/step - loss: 0.5247 - accuracy: 0.7536 - val_loss: 0.4582 - val_accuracy: 0.7576\n",
      "Epoch 11/300\n",
      "51/51 [==============================] - 0s 1ms/step - loss: 0.5207 - accuracy: 0.7544 - val_loss: 0.4564 - val_accuracy: 0.7576\n",
      "Epoch 12/300\n",
      "51/51 [==============================] - 0s 1ms/step - loss: 0.5176 - accuracy: 0.7553 - val_loss: 0.4540 - val_accuracy: 0.7591\n",
      "Epoch 13/300\n",
      "51/51 [==============================] - 0s 1ms/step - loss: 0.5151 - accuracy: 0.7580 - val_loss: 0.4520 - val_accuracy: 0.7626\n",
      "Epoch 14/300\n",
      "51/51 [==============================] - 0s 1ms/step - loss: 0.5126 - accuracy: 0.7577 - val_loss: 0.4529 - val_accuracy: 0.7612\n",
      "Epoch 15/300\n",
      "51/51 [==============================] - 0s 1ms/step - loss: 0.5106 - accuracy: 0.7592 - val_loss: 0.4558 - val_accuracy: 0.7569\n",
      "Epoch 16/300\n",
      "51/51 [==============================] - 0s 1ms/step - loss: 0.5093 - accuracy: 0.7584 - val_loss: 0.4548 - val_accuracy: 0.7548\n",
      "Epoch 17/300\n",
      "51/51 [==============================] - 0s 2ms/step - loss: 0.5076 - accuracy: 0.7592 - val_loss: 0.4528 - val_accuracy: 0.7569\n",
      "Epoch 18/300\n",
      "51/51 [==============================] - 0s 1ms/step - loss: 0.5062 - accuracy: 0.7598 - val_loss: 0.4546 - val_accuracy: 0.7562\n",
      "Epoch 19/300\n",
      "51/51 [==============================] - 0s 1ms/step - loss: 0.5055 - accuracy: 0.7614 - val_loss: 0.4538 - val_accuracy: 0.7598\n",
      "Epoch 20/300\n",
      "51/51 [==============================] - 0s 1ms/step - loss: 0.5042 - accuracy: 0.7611 - val_loss: 0.4503 - val_accuracy: 0.7605\n",
      "Epoch 21/300\n",
      "51/51 [==============================] - 0s 1ms/step - loss: 0.5029 - accuracy: 0.7609 - val_loss: 0.4541 - val_accuracy: 0.7591\n",
      "Epoch 22/300\n",
      "51/51 [==============================] - 0s 1ms/step - loss: 0.5021 - accuracy: 0.7619 - val_loss: 0.4541 - val_accuracy: 0.7598\n",
      "Epoch 23/300\n",
      "51/51 [==============================] - 0s 1ms/step - loss: 0.5010 - accuracy: 0.7620 - val_loss: 0.4535 - val_accuracy: 0.7598\n",
      "Epoch 24/300\n",
      "51/51 [==============================] - 0s 1ms/step - loss: 0.5004 - accuracy: 0.7612 - val_loss: 0.4527 - val_accuracy: 0.7605\n",
      "Epoch 25/300\n",
      "51/51 [==============================] - 0s 1ms/step - loss: 0.4994 - accuracy: 0.7612 - val_loss: 0.4553 - val_accuracy: 0.7591\n",
      "Epoch 26/300\n",
      "51/51 [==============================] - 0s 1ms/step - loss: 0.4987 - accuracy: 0.7623 - val_loss: 0.4538 - val_accuracy: 0.7612\n",
      "Epoch 27/300\n",
      "51/51 [==============================] - 0s 1ms/step - loss: 0.4979 - accuracy: 0.7634 - val_loss: 0.4532 - val_accuracy: 0.7619\n",
      "Epoch 28/300\n",
      "51/51 [==============================] - 0s 1ms/step - loss: 0.4973 - accuracy: 0.7637 - val_loss: 0.4529 - val_accuracy: 0.7619\n",
      "Epoch 29/300\n",
      "51/51 [==============================] - 0s 1ms/step - loss: 0.4964 - accuracy: 0.7644 - val_loss: 0.4480 - val_accuracy: 0.7633\n",
      "Epoch 30/300\n",
      "51/51 [==============================] - 0s 1ms/step - loss: 0.4957 - accuracy: 0.7628 - val_loss: 0.4511 - val_accuracy: 0.7619\n",
      "Epoch 31/300\n",
      "51/51 [==============================] - 0s 1ms/step - loss: 0.4948 - accuracy: 0.7639 - val_loss: 0.4530 - val_accuracy: 0.7612\n",
      "Epoch 32/300\n",
      "51/51 [==============================] - 0s 1ms/step - loss: 0.4941 - accuracy: 0.7641 - val_loss: 0.4508 - val_accuracy: 0.7626\n",
      "Epoch 33/300\n",
      "51/51 [==============================] - 0s 1ms/step - loss: 0.4943 - accuracy: 0.7636 - val_loss: 0.4521 - val_accuracy: 0.7619\n",
      "Epoch 34/300\n",
      "51/51 [==============================] - 0s 1ms/step - loss: 0.4929 - accuracy: 0.7637 - val_loss: 0.4526 - val_accuracy: 0.7626\n",
      "Epoch 35/300\n",
      "51/51 [==============================] - 0s 1ms/step - loss: 0.4927 - accuracy: 0.7630 - val_loss: 0.4492 - val_accuracy: 0.7633\n",
      "Epoch 36/300\n",
      "51/51 [==============================] - 0s 1ms/step - loss: 0.4921 - accuracy: 0.7651 - val_loss: 0.4497 - val_accuracy: 0.7633\n",
      "Epoch 37/300\n",
      "51/51 [==============================] - 0s 1ms/step - loss: 0.4912 - accuracy: 0.7642 - val_loss: 0.4531 - val_accuracy: 0.7619\n",
      "Epoch 38/300\n",
      "51/51 [==============================] - 0s 1ms/step - loss: 0.4908 - accuracy: 0.7642 - val_loss: 0.4557 - val_accuracy: 0.7612\n",
      "Epoch 39/300\n",
      "51/51 [==============================] - 0s 1ms/step - loss: 0.4906 - accuracy: 0.7644 - val_loss: 0.4500 - val_accuracy: 0.7655\n",
      "Epoch 40/300\n",
      "51/51 [==============================] - 0s 1ms/step - loss: 0.4904 - accuracy: 0.7636 - val_loss: 0.4542 - val_accuracy: 0.7633\n",
      "Epoch 41/300\n",
      "51/51 [==============================] - 0s 1ms/step - loss: 0.4898 - accuracy: 0.7641 - val_loss: 0.4504 - val_accuracy: 0.7640\n",
      "Epoch 42/300\n",
      "51/51 [==============================] - 0s 1ms/step - loss: 0.4895 - accuracy: 0.7641 - val_loss: 0.4492 - val_accuracy: 0.7647\n",
      "Epoch 43/300\n",
      "51/51 [==============================] - 0s 1ms/step - loss: 0.4891 - accuracy: 0.7639 - val_loss: 0.4506 - val_accuracy: 0.7647\n",
      "Epoch 44/300\n",
      "51/51 [==============================] - 0s 1ms/step - loss: 0.4883 - accuracy: 0.7667 - val_loss: 0.4454 - val_accuracy: 0.7655\n",
      "Epoch 45/300\n",
      "51/51 [==============================] - 0s 1ms/step - loss: 0.4879 - accuracy: 0.7639 - val_loss: 0.4586 - val_accuracy: 0.7647\n",
      "Epoch 46/300\n",
      "51/51 [==============================] - 0s 1ms/step - loss: 0.4877 - accuracy: 0.7651 - val_loss: 0.4508 - val_accuracy: 0.7626\n",
      "Epoch 47/300\n",
      "51/51 [==============================] - 0s 1ms/step - loss: 0.4873 - accuracy: 0.7656 - val_loss: 0.4516 - val_accuracy: 0.7626\n",
      "Epoch 48/300\n",
      "51/51 [==============================] - 0s 1ms/step - loss: 0.4869 - accuracy: 0.7648 - val_loss: 0.4542 - val_accuracy: 0.7633\n",
      "Epoch 49/300\n",
      "51/51 [==============================] - 0s 1ms/step - loss: 0.4865 - accuracy: 0.7651 - val_loss: 0.4506 - val_accuracy: 0.7626\n",
      "Epoch 50/300\n",
      "51/51 [==============================] - 0s 1ms/step - loss: 0.4863 - accuracy: 0.7647 - val_loss: 0.4488 - val_accuracy: 0.7626\n",
      "Epoch 51/300\n",
      "51/51 [==============================] - 0s 1ms/step - loss: 0.4862 - accuracy: 0.7636 - val_loss: 0.4552 - val_accuracy: 0.7633\n",
      "Epoch 52/300\n",
      "51/51 [==============================] - 0s 1ms/step - loss: 0.4859 - accuracy: 0.7647 - val_loss: 0.4513 - val_accuracy: 0.7655\n",
      "Epoch 53/300\n",
      "51/51 [==============================] - 0s 1ms/step - loss: 0.4857 - accuracy: 0.7651 - val_loss: 0.4486 - val_accuracy: 0.7683\n",
      "Epoch 54/300\n",
      "51/51 [==============================] - 0s 1ms/step - loss: 0.4859 - accuracy: 0.7641 - val_loss: 0.4517 - val_accuracy: 0.7626\n",
      "Epoch 55/300\n",
      "51/51 [==============================] - 0s 1ms/step - loss: 0.4850 - accuracy: 0.7644 - val_loss: 0.4560 - val_accuracy: 0.7633\n",
      "Epoch 56/300\n",
      "51/51 [==============================] - 0s 1ms/step - loss: 0.4850 - accuracy: 0.7648 - val_loss: 0.4559 - val_accuracy: 0.7619\n",
      "Epoch 57/300\n",
      "51/51 [==============================] - 0s 1ms/step - loss: 0.4847 - accuracy: 0.7653 - val_loss: 0.4482 - val_accuracy: 0.7633\n",
      "Epoch 58/300\n",
      "51/51 [==============================] - 0s 1ms/step - loss: 0.4852 - accuracy: 0.7653 - val_loss: 0.4526 - val_accuracy: 0.7612\n",
      "Epoch 59/300\n",
      "51/51 [==============================] - 0s 1ms/step - loss: 0.4846 - accuracy: 0.7641 - val_loss: 0.4562 - val_accuracy: 0.7584\n",
      "Epoch 60/300\n",
      "51/51 [==============================] - 0s 1ms/step - loss: 0.4844 - accuracy: 0.7634 - val_loss: 0.4556 - val_accuracy: 0.7619\n",
      "Epoch 61/300\n",
      "51/51 [==============================] - 0s 1ms/step - loss: 0.4844 - accuracy: 0.7644 - val_loss: 0.4547 - val_accuracy: 0.7619\n",
      "Epoch 62/300\n",
      "51/51 [==============================] - 0s 1ms/step - loss: 0.4839 - accuracy: 0.7645 - val_loss: 0.4575 - val_accuracy: 0.7619\n",
      "Epoch 63/300\n",
      "51/51 [==============================] - 0s 2ms/step - loss: 0.4836 - accuracy: 0.7648 - val_loss: 0.4551 - val_accuracy: 0.7612\n",
      "Epoch 64/300\n",
      "51/51 [==============================] - 0s 2ms/step - loss: 0.4835 - accuracy: 0.7648 - val_loss: 0.4532 - val_accuracy: 0.7626\n",
      "Epoch 65/300\n",
      "51/51 [==============================] - 0s 2ms/step - loss: 0.4833 - accuracy: 0.7666 - val_loss: 0.4535 - val_accuracy: 0.7626\n",
      "Epoch 66/300\n",
      "51/51 [==============================] - 0s 2ms/step - loss: 0.4830 - accuracy: 0.7647 - val_loss: 0.4555 - val_accuracy: 0.7619\n",
      "Epoch 67/300\n",
      "51/51 [==============================] - 0s 2ms/step - loss: 0.4832 - accuracy: 0.7645 - val_loss: 0.4559 - val_accuracy: 0.7612\n",
      "Epoch 68/300\n",
      "51/51 [==============================] - 0s 2ms/step - loss: 0.4829 - accuracy: 0.7645 - val_loss: 0.4577 - val_accuracy: 0.7605\n",
      "Epoch 69/300\n",
      "51/51 [==============================] - 0s 2ms/step - loss: 0.4827 - accuracy: 0.7650 - val_loss: 0.4548 - val_accuracy: 0.7598\n",
      "Epoch 70/300\n",
      "51/51 [==============================] - 0s 2ms/step - loss: 0.4827 - accuracy: 0.7658 - val_loss: 0.4536 - val_accuracy: 0.7626\n",
      "Epoch 71/300\n",
      "51/51 [==============================] - 0s 2ms/step - loss: 0.4824 - accuracy: 0.7658 - val_loss: 0.4566 - val_accuracy: 0.7612\n",
      "Epoch 72/300\n",
      "51/51 [==============================] - 0s 1ms/step - loss: 0.4826 - accuracy: 0.7655 - val_loss: 0.4556 - val_accuracy: 0.7619\n",
      "Epoch 73/300\n",
      "51/51 [==============================] - 0s 4ms/step - loss: 0.4827 - accuracy: 0.7669 - val_loss: 0.4536 - val_accuracy: 0.7647\n",
      "Epoch 74/300\n",
      "51/51 [==============================] - 0s 4ms/step - loss: 0.4824 - accuracy: 0.7645 - val_loss: 0.4539 - val_accuracy: 0.7619\n",
      "Epoch 75/300\n",
      "51/51 [==============================] - 0s 2ms/step - loss: 0.4825 - accuracy: 0.7658 - val_loss: 0.4598 - val_accuracy: 0.7633\n",
      "Epoch 76/300\n",
      "51/51 [==============================] - 0s 2ms/step - loss: 0.4826 - accuracy: 0.7641 - val_loss: 0.4528 - val_accuracy: 0.7647\n",
      "Epoch 77/300\n",
      "51/51 [==============================] - 0s 2ms/step - loss: 0.4821 - accuracy: 0.7645 - val_loss: 0.4568 - val_accuracy: 0.7633\n",
      "Epoch 78/300\n",
      "51/51 [==============================] - 0s 1ms/step - loss: 0.4822 - accuracy: 0.7634 - val_loss: 0.4518 - val_accuracy: 0.7640\n",
      "Epoch 79/300\n",
      "51/51 [==============================] - 0s 2ms/step - loss: 0.4817 - accuracy: 0.7661 - val_loss: 0.4521 - val_accuracy: 0.7662\n",
      "Epoch 80/300\n",
      "51/51 [==============================] - 0s 2ms/step - loss: 0.4817 - accuracy: 0.7658 - val_loss: 0.4529 - val_accuracy: 0.7633\n",
      "Epoch 81/300\n",
      "51/51 [==============================] - 0s 2ms/step - loss: 0.4823 - accuracy: 0.7664 - val_loss: 0.4637 - val_accuracy: 0.7619\n",
      "Epoch 82/300\n",
      "51/51 [==============================] - 0s 2ms/step - loss: 0.4818 - accuracy: 0.7648 - val_loss: 0.4543 - val_accuracy: 0.7647\n",
      "Epoch 83/300\n",
      "51/51 [==============================] - 0s 2ms/step - loss: 0.4813 - accuracy: 0.7645 - val_loss: 0.4605 - val_accuracy: 0.7626\n",
      "Epoch 84/300\n",
      "51/51 [==============================] - 0s 1ms/step - loss: 0.4814 - accuracy: 0.7664 - val_loss: 0.4551 - val_accuracy: 0.7633\n",
      "Epoch 85/300\n",
      "51/51 [==============================] - 0s 1ms/step - loss: 0.4817 - accuracy: 0.7633 - val_loss: 0.4585 - val_accuracy: 0.7647\n",
      "Epoch 86/300\n",
      "51/51 [==============================] - 0s 2ms/step - loss: 0.4819 - accuracy: 0.7658 - val_loss: 0.4507 - val_accuracy: 0.7676\n",
      "Epoch 87/300\n",
      "51/51 [==============================] - 0s 2ms/step - loss: 0.4808 - accuracy: 0.7641 - val_loss: 0.4536 - val_accuracy: 0.7633\n",
      "Epoch 88/300\n",
      "51/51 [==============================] - 0s 2ms/step - loss: 0.4810 - accuracy: 0.7645 - val_loss: 0.4624 - val_accuracy: 0.7626\n",
      "Epoch 89/300\n",
      "51/51 [==============================] - 0s 2ms/step - loss: 0.4824 - accuracy: 0.7642 - val_loss: 0.4536 - val_accuracy: 0.7619\n",
      "Epoch 90/300\n",
      "51/51 [==============================] - 0s 1ms/step - loss: 0.4814 - accuracy: 0.7655 - val_loss: 0.4544 - val_accuracy: 0.7605\n",
      "Epoch 91/300\n",
      "51/51 [==============================] - 0s 1ms/step - loss: 0.4813 - accuracy: 0.7645 - val_loss: 0.4612 - val_accuracy: 0.7605\n",
      "Epoch 92/300\n",
      "51/51 [==============================] - 0s 2ms/step - loss: 0.4809 - accuracy: 0.7650 - val_loss: 0.4572 - val_accuracy: 0.7619\n",
      "Epoch 93/300\n",
      "51/51 [==============================] - 0s 3ms/step - loss: 0.4806 - accuracy: 0.7650 - val_loss: 0.4569 - val_accuracy: 0.7633\n",
      "Epoch 94/300\n",
      "51/51 [==============================] - 0s 4ms/step - loss: 0.4805 - accuracy: 0.7661 - val_loss: 0.4553 - val_accuracy: 0.7626\n",
      "Epoch 95/300\n",
      "51/51 [==============================] - 0s 4ms/step - loss: 0.4810 - accuracy: 0.7659 - val_loss: 0.4540 - val_accuracy: 0.7619\n",
      "Epoch 96/300\n",
      "51/51 [==============================] - 0s 4ms/step - loss: 0.4805 - accuracy: 0.7648 - val_loss: 0.4590 - val_accuracy: 0.7605\n",
      "Epoch 97/300\n",
      "51/51 [==============================] - 0s 2ms/step - loss: 0.4804 - accuracy: 0.7648 - val_loss: 0.4593 - val_accuracy: 0.7619\n",
      "Epoch 98/300\n",
      "51/51 [==============================] - 0s 2ms/step - loss: 0.4803 - accuracy: 0.7661 - val_loss: 0.4547 - val_accuracy: 0.7647\n",
      "Epoch 99/300\n",
      "51/51 [==============================] - 0s 2ms/step - loss: 0.4817 - accuracy: 0.7658 - val_loss: 0.4553 - val_accuracy: 0.7619\n",
      "Epoch 100/300\n",
      "51/51 [==============================] - 0s 1ms/step - loss: 0.4802 - accuracy: 0.7683 - val_loss: 0.4544 - val_accuracy: 0.7655\n",
      "Epoch 101/300\n",
      "51/51 [==============================] - 0s 2ms/step - loss: 0.4800 - accuracy: 0.7672 - val_loss: 0.4554 - val_accuracy: 0.7655\n",
      "Epoch 102/300\n",
      "51/51 [==============================] - 0s 1ms/step - loss: 0.4802 - accuracy: 0.7683 - val_loss: 0.4636 - val_accuracy: 0.7591\n",
      "Epoch 103/300\n",
      "51/51 [==============================] - 0s 1ms/step - loss: 0.4805 - accuracy: 0.7669 - val_loss: 0.4561 - val_accuracy: 0.7626\n",
      "Epoch 104/300\n",
      "51/51 [==============================] - 0s 1ms/step - loss: 0.4799 - accuracy: 0.7667 - val_loss: 0.4542 - val_accuracy: 0.7605\n",
      "Epoch 105/300\n",
      "51/51 [==============================] - 0s 2ms/step - loss: 0.4799 - accuracy: 0.7661 - val_loss: 0.4584 - val_accuracy: 0.7605\n",
      "Epoch 106/300\n",
      "51/51 [==============================] - 0s 2ms/step - loss: 0.4801 - accuracy: 0.7653 - val_loss: 0.4541 - val_accuracy: 0.7626\n",
      "Epoch 107/300\n",
      "51/51 [==============================] - 0s 1ms/step - loss: 0.4797 - accuracy: 0.7672 - val_loss: 0.4558 - val_accuracy: 0.7626\n",
      "Epoch 108/300\n",
      "51/51 [==============================] - 0s 1ms/step - loss: 0.4796 - accuracy: 0.7672 - val_loss: 0.4560 - val_accuracy: 0.7626\n",
      "Epoch 109/300\n",
      "51/51 [==============================] - 0s 1ms/step - loss: 0.4797 - accuracy: 0.7673 - val_loss: 0.4594 - val_accuracy: 0.7598\n",
      "Epoch 110/300\n",
      "51/51 [==============================] - 0s 2ms/step - loss: 0.4799 - accuracy: 0.7691 - val_loss: 0.4584 - val_accuracy: 0.7598\n",
      "Epoch 111/300\n",
      "51/51 [==============================] - 0s 1ms/step - loss: 0.4811 - accuracy: 0.7655 - val_loss: 0.4572 - val_accuracy: 0.7605\n",
      "Epoch 112/300\n",
      "51/51 [==============================] - 0s 2ms/step - loss: 0.4797 - accuracy: 0.7653 - val_loss: 0.4603 - val_accuracy: 0.7598\n",
      "Epoch 113/300\n",
      "51/51 [==============================] - 0s 1ms/step - loss: 0.4796 - accuracy: 0.7675 - val_loss: 0.4592 - val_accuracy: 0.7598\n",
      "Epoch 114/300\n",
      "51/51 [==============================] - 0s 2ms/step - loss: 0.4794 - accuracy: 0.7664 - val_loss: 0.4535 - val_accuracy: 0.7626\n",
      "Epoch 115/300\n",
      "51/51 [==============================] - 0s 1ms/step - loss: 0.4796 - accuracy: 0.7667 - val_loss: 0.4548 - val_accuracy: 0.7619\n",
      "Epoch 116/300\n",
      "51/51 [==============================] - 0s 1ms/step - loss: 0.4802 - accuracy: 0.7672 - val_loss: 0.4563 - val_accuracy: 0.7626\n",
      "Epoch 117/300\n",
      "51/51 [==============================] - 0s 2ms/step - loss: 0.4797 - accuracy: 0.7655 - val_loss: 0.4573 - val_accuracy: 0.7612\n",
      "Epoch 118/300\n",
      "51/51 [==============================] - 0s 1ms/step - loss: 0.4792 - accuracy: 0.7670 - val_loss: 0.4595 - val_accuracy: 0.7598\n",
      "Epoch 119/300\n",
      "51/51 [==============================] - 0s 1ms/step - loss: 0.4794 - accuracy: 0.7642 - val_loss: 0.4530 - val_accuracy: 0.7619\n",
      "Epoch 120/300\n",
      "51/51 [==============================] - 0s 2ms/step - loss: 0.4800 - accuracy: 0.7659 - val_loss: 0.4529 - val_accuracy: 0.7633\n",
      "Epoch 121/300\n",
      "51/51 [==============================] - 0s 1ms/step - loss: 0.4792 - accuracy: 0.7661 - val_loss: 0.4532 - val_accuracy: 0.7633\n",
      "Epoch 122/300\n",
      "51/51 [==============================] - 0s 1ms/step - loss: 0.4794 - accuracy: 0.7661 - val_loss: 0.4614 - val_accuracy: 0.7605\n",
      "Epoch 123/300\n",
      "51/51 [==============================] - 0s 2ms/step - loss: 0.4788 - accuracy: 0.7666 - val_loss: 0.4567 - val_accuracy: 0.7584\n",
      "Epoch 124/300\n",
      "51/51 [==============================] - 0s 1ms/step - loss: 0.4787 - accuracy: 0.7664 - val_loss: 0.4560 - val_accuracy: 0.7619\n",
      "Epoch 125/300\n",
      "51/51 [==============================] - 0s 1ms/step - loss: 0.4789 - accuracy: 0.7644 - val_loss: 0.4590 - val_accuracy: 0.7598\n",
      "Epoch 126/300\n",
      "51/51 [==============================] - 0s 1ms/step - loss: 0.4794 - accuracy: 0.7658 - val_loss: 0.4620 - val_accuracy: 0.7598\n",
      "Epoch 127/300\n",
      "51/51 [==============================] - 0s 1ms/step - loss: 0.4789 - accuracy: 0.7683 - val_loss: 0.4575 - val_accuracy: 0.7598\n",
      "Epoch 128/300\n",
      "51/51 [==============================] - 0s 1ms/step - loss: 0.4791 - accuracy: 0.7662 - val_loss: 0.4616 - val_accuracy: 0.7605\n",
      "Epoch 129/300\n",
      "51/51 [==============================] - 0s 1ms/step - loss: 0.4791 - accuracy: 0.7664 - val_loss: 0.4557 - val_accuracy: 0.7655\n",
      "Epoch 130/300\n",
      "51/51 [==============================] - 0s 1ms/step - loss: 0.4795 - accuracy: 0.7672 - val_loss: 0.4610 - val_accuracy: 0.7584\n",
      "Epoch 131/300\n",
      "51/51 [==============================] - 0s 1ms/step - loss: 0.4792 - accuracy: 0.7692 - val_loss: 0.4574 - val_accuracy: 0.7598\n",
      "Epoch 132/300\n",
      "51/51 [==============================] - 0s 2ms/step - loss: 0.4792 - accuracy: 0.7669 - val_loss: 0.4576 - val_accuracy: 0.7640\n",
      "Epoch 133/300\n",
      "51/51 [==============================] - 0s 2ms/step - loss: 0.4786 - accuracy: 0.7681 - val_loss: 0.4567 - val_accuracy: 0.7626\n",
      "Epoch 134/300\n",
      "51/51 [==============================] - 0s 2ms/step - loss: 0.4786 - accuracy: 0.7659 - val_loss: 0.4615 - val_accuracy: 0.7576\n",
      "Epoch 135/300\n",
      "51/51 [==============================] - 0s 1ms/step - loss: 0.4785 - accuracy: 0.7681 - val_loss: 0.4570 - val_accuracy: 0.7605\n",
      "Epoch 136/300\n",
      "51/51 [==============================] - 0s 1ms/step - loss: 0.4786 - accuracy: 0.7658 - val_loss: 0.4584 - val_accuracy: 0.7605\n",
      "Epoch 137/300\n",
      "51/51 [==============================] - 0s 2ms/step - loss: 0.4786 - accuracy: 0.7678 - val_loss: 0.4579 - val_accuracy: 0.7619\n",
      "Epoch 138/300\n",
      "51/51 [==============================] - 0s 1ms/step - loss: 0.4787 - accuracy: 0.7683 - val_loss: 0.4593 - val_accuracy: 0.7612\n",
      "Epoch 139/300\n",
      "51/51 [==============================] - 0s 1ms/step - loss: 0.4784 - accuracy: 0.7666 - val_loss: 0.4547 - val_accuracy: 0.7647\n",
      "Epoch 140/300\n",
      "51/51 [==============================] - 0s 2ms/step - loss: 0.4783 - accuracy: 0.7678 - val_loss: 0.4642 - val_accuracy: 0.7541\n",
      "Epoch 141/300\n",
      "51/51 [==============================] - 0s 1ms/step - loss: 0.4791 - accuracy: 0.7672 - val_loss: 0.4626 - val_accuracy: 0.7569\n",
      "Epoch 142/300\n",
      "51/51 [==============================] - 0s 2ms/step - loss: 0.4787 - accuracy: 0.7676 - val_loss: 0.4601 - val_accuracy: 0.7655\n",
      "Epoch 143/300\n",
      "51/51 [==============================] - 0s 2ms/step - loss: 0.4786 - accuracy: 0.7692 - val_loss: 0.4580 - val_accuracy: 0.7647\n",
      "Epoch 144/300\n",
      "51/51 [==============================] - 0s 1ms/step - loss: 0.4782 - accuracy: 0.7676 - val_loss: 0.4540 - val_accuracy: 0.7690\n",
      "Epoch 145/300\n",
      "51/51 [==============================] - 0s 2ms/step - loss: 0.4787 - accuracy: 0.7669 - val_loss: 0.4619 - val_accuracy: 0.7612\n",
      "Epoch 146/300\n",
      "51/51 [==============================] - 0s 2ms/step - loss: 0.4790 - accuracy: 0.7662 - val_loss: 0.4574 - val_accuracy: 0.7640\n",
      "Epoch 147/300\n",
      "51/51 [==============================] - 0s 1ms/step - loss: 0.4781 - accuracy: 0.7687 - val_loss: 0.4577 - val_accuracy: 0.7640\n",
      "Epoch 148/300\n",
      "51/51 [==============================] - 0s 1ms/step - loss: 0.4781 - accuracy: 0.7670 - val_loss: 0.4595 - val_accuracy: 0.7626\n",
      "Epoch 149/300\n",
      "51/51 [==============================] - 0s 1ms/step - loss: 0.4780 - accuracy: 0.7680 - val_loss: 0.4599 - val_accuracy: 0.7626\n",
      "Epoch 150/300\n",
      "51/51 [==============================] - 0s 4ms/step - loss: 0.4787 - accuracy: 0.7683 - val_loss: 0.4570 - val_accuracy: 0.7697\n",
      "Epoch 151/300\n",
      "51/51 [==============================] - 0s 2ms/step - loss: 0.4779 - accuracy: 0.7672 - val_loss: 0.4610 - val_accuracy: 0.7626\n",
      "Epoch 152/300\n",
      "51/51 [==============================] - 0s 1ms/step - loss: 0.4785 - accuracy: 0.7656 - val_loss: 0.4543 - val_accuracy: 0.7676\n",
      "Epoch 153/300\n",
      "51/51 [==============================] - 0s 2ms/step - loss: 0.4784 - accuracy: 0.7669 - val_loss: 0.4590 - val_accuracy: 0.7640\n",
      "Epoch 154/300\n",
      "51/51 [==============================] - 0s 2ms/step - loss: 0.4780 - accuracy: 0.7661 - val_loss: 0.4544 - val_accuracy: 0.7690\n",
      "Epoch 155/300\n",
      "51/51 [==============================] - 0s 2ms/step - loss: 0.4783 - accuracy: 0.7651 - val_loss: 0.4551 - val_accuracy: 0.7690\n",
      "Epoch 156/300\n",
      "51/51 [==============================] - 0s 1ms/step - loss: 0.4781 - accuracy: 0.7666 - val_loss: 0.4618 - val_accuracy: 0.7584\n",
      "Epoch 157/300\n",
      "51/51 [==============================] - 0s 1ms/step - loss: 0.4777 - accuracy: 0.7673 - val_loss: 0.4622 - val_accuracy: 0.7598\n",
      "Epoch 158/300\n",
      "51/51 [==============================] - 0s 1ms/step - loss: 0.4778 - accuracy: 0.7659 - val_loss: 0.4654 - val_accuracy: 0.7541\n",
      "Epoch 159/300\n",
      "51/51 [==============================] - 0s 1ms/step - loss: 0.4779 - accuracy: 0.7662 - val_loss: 0.4550 - val_accuracy: 0.7683\n",
      "Epoch 160/300\n",
      "51/51 [==============================] - 0s 2ms/step - loss: 0.4777 - accuracy: 0.7659 - val_loss: 0.4637 - val_accuracy: 0.7591\n",
      "Epoch 161/300\n",
      "51/51 [==============================] - 0s 2ms/step - loss: 0.4775 - accuracy: 0.7689 - val_loss: 0.4584 - val_accuracy: 0.7662\n",
      "Epoch 162/300\n",
      "51/51 [==============================] - 0s 2ms/step - loss: 0.4803 - accuracy: 0.7647 - val_loss: 0.4584 - val_accuracy: 0.7612\n",
      "Epoch 163/300\n",
      "51/51 [==============================] - 0s 2ms/step - loss: 0.4775 - accuracy: 0.7669 - val_loss: 0.4615 - val_accuracy: 0.7619\n",
      "Epoch 164/300\n",
      "51/51 [==============================] - 0s 2ms/step - loss: 0.4776 - accuracy: 0.7669 - val_loss: 0.4529 - val_accuracy: 0.7697\n",
      "Epoch 165/300\n",
      "51/51 [==============================] - 0s 1ms/step - loss: 0.4778 - accuracy: 0.7666 - val_loss: 0.4582 - val_accuracy: 0.7640\n",
      "Epoch 166/300\n",
      "51/51 [==============================] - 0s 1ms/step - loss: 0.4776 - accuracy: 0.7676 - val_loss: 0.4562 - val_accuracy: 0.7669\n",
      "Epoch 167/300\n",
      "51/51 [==============================] - 0s 1ms/step - loss: 0.4774 - accuracy: 0.7681 - val_loss: 0.4575 - val_accuracy: 0.7662\n",
      "Epoch 168/300\n",
      "51/51 [==============================] - 0s 2ms/step - loss: 0.4777 - accuracy: 0.7672 - val_loss: 0.4581 - val_accuracy: 0.7662\n",
      "Epoch 169/300\n",
      "51/51 [==============================] - 0s 2ms/step - loss: 0.4776 - accuracy: 0.7681 - val_loss: 0.4574 - val_accuracy: 0.7662\n",
      "Epoch 170/300\n",
      "51/51 [==============================] - 0s 2ms/step - loss: 0.4771 - accuracy: 0.7675 - val_loss: 0.4594 - val_accuracy: 0.7669\n",
      "Epoch 171/300\n",
      "51/51 [==============================] - 0s 1ms/step - loss: 0.4782 - accuracy: 0.7673 - val_loss: 0.4550 - val_accuracy: 0.7683\n",
      "Epoch 172/300\n",
      "51/51 [==============================] - 0s 1ms/step - loss: 0.4772 - accuracy: 0.7672 - val_loss: 0.4619 - val_accuracy: 0.7669\n",
      "Epoch 173/300\n",
      "51/51 [==============================] - 0s 1ms/step - loss: 0.4774 - accuracy: 0.7683 - val_loss: 0.4664 - val_accuracy: 0.7548\n",
      "Epoch 174/300\n",
      "51/51 [==============================] - 0s 2ms/step - loss: 0.4789 - accuracy: 0.7658 - val_loss: 0.4619 - val_accuracy: 0.7626\n",
      "Epoch 175/300\n",
      "51/51 [==============================] - 0s 2ms/step - loss: 0.4771 - accuracy: 0.7700 - val_loss: 0.4596 - val_accuracy: 0.7633\n",
      "Epoch 176/300\n",
      "51/51 [==============================] - 0s 1ms/step - loss: 0.4770 - accuracy: 0.7669 - val_loss: 0.4583 - val_accuracy: 0.7655\n",
      "Epoch 177/300\n",
      "51/51 [==============================] - 0s 2ms/step - loss: 0.4774 - accuracy: 0.7675 - val_loss: 0.4604 - val_accuracy: 0.7612\n",
      "Epoch 178/300\n",
      "51/51 [==============================] - 0s 2ms/step - loss: 0.4784 - accuracy: 0.7653 - val_loss: 0.4528 - val_accuracy: 0.7683\n",
      "Epoch 179/300\n",
      "51/51 [==============================] - 0s 1ms/step - loss: 0.4773 - accuracy: 0.7641 - val_loss: 0.4597 - val_accuracy: 0.7633\n",
      "Epoch 180/300\n",
      "51/51 [==============================] - 0s 2ms/step - loss: 0.4772 - accuracy: 0.7659 - val_loss: 0.4663 - val_accuracy: 0.7598\n",
      "Epoch 181/300\n",
      "51/51 [==============================] - 0s 1ms/step - loss: 0.4781 - accuracy: 0.7634 - val_loss: 0.4560 - val_accuracy: 0.7697\n",
      "Epoch 182/300\n",
      "51/51 [==============================] - 0s 2ms/step - loss: 0.4769 - accuracy: 0.7684 - val_loss: 0.4535 - val_accuracy: 0.7690\n",
      "Epoch 183/300\n",
      "51/51 [==============================] - 0s 2ms/step - loss: 0.4770 - accuracy: 0.7658 - val_loss: 0.4615 - val_accuracy: 0.7640\n",
      "Epoch 184/300\n",
      "51/51 [==============================] - 0s 2ms/step - loss: 0.4769 - accuracy: 0.7697 - val_loss: 0.4569 - val_accuracy: 0.7655\n",
      "Epoch 185/300\n",
      "51/51 [==============================] - 0s 1ms/step - loss: 0.4767 - accuracy: 0.7658 - val_loss: 0.4610 - val_accuracy: 0.7640\n",
      "Epoch 186/300\n",
      "51/51 [==============================] - 0s 1ms/step - loss: 0.4767 - accuracy: 0.7686 - val_loss: 0.4599 - val_accuracy: 0.7647\n",
      "Epoch 187/300\n",
      "51/51 [==============================] - 0s 2ms/step - loss: 0.4766 - accuracy: 0.7695 - val_loss: 0.4612 - val_accuracy: 0.7626\n",
      "Epoch 188/300\n",
      "51/51 [==============================] - 0s 1ms/step - loss: 0.4772 - accuracy: 0.7695 - val_loss: 0.4662 - val_accuracy: 0.7569\n",
      "Epoch 189/300\n",
      "51/51 [==============================] - 0s 1ms/step - loss: 0.4769 - accuracy: 0.7691 - val_loss: 0.4637 - val_accuracy: 0.7569\n",
      "Epoch 190/300\n",
      "51/51 [==============================] - 0s 2ms/step - loss: 0.4769 - accuracy: 0.7687 - val_loss: 0.4556 - val_accuracy: 0.7676\n",
      "Epoch 191/300\n",
      "51/51 [==============================] - 0s 2ms/step - loss: 0.4772 - accuracy: 0.7680 - val_loss: 0.4577 - val_accuracy: 0.7669\n",
      "Epoch 192/300\n",
      "51/51 [==============================] - 0s 1ms/step - loss: 0.4766 - accuracy: 0.7678 - val_loss: 0.4621 - val_accuracy: 0.7619\n",
      "Epoch 193/300\n",
      "51/51 [==============================] - 0s 1ms/step - loss: 0.4773 - accuracy: 0.7659 - val_loss: 0.4557 - val_accuracy: 0.7683\n",
      "Epoch 194/300\n",
      "51/51 [==============================] - 0s 1ms/step - loss: 0.4771 - accuracy: 0.7661 - val_loss: 0.4574 - val_accuracy: 0.7676\n",
      "Epoch 195/300\n",
      "51/51 [==============================] - 0s 2ms/step - loss: 0.4767 - accuracy: 0.7683 - val_loss: 0.4574 - val_accuracy: 0.7662\n",
      "Epoch 196/300\n",
      "51/51 [==============================] - 0s 1ms/step - loss: 0.4767 - accuracy: 0.7684 - val_loss: 0.4628 - val_accuracy: 0.7591\n",
      "Epoch 197/300\n",
      "51/51 [==============================] - 0s 1ms/step - loss: 0.4771 - accuracy: 0.7666 - val_loss: 0.4562 - val_accuracy: 0.7676\n",
      "Epoch 198/300\n",
      "51/51 [==============================] - 0s 1ms/step - loss: 0.4769 - accuracy: 0.7662 - val_loss: 0.4616 - val_accuracy: 0.7640\n",
      "Epoch 199/300\n",
      "51/51 [==============================] - 0s 1ms/step - loss: 0.4763 - accuracy: 0.7676 - val_loss: 0.4540 - val_accuracy: 0.7726\n",
      "Epoch 200/300\n",
      "51/51 [==============================] - 0s 1ms/step - loss: 0.4775 - accuracy: 0.7662 - val_loss: 0.4655 - val_accuracy: 0.7584\n",
      "Epoch 201/300\n",
      "51/51 [==============================] - 0s 1ms/step - loss: 0.4772 - accuracy: 0.7659 - val_loss: 0.4531 - val_accuracy: 0.7683\n",
      "Epoch 202/300\n",
      "51/51 [==============================] - 0s 1ms/step - loss: 0.4770 - accuracy: 0.7659 - val_loss: 0.4532 - val_accuracy: 0.7711\n",
      "Epoch 203/300\n",
      "51/51 [==============================] - 0s 1ms/step - loss: 0.4772 - accuracy: 0.7681 - val_loss: 0.4570 - val_accuracy: 0.7676\n",
      "Epoch 204/300\n",
      "51/51 [==============================] - 0s 1ms/step - loss: 0.4769 - accuracy: 0.7680 - val_loss: 0.4576 - val_accuracy: 0.7640\n",
      "Epoch 205/300\n",
      "51/51 [==============================] - 0s 1ms/step - loss: 0.4764 - accuracy: 0.7691 - val_loss: 0.4564 - val_accuracy: 0.7669\n",
      "Epoch 206/300\n",
      "51/51 [==============================] - 0s 2ms/step - loss: 0.4763 - accuracy: 0.7680 - val_loss: 0.4617 - val_accuracy: 0.7633\n",
      "Epoch 207/300\n",
      "51/51 [==============================] - 0s 1ms/step - loss: 0.4768 - accuracy: 0.7686 - val_loss: 0.4544 - val_accuracy: 0.7697\n",
      "Epoch 208/300\n",
      "51/51 [==============================] - 0s 1ms/step - loss: 0.4765 - accuracy: 0.7678 - val_loss: 0.4611 - val_accuracy: 0.7626\n",
      "Epoch 209/300\n",
      "51/51 [==============================] - 0s 2ms/step - loss: 0.4763 - accuracy: 0.7675 - val_loss: 0.4635 - val_accuracy: 0.7591\n",
      "Epoch 210/300\n",
      "51/51 [==============================] - 0s 2ms/step - loss: 0.4765 - accuracy: 0.7678 - val_loss: 0.4630 - val_accuracy: 0.7612\n",
      "Epoch 211/300\n",
      "51/51 [==============================] - 0s 2ms/step - loss: 0.4763 - accuracy: 0.7684 - val_loss: 0.4654 - val_accuracy: 0.7633\n",
      "Epoch 212/300\n",
      "51/51 [==============================] - 0s 1ms/step - loss: 0.4764 - accuracy: 0.7684 - val_loss: 0.4599 - val_accuracy: 0.7640\n",
      "Epoch 213/300\n",
      "51/51 [==============================] - 0s 2ms/step - loss: 0.4762 - accuracy: 0.7695 - val_loss: 0.4593 - val_accuracy: 0.7655\n",
      "Epoch 214/300\n",
      "51/51 [==============================] - 0s 1ms/step - loss: 0.4761 - accuracy: 0.7694 - val_loss: 0.4611 - val_accuracy: 0.7633\n",
      "Epoch 215/300\n",
      "51/51 [==============================] - 0s 1ms/step - loss: 0.4766 - accuracy: 0.7691 - val_loss: 0.4675 - val_accuracy: 0.7569\n",
      "Epoch 216/300\n",
      "51/51 [==============================] - 0s 1ms/step - loss: 0.4762 - accuracy: 0.7686 - val_loss: 0.4582 - val_accuracy: 0.7669\n",
      "Epoch 217/300\n",
      "51/51 [==============================] - 0s 2ms/step - loss: 0.4759 - accuracy: 0.7680 - val_loss: 0.4675 - val_accuracy: 0.7619\n",
      "Epoch 218/300\n",
      "51/51 [==============================] - 0s 1ms/step - loss: 0.4793 - accuracy: 0.7655 - val_loss: 0.4587 - val_accuracy: 0.7683\n",
      "Epoch 219/300\n",
      "51/51 [==============================] - 0s 1ms/step - loss: 0.4761 - accuracy: 0.7683 - val_loss: 0.4577 - val_accuracy: 0.7683\n",
      "Epoch 220/300\n",
      "51/51 [==============================] - 0s 1ms/step - loss: 0.4763 - accuracy: 0.7670 - val_loss: 0.4601 - val_accuracy: 0.7640\n",
      "Epoch 221/300\n",
      "51/51 [==============================] - 0s 2ms/step - loss: 0.4762 - accuracy: 0.7694 - val_loss: 0.4629 - val_accuracy: 0.7605\n",
      "Epoch 222/300\n",
      "51/51 [==============================] - 0s 1ms/step - loss: 0.4766 - accuracy: 0.7691 - val_loss: 0.4611 - val_accuracy: 0.7640\n",
      "Epoch 223/300\n",
      "51/51 [==============================] - 0s 1ms/step - loss: 0.4767 - accuracy: 0.7662 - val_loss: 0.4607 - val_accuracy: 0.7662\n",
      "Epoch 224/300\n",
      "51/51 [==============================] - 0s 1ms/step - loss: 0.4763 - accuracy: 0.7701 - val_loss: 0.4661 - val_accuracy: 0.7605\n",
      "Epoch 225/300\n",
      "51/51 [==============================] - 0s 2ms/step - loss: 0.4762 - accuracy: 0.7680 - val_loss: 0.4617 - val_accuracy: 0.7626\n",
      "Epoch 226/300\n",
      "51/51 [==============================] - 0s 1ms/step - loss: 0.4759 - accuracy: 0.7680 - val_loss: 0.4547 - val_accuracy: 0.7683\n",
      "Epoch 227/300\n",
      "51/51 [==============================] - 0s 1ms/step - loss: 0.4762 - accuracy: 0.7681 - val_loss: 0.4645 - val_accuracy: 0.7591\n",
      "Epoch 228/300\n",
      "51/51 [==============================] - 0s 2ms/step - loss: 0.4770 - accuracy: 0.7686 - val_loss: 0.4669 - val_accuracy: 0.7612\n",
      "Epoch 229/300\n",
      "51/51 [==============================] - 0s 1ms/step - loss: 0.4766 - accuracy: 0.7687 - val_loss: 0.4678 - val_accuracy: 0.7576\n",
      "Epoch 230/300\n",
      "51/51 [==============================] - 0s 1ms/step - loss: 0.4761 - accuracy: 0.7692 - val_loss: 0.4593 - val_accuracy: 0.7676\n",
      "Epoch 231/300\n",
      "51/51 [==============================] - 0s 1ms/step - loss: 0.4766 - accuracy: 0.7670 - val_loss: 0.4603 - val_accuracy: 0.7662\n",
      "Epoch 232/300\n",
      "51/51 [==============================] - 0s 2ms/step - loss: 0.4761 - accuracy: 0.7673 - val_loss: 0.4625 - val_accuracy: 0.7598\n",
      "Epoch 233/300\n",
      "51/51 [==============================] - 0s 2ms/step - loss: 0.4762 - accuracy: 0.7675 - val_loss: 0.4623 - val_accuracy: 0.7598\n",
      "Epoch 234/300\n",
      "51/51 [==============================] - 0s 1ms/step - loss: 0.4761 - accuracy: 0.7664 - val_loss: 0.4623 - val_accuracy: 0.7605\n",
      "Epoch 235/300\n",
      "51/51 [==============================] - 0s 1ms/step - loss: 0.4762 - accuracy: 0.7680 - val_loss: 0.4601 - val_accuracy: 0.7662\n",
      "Epoch 236/300\n",
      "51/51 [==============================] - 0s 2ms/step - loss: 0.4760 - accuracy: 0.7676 - val_loss: 0.4614 - val_accuracy: 0.7605\n",
      "Epoch 237/300\n",
      "51/51 [==============================] - 0s 1ms/step - loss: 0.4759 - accuracy: 0.7684 - val_loss: 0.4556 - val_accuracy: 0.7676\n",
      "Epoch 238/300\n",
      "51/51 [==============================] - 0s 1ms/step - loss: 0.4765 - accuracy: 0.7678 - val_loss: 0.4652 - val_accuracy: 0.7598\n",
      "Epoch 239/300\n",
      "51/51 [==============================] - 0s 1ms/step - loss: 0.4756 - accuracy: 0.7664 - val_loss: 0.4606 - val_accuracy: 0.7655\n",
      "Epoch 240/300\n",
      "51/51 [==============================] - 0s 2ms/step - loss: 0.4759 - accuracy: 0.7667 - val_loss: 0.4621 - val_accuracy: 0.7647\n",
      "Epoch 241/300\n",
      "51/51 [==============================] - 0s 1ms/step - loss: 0.4758 - accuracy: 0.7655 - val_loss: 0.4665 - val_accuracy: 0.7569\n",
      "Epoch 242/300\n",
      "51/51 [==============================] - 0s 1ms/step - loss: 0.4765 - accuracy: 0.7678 - val_loss: 0.4654 - val_accuracy: 0.7605\n",
      "Epoch 243/300\n",
      "51/51 [==============================] - 0s 1ms/step - loss: 0.4773 - accuracy: 0.7678 - val_loss: 0.4599 - val_accuracy: 0.7647\n",
      "Epoch 244/300\n",
      "51/51 [==============================] - 0s 1ms/step - loss: 0.4756 - accuracy: 0.7667 - val_loss: 0.4600 - val_accuracy: 0.7647\n",
      "Epoch 245/300\n",
      "51/51 [==============================] - 0s 1ms/step - loss: 0.4758 - accuracy: 0.7670 - val_loss: 0.4634 - val_accuracy: 0.7626\n",
      "Epoch 246/300\n",
      "51/51 [==============================] - 0s 1ms/step - loss: 0.4757 - accuracy: 0.7678 - val_loss: 0.4631 - val_accuracy: 0.7612\n",
      "Epoch 247/300\n",
      "51/51 [==============================] - 0s 1ms/step - loss: 0.4757 - accuracy: 0.7678 - val_loss: 0.4604 - val_accuracy: 0.7640\n",
      "Epoch 248/300\n",
      "51/51 [==============================] - 0s 1ms/step - loss: 0.4757 - accuracy: 0.7661 - val_loss: 0.4611 - val_accuracy: 0.7619\n",
      "Epoch 249/300\n",
      "51/51 [==============================] - 0s 1ms/step - loss: 0.4759 - accuracy: 0.7670 - val_loss: 0.4608 - val_accuracy: 0.7633\n",
      "Epoch 250/300\n",
      "51/51 [==============================] - 0s 2ms/step - loss: 0.4761 - accuracy: 0.7687 - val_loss: 0.4595 - val_accuracy: 0.7655\n",
      "Epoch 251/300\n",
      "51/51 [==============================] - 0s 2ms/step - loss: 0.4757 - accuracy: 0.7681 - val_loss: 0.4565 - val_accuracy: 0.7676\n",
      "Epoch 252/300\n",
      "51/51 [==============================] - 0s 2ms/step - loss: 0.4760 - accuracy: 0.7651 - val_loss: 0.4589 - val_accuracy: 0.7647\n",
      "Epoch 253/300\n",
      "51/51 [==============================] - 0s 1ms/step - loss: 0.4758 - accuracy: 0.7684 - val_loss: 0.4635 - val_accuracy: 0.7612\n",
      "Epoch 254/300\n",
      "51/51 [==============================] - 0s 1ms/step - loss: 0.4757 - accuracy: 0.7673 - val_loss: 0.4601 - val_accuracy: 0.7640\n",
      "Epoch 255/300\n",
      "51/51 [==============================] - 0s 2ms/step - loss: 0.4759 - accuracy: 0.7691 - val_loss: 0.4570 - val_accuracy: 0.7676\n",
      "Epoch 256/300\n",
      "51/51 [==============================] - 0s 2ms/step - loss: 0.4760 - accuracy: 0.7681 - val_loss: 0.4611 - val_accuracy: 0.7647\n",
      "Epoch 257/300\n",
      "51/51 [==============================] - 0s 1ms/step - loss: 0.4756 - accuracy: 0.7700 - val_loss: 0.4554 - val_accuracy: 0.7697\n",
      "Epoch 258/300\n",
      "51/51 [==============================] - 0s 2ms/step - loss: 0.4759 - accuracy: 0.7687 - val_loss: 0.4598 - val_accuracy: 0.7662\n",
      "Epoch 259/300\n",
      "51/51 [==============================] - 0s 2ms/step - loss: 0.4772 - accuracy: 0.7667 - val_loss: 0.4612 - val_accuracy: 0.7647\n",
      "Epoch 260/300\n",
      "51/51 [==============================] - 0s 2ms/step - loss: 0.4759 - accuracy: 0.7681 - val_loss: 0.4654 - val_accuracy: 0.7584\n",
      "Epoch 261/300\n",
      "51/51 [==============================] - 0s 2ms/step - loss: 0.4757 - accuracy: 0.7686 - val_loss: 0.4589 - val_accuracy: 0.7669\n",
      "Epoch 262/300\n",
      "51/51 [==============================] - 0s 2ms/step - loss: 0.4756 - accuracy: 0.7691 - val_loss: 0.4615 - val_accuracy: 0.7619\n",
      "Epoch 263/300\n",
      "51/51 [==============================] - 0s 1ms/step - loss: 0.4758 - accuracy: 0.7684 - val_loss: 0.4616 - val_accuracy: 0.7640\n",
      "Epoch 264/300\n",
      "51/51 [==============================] - 0s 2ms/step - loss: 0.4754 - accuracy: 0.7667 - val_loss: 0.4613 - val_accuracy: 0.7640\n",
      "Epoch 265/300\n",
      "51/51 [==============================] - 0s 1ms/step - loss: 0.4759 - accuracy: 0.7661 - val_loss: 0.4724 - val_accuracy: 0.7555\n",
      "Epoch 266/300\n",
      "51/51 [==============================] - 0s 1ms/step - loss: 0.4762 - accuracy: 0.7698 - val_loss: 0.4657 - val_accuracy: 0.7591\n",
      "Epoch 267/300\n",
      "51/51 [==============================] - 0s 1ms/step - loss: 0.4753 - accuracy: 0.7666 - val_loss: 0.4643 - val_accuracy: 0.7598\n",
      "Epoch 268/300\n",
      "51/51 [==============================] - 0s 2ms/step - loss: 0.4759 - accuracy: 0.7683 - val_loss: 0.4589 - val_accuracy: 0.7647\n",
      "Epoch 269/300\n",
      "51/51 [==============================] - 0s 2ms/step - loss: 0.4757 - accuracy: 0.7697 - val_loss: 0.4569 - val_accuracy: 0.7697\n",
      "Epoch 270/300\n",
      "51/51 [==============================] - 0s 1ms/step - loss: 0.4767 - accuracy: 0.7680 - val_loss: 0.4649 - val_accuracy: 0.7612\n",
      "Epoch 271/300\n",
      "51/51 [==============================] - 0s 2ms/step - loss: 0.4756 - accuracy: 0.7676 - val_loss: 0.4566 - val_accuracy: 0.7711\n",
      "Epoch 272/300\n",
      "51/51 [==============================] - 0s 1ms/step - loss: 0.4759 - accuracy: 0.7659 - val_loss: 0.4598 - val_accuracy: 0.7655\n",
      "Epoch 273/300\n",
      "51/51 [==============================] - 0s 1ms/step - loss: 0.4757 - accuracy: 0.7667 - val_loss: 0.4640 - val_accuracy: 0.7619\n",
      "Epoch 274/300\n",
      "51/51 [==============================] - 0s 1ms/step - loss: 0.4755 - accuracy: 0.7689 - val_loss: 0.4666 - val_accuracy: 0.7569\n",
      "Epoch 275/300\n",
      "51/51 [==============================] - 0s 2ms/step - loss: 0.4758 - accuracy: 0.7662 - val_loss: 0.4618 - val_accuracy: 0.7626\n",
      "Epoch 276/300\n",
      "51/51 [==============================] - 0s 1ms/step - loss: 0.4754 - accuracy: 0.7683 - val_loss: 0.4635 - val_accuracy: 0.7605\n",
      "Epoch 277/300\n",
      "51/51 [==============================] - 0s 1ms/step - loss: 0.4755 - accuracy: 0.7683 - val_loss: 0.4619 - val_accuracy: 0.7612\n",
      "Epoch 278/300\n",
      "51/51 [==============================] - 0s 1ms/step - loss: 0.4753 - accuracy: 0.7683 - val_loss: 0.4635 - val_accuracy: 0.7612\n",
      "Epoch 279/300\n",
      "51/51 [==============================] - 0s 1ms/step - loss: 0.4759 - accuracy: 0.7667 - val_loss: 0.4606 - val_accuracy: 0.7655\n",
      "Epoch 280/300\n",
      "51/51 [==============================] - 0s 1ms/step - loss: 0.4755 - accuracy: 0.7678 - val_loss: 0.4545 - val_accuracy: 0.7704\n",
      "Epoch 281/300\n",
      "51/51 [==============================] - 0s 1ms/step - loss: 0.4755 - accuracy: 0.7683 - val_loss: 0.4607 - val_accuracy: 0.7662\n",
      "Epoch 282/300\n",
      "51/51 [==============================] - 0s 1ms/step - loss: 0.4754 - accuracy: 0.7691 - val_loss: 0.4616 - val_accuracy: 0.7640\n",
      "Epoch 283/300\n",
      "51/51 [==============================] - 0s 2ms/step - loss: 0.4755 - accuracy: 0.7686 - val_loss: 0.4644 - val_accuracy: 0.7612\n",
      "Epoch 284/300\n",
      "51/51 [==============================] - 0s 2ms/step - loss: 0.4758 - accuracy: 0.7689 - val_loss: 0.4570 - val_accuracy: 0.7711\n",
      "Epoch 285/300\n",
      "51/51 [==============================] - 0s 2ms/step - loss: 0.4755 - accuracy: 0.7692 - val_loss: 0.4617 - val_accuracy: 0.7655\n",
      "Epoch 286/300\n",
      "51/51 [==============================] - 0s 2ms/step - loss: 0.4756 - accuracy: 0.7686 - val_loss: 0.4690 - val_accuracy: 0.7591\n",
      "Epoch 287/300\n",
      "51/51 [==============================] - 0s 2ms/step - loss: 0.4753 - accuracy: 0.7667 - val_loss: 0.4575 - val_accuracy: 0.7704\n",
      "Epoch 288/300\n",
      "51/51 [==============================] - 0s 2ms/step - loss: 0.4750 - accuracy: 0.7687 - val_loss: 0.4661 - val_accuracy: 0.7576\n",
      "Epoch 289/300\n",
      "51/51 [==============================] - 0s 2ms/step - loss: 0.4757 - accuracy: 0.7678 - val_loss: 0.4596 - val_accuracy: 0.7690\n",
      "Epoch 290/300\n",
      "51/51 [==============================] - 0s 2ms/step - loss: 0.4758 - accuracy: 0.7683 - val_loss: 0.4565 - val_accuracy: 0.7719\n",
      "Epoch 291/300\n",
      "51/51 [==============================] - 0s 2ms/step - loss: 0.4756 - accuracy: 0.7686 - val_loss: 0.4630 - val_accuracy: 0.7619\n",
      "Epoch 292/300\n",
      "51/51 [==============================] - 0s 2ms/step - loss: 0.4752 - accuracy: 0.7676 - val_loss: 0.4631 - val_accuracy: 0.7633\n",
      "Epoch 293/300\n",
      "51/51 [==============================] - 0s 2ms/step - loss: 0.4758 - accuracy: 0.7683 - val_loss: 0.4539 - val_accuracy: 0.7747\n",
      "Epoch 294/300\n",
      "51/51 [==============================] - 0s 2ms/step - loss: 0.4753 - accuracy: 0.7681 - val_loss: 0.4620 - val_accuracy: 0.7640\n",
      "Epoch 295/300\n",
      "51/51 [==============================] - 0s 2ms/step - loss: 0.4757 - accuracy: 0.7681 - val_loss: 0.4657 - val_accuracy: 0.7569\n",
      "Epoch 296/300\n",
      "51/51 [==============================] - 0s 2ms/step - loss: 0.4751 - accuracy: 0.7684 - val_loss: 0.4649 - val_accuracy: 0.7584\n",
      "Epoch 297/300\n",
      "51/51 [==============================] - 0s 2ms/step - loss: 0.4757 - accuracy: 0.7684 - val_loss: 0.4625 - val_accuracy: 0.7640\n",
      "Epoch 298/300\n",
      "51/51 [==============================] - 0s 2ms/step - loss: 0.4754 - accuracy: 0.7684 - val_loss: 0.4646 - val_accuracy: 0.7633\n",
      "Epoch 299/300\n",
      "51/51 [==============================] - 0s 2ms/step - loss: 0.4762 - accuracy: 0.7678 - val_loss: 0.4567 - val_accuracy: 0.7704\n",
      "Epoch 300/300\n",
      "51/51 [==============================] - 0s 2ms/step - loss: 0.4754 - accuracy: 0.7680 - val_loss: 0.4569 - val_accuracy: 0.7740\n"
     ]
    }
   ],
   "source": [
    "#Compile the model\n",
    "model2.compile(loss='binary_crossentropy',\n",
    "              optimizer= 'adam',\n",
    "              metrics=['accuracy']) #defaultny matrics loss\n",
    "\n",
    "history = model2.fit(train_data, epochs=300, validation_data=val_data)"
   ]
  },
  {
   "cell_type": "code",
   "execution_count": 61,
   "metadata": {},
   "outputs": [
    {
     "data": {
      "text/html": [
       "<div>\n",
       "<style scoped>\n",
       "    .dataframe tbody tr th:only-of-type {\n",
       "        vertical-align: middle;\n",
       "    }\n",
       "\n",
       "    .dataframe tbody tr th {\n",
       "        vertical-align: top;\n",
       "    }\n",
       "\n",
       "    .dataframe thead th {\n",
       "        text-align: right;\n",
       "    }\n",
       "</style>\n",
       "<table border=\"1\" class=\"dataframe\">\n",
       "  <thead>\n",
       "    <tr style=\"text-align: right;\">\n",
       "      <th></th>\n",
       "      <th>loss</th>\n",
       "      <th>accuracy</th>\n",
       "      <th>val_loss</th>\n",
       "      <th>val_accuracy</th>\n",
       "    </tr>\n",
       "  </thead>\n",
       "  <tbody>\n",
       "    <tr>\n",
       "      <th>0</th>\n",
       "      <td>0.653161</td>\n",
       "      <td>0.580887</td>\n",
       "      <td>0.596462</td>\n",
       "      <td>0.740583</td>\n",
       "    </tr>\n",
       "    <tr>\n",
       "      <th>1</th>\n",
       "      <td>0.625349</td>\n",
       "      <td>0.580887</td>\n",
       "      <td>0.556818</td>\n",
       "      <td>0.740583</td>\n",
       "    </tr>\n",
       "    <tr>\n",
       "      <th>2</th>\n",
       "      <td>0.604693</td>\n",
       "      <td>0.601499</td>\n",
       "      <td>0.528438</td>\n",
       "      <td>0.772566</td>\n",
       "    </tr>\n",
       "    <tr>\n",
       "      <th>3</th>\n",
       "      <td>0.583129</td>\n",
       "      <td>0.702374</td>\n",
       "      <td>0.498136</td>\n",
       "      <td>0.778252</td>\n",
       "    </tr>\n",
       "    <tr>\n",
       "      <th>4</th>\n",
       "      <td>0.564705</td>\n",
       "      <td>0.719706</td>\n",
       "      <td>0.478869</td>\n",
       "      <td>0.776119</td>\n",
       "    </tr>\n",
       "  </tbody>\n",
       "</table>\n",
       "</div>"
      ],
      "text/plain": [
       "       loss  accuracy  val_loss  val_accuracy\n",
       "0  0.653161  0.580887  0.596462      0.740583\n",
       "1  0.625349  0.580887  0.556818      0.740583\n",
       "2  0.604693  0.601499  0.528438      0.772566\n",
       "3  0.583129  0.702374  0.498136      0.778252\n",
       "4  0.564705  0.719706  0.478869      0.776119"
      ]
     },
     "execution_count": 61,
     "metadata": {},
     "output_type": "execute_result"
    }
   ],
   "source": [
    "metrics = pd.DataFrame(history.history)\n",
    "metrics.head()"
   ]
  },
  {
   "cell_type": "code",
   "execution_count": 62,
   "metadata": {},
   "outputs": [
    {
     "data": {
      "text/plain": [
       "<AxesSubplot:>"
      ]
     },
     "execution_count": 62,
     "metadata": {},
     "output_type": "execute_result"
    },
    {
     "data": {
      "image/png": "[encoded data removed]",
      "text/plain": [
       "<Figure size 432x288 with 1 Axes>"
      ]
     },
     "metadata": {
      "needs_background": "light"
     },
     "output_type": "display_data"
    }
   ],
   "source": [
    "metrics[['loss','val_loss']].plot()"
   ]
  },
  {
   "cell_type": "markdown",
   "metadata": {},
   "source": [
    "It can be seen that the model is slightly overfitting"
   ]
  },
  {
   "cell_type": "code",
   "execution_count": 63,
   "metadata": {},
   "outputs": [
    {
     "data": {
      "text/plain": [
       "<AxesSubplot:>"
      ]
     },
     "execution_count": 63,
     "metadata": {},
     "output_type": "execute_result"
    },
    {
     "data": {
      "image/png": "[encoded data removed]",
      "text/plain": [
       "<Figure size 432x288 with 1 Axes>"
      ]
     },
     "metadata": {
      "needs_background": "light"
     },
     "output_type": "display_data"
    }
   ],
   "source": [
    "metrics[['accuracy','val_accuracy']].plot()"
   ]
  },
  {
   "cell_type": "code",
   "execution_count": 64,
   "metadata": {},
   "outputs": [
    {
     "name": "stdout",
     "output_type": "stream",
     "text": [
      "              precision    recall  f1-score   support\n",
      "\n",
      "       False       0.86      0.79      0.82       401\n",
      "        True       0.56      0.67      0.61       162\n",
      "\n",
      "    accuracy                           0.75       563\n",
      "   macro avg       0.71      0.73      0.71       563\n",
      "weighted avg       0.77      0.75      0.76       563\n",
      "\n"
     ]
    }
   ],
   "source": [
    "y_pred = model2.predict(test_data) #hasilnya akan probabilitas\n",
    "y_pred= np.where(y_pred > 0.5, 1, 0) # Binary only kalau multiclass berbeda lagi\n",
    "print(classification_report(y_test, y_pred))"
   ]
  },
  {
   "cell_type": "markdown",
   "metadata": {},
   "source": [
    "It can be seen that when the dropout is removed, there is an improvement,because the overfitting is reduced:\n",
    "- For class false f1-score accuracy is 84%\n",
    "- For the True class, the F1-score accuracy is 63%\n",
    "- And accuracy model 77%\n",
    "  \n",
    "But I want to practice again with another model"
   ]
  },
  {
   "cell_type": "code",
   "execution_count": 65,
   "metadata": {},
   "outputs": [],
   "source": [
    "#In This case I will reduce 1 hidden layer \n",
    "model3 = Sequential()\n",
    "\n",
    "model3.add(Dense(4, activation= 'relu',input_shape=(9,))) # first hidden layer 4 neuron\n",
    "model3.add(Dense(1, activation='sigmoid'))\n",
    "\n",
    "model3.compile(loss='binary_crossentropy', #binary_crossentropy for binary classification\n",
    "              optimizer= 'adam', #adam for optimization and learning rate with 0.15\n",
    "              metrics=['accuracy']) #defaultny matrics loss\n",
    "\n"
   ]
  },
  {
   "cell_type": "code",
   "execution_count": 66,
   "metadata": {},
   "outputs": [
    {
     "name": "stdout",
     "output_type": "stream",
     "text": [
      "Model: \"sequential_1\"\n",
      "_________________________________________________________________\n",
      " Layer (type)                Output Shape              Param #   \n",
      "=================================================================\n",
      " dense_8 (Dense)             (None, 4)                 40        \n",
      "                                                                 \n",
      " dense_9 (Dense)             (None, 1)                 5         \n",
      "                                                                 \n",
      "=================================================================\n",
      "Total params: 45\n",
      "Trainable params: 45\n",
      "Non-trainable params: 0\n",
      "_________________________________________________________________\n"
     ]
    }
   ],
   "source": [
    "model3.summary()"
   ]
  },
  {
   "cell_type": "code",
   "execution_count": 67,
   "metadata": {},
   "outputs": [
    {
     "name": "stdout",
     "output_type": "stream",
     "text": [
      "Epoch 1/300\n",
      "51/51 [==============================] - 0s 2ms/step - loss: 0.7208 - accuracy: 0.4502 - val_loss: 0.6586 - val_accuracy: 0.5451\n",
      "Epoch 2/300\n",
      "51/51 [==============================] - 0s 1ms/step - loss: 0.6517 - accuracy: 0.5689 - val_loss: 0.5942 - val_accuracy: 0.6795\n",
      "Epoch 3/300\n",
      "51/51 [==============================] - 0s 1ms/step - loss: 0.6053 - accuracy: 0.6786 - val_loss: 0.5517 - val_accuracy: 0.7157\n",
      "Epoch 4/300\n",
      "51/51 [==============================] - 0s 1ms/step - loss: 0.5726 - accuracy: 0.7239 - val_loss: 0.5203 - val_accuracy: 0.7385\n",
      "Epoch 5/300\n",
      "51/51 [==============================] - 0s 1ms/step - loss: 0.5489 - accuracy: 0.7327 - val_loss: 0.4997 - val_accuracy: 0.7399\n",
      "Epoch 6/300\n",
      "51/51 [==============================] - 0s 1ms/step - loss: 0.5327 - accuracy: 0.7366 - val_loss: 0.4868 - val_accuracy: 0.7434\n",
      "Epoch 7/300\n",
      "51/51 [==============================] - 0s 2ms/step - loss: 0.5219 - accuracy: 0.7402 - val_loss: 0.4829 - val_accuracy: 0.7399\n",
      "Epoch 8/300\n",
      "51/51 [==============================] - 0s 1ms/step - loss: 0.5158 - accuracy: 0.7441 - val_loss: 0.4808 - val_accuracy: 0.7441\n",
      "Epoch 9/300\n",
      "51/51 [==============================] - 0s 1ms/step - loss: 0.5110 - accuracy: 0.7455 - val_loss: 0.4768 - val_accuracy: 0.7441\n",
      "Epoch 10/300\n",
      "51/51 [==============================] - 0s 1ms/step - loss: 0.5074 - accuracy: 0.7475 - val_loss: 0.4727 - val_accuracy: 0.7491\n",
      "Epoch 11/300\n",
      "51/51 [==============================] - 0s 1ms/step - loss: 0.5052 - accuracy: 0.7498 - val_loss: 0.4707 - val_accuracy: 0.7520\n",
      "Epoch 12/300\n",
      "51/51 [==============================] - 0s 1ms/step - loss: 0.5030 - accuracy: 0.7505 - val_loss: 0.4702 - val_accuracy: 0.7520\n",
      "Epoch 13/300\n",
      "51/51 [==============================] - 0s 1ms/step - loss: 0.5010 - accuracy: 0.7505 - val_loss: 0.4712 - val_accuracy: 0.7505\n",
      "Epoch 14/300\n",
      "51/51 [==============================] - 0s 1ms/step - loss: 0.4997 - accuracy: 0.7520 - val_loss: 0.4676 - val_accuracy: 0.7527\n",
      "Epoch 15/300\n",
      "51/51 [==============================] - 0s 1ms/step - loss: 0.4985 - accuracy: 0.7522 - val_loss: 0.4662 - val_accuracy: 0.7541\n",
      "Epoch 16/300\n",
      "51/51 [==============================] - 0s 1ms/step - loss: 0.4973 - accuracy: 0.7531 - val_loss: 0.4653 - val_accuracy: 0.7541\n",
      "Epoch 17/300\n",
      "51/51 [==============================] - 0s 1ms/step - loss: 0.4962 - accuracy: 0.7536 - val_loss: 0.4643 - val_accuracy: 0.7555\n",
      "Epoch 18/300\n",
      "51/51 [==============================] - 0s 1ms/step - loss: 0.4950 - accuracy: 0.7519 - val_loss: 0.4632 - val_accuracy: 0.7555\n",
      "Epoch 19/300\n",
      "51/51 [==============================] - 0s 1ms/step - loss: 0.4943 - accuracy: 0.7528 - val_loss: 0.4618 - val_accuracy: 0.7562\n",
      "Epoch 20/300\n",
      "51/51 [==============================] - 0s 1ms/step - loss: 0.4935 - accuracy: 0.7533 - val_loss: 0.4628 - val_accuracy: 0.7584\n",
      "Epoch 21/300\n",
      "51/51 [==============================] - 0s 1ms/step - loss: 0.4931 - accuracy: 0.7559 - val_loss: 0.4641 - val_accuracy: 0.7584\n",
      "Epoch 22/300\n",
      "51/51 [==============================] - 0s 1ms/step - loss: 0.4927 - accuracy: 0.7570 - val_loss: 0.4631 - val_accuracy: 0.7576\n",
      "Epoch 23/300\n",
      "51/51 [==============================] - 0s 1ms/step - loss: 0.4923 - accuracy: 0.7567 - val_loss: 0.4654 - val_accuracy: 0.7555\n",
      "Epoch 24/300\n",
      "51/51 [==============================] - 0s 1ms/step - loss: 0.4923 - accuracy: 0.7578 - val_loss: 0.4663 - val_accuracy: 0.7548\n",
      "Epoch 25/300\n",
      "51/51 [==============================] - 0s 1ms/step - loss: 0.4921 - accuracy: 0.7591 - val_loss: 0.4662 - val_accuracy: 0.7534\n",
      "Epoch 26/300\n",
      "51/51 [==============================] - 0s 1ms/step - loss: 0.4919 - accuracy: 0.7583 - val_loss: 0.4626 - val_accuracy: 0.7562\n",
      "Epoch 27/300\n",
      "51/51 [==============================] - 0s 1ms/step - loss: 0.4914 - accuracy: 0.7566 - val_loss: 0.4612 - val_accuracy: 0.7591\n",
      "Epoch 28/300\n",
      "51/51 [==============================] - 0s 2ms/step - loss: 0.4913 - accuracy: 0.7573 - val_loss: 0.4606 - val_accuracy: 0.7626\n",
      "Epoch 29/300\n",
      "51/51 [==============================] - 0s 1ms/step - loss: 0.4907 - accuracy: 0.7581 - val_loss: 0.4607 - val_accuracy: 0.7605\n",
      "Epoch 30/300\n",
      "51/51 [==============================] - 0s 1ms/step - loss: 0.4905 - accuracy: 0.7589 - val_loss: 0.4595 - val_accuracy: 0.7612\n",
      "Epoch 31/300\n",
      "51/51 [==============================] - 0s 1ms/step - loss: 0.4902 - accuracy: 0.7587 - val_loss: 0.4613 - val_accuracy: 0.7605\n",
      "Epoch 32/300\n",
      "51/51 [==============================] - 0s 1ms/step - loss: 0.4901 - accuracy: 0.7577 - val_loss: 0.4612 - val_accuracy: 0.7612\n",
      "Epoch 33/300\n",
      "51/51 [==============================] - 0s 1ms/step - loss: 0.4898 - accuracy: 0.7589 - val_loss: 0.4612 - val_accuracy: 0.7605\n",
      "Epoch 34/300\n",
      "51/51 [==============================] - 0s 1ms/step - loss: 0.4898 - accuracy: 0.7591 - val_loss: 0.4599 - val_accuracy: 0.7612\n",
      "Epoch 35/300\n",
      "51/51 [==============================] - 0s 1ms/step - loss: 0.4898 - accuracy: 0.7608 - val_loss: 0.4589 - val_accuracy: 0.7626\n",
      "Epoch 36/300\n",
      "51/51 [==============================] - 0s 1ms/step - loss: 0.4895 - accuracy: 0.7581 - val_loss: 0.4608 - val_accuracy: 0.7619\n",
      "Epoch 37/300\n",
      "51/51 [==============================] - 0s 1ms/step - loss: 0.4894 - accuracy: 0.7589 - val_loss: 0.4618 - val_accuracy: 0.7626\n",
      "Epoch 38/300\n",
      "51/51 [==============================] - 0s 1ms/step - loss: 0.4893 - accuracy: 0.7600 - val_loss: 0.4607 - val_accuracy: 0.7640\n",
      "Epoch 39/300\n",
      "51/51 [==============================] - 0s 2ms/step - loss: 0.4893 - accuracy: 0.7603 - val_loss: 0.4633 - val_accuracy: 0.7619\n",
      "Epoch 40/300\n",
      "51/51 [==============================] - 0s 2ms/step - loss: 0.4894 - accuracy: 0.7598 - val_loss: 0.4610 - val_accuracy: 0.7647\n",
      "Epoch 41/300\n",
      "51/51 [==============================] - 0s 1ms/step - loss: 0.4893 - accuracy: 0.7595 - val_loss: 0.4614 - val_accuracy: 0.7633\n",
      "Epoch 42/300\n",
      "51/51 [==============================] - 0s 1ms/step - loss: 0.4892 - accuracy: 0.7600 - val_loss: 0.4600 - val_accuracy: 0.7647\n",
      "Epoch 43/300\n",
      "51/51 [==============================] - 0s 1ms/step - loss: 0.4894 - accuracy: 0.7589 - val_loss: 0.4606 - val_accuracy: 0.7640\n",
      "Epoch 44/300\n",
      "51/51 [==============================] - 0s 2ms/step - loss: 0.4895 - accuracy: 0.7600 - val_loss: 0.4593 - val_accuracy: 0.7640\n",
      "Epoch 45/300\n",
      "51/51 [==============================] - 0s 2ms/step - loss: 0.4892 - accuracy: 0.7597 - val_loss: 0.4611 - val_accuracy: 0.7626\n",
      "Epoch 46/300\n",
      "51/51 [==============================] - 0s 1ms/step - loss: 0.4891 - accuracy: 0.7597 - val_loss: 0.4623 - val_accuracy: 0.7626\n",
      "Epoch 47/300\n",
      "51/51 [==============================] - 0s 1ms/step - loss: 0.4892 - accuracy: 0.7583 - val_loss: 0.4597 - val_accuracy: 0.7640\n",
      "Epoch 48/300\n",
      "51/51 [==============================] - 0s 2ms/step - loss: 0.4891 - accuracy: 0.7597 - val_loss: 0.4606 - val_accuracy: 0.7633\n",
      "Epoch 49/300\n",
      "51/51 [==============================] - 0s 1ms/step - loss: 0.4890 - accuracy: 0.7589 - val_loss: 0.4602 - val_accuracy: 0.7640\n",
      "Epoch 50/300\n",
      "51/51 [==============================] - 0s 1ms/step - loss: 0.4892 - accuracy: 0.7589 - val_loss: 0.4603 - val_accuracy: 0.7640\n",
      "Epoch 51/300\n",
      "51/51 [==============================] - 0s 1ms/step - loss: 0.4890 - accuracy: 0.7594 - val_loss: 0.4608 - val_accuracy: 0.7647\n",
      "Epoch 52/300\n",
      "51/51 [==============================] - 0s 2ms/step - loss: 0.4890 - accuracy: 0.7589 - val_loss: 0.4584 - val_accuracy: 0.7662\n",
      "Epoch 53/300\n",
      "51/51 [==============================] - 0s 1ms/step - loss: 0.4890 - accuracy: 0.7598 - val_loss: 0.4615 - val_accuracy: 0.7626\n",
      "Epoch 54/300\n",
      "51/51 [==============================] - 0s 1ms/step - loss: 0.4891 - accuracy: 0.7595 - val_loss: 0.4596 - val_accuracy: 0.7655\n",
      "Epoch 55/300\n",
      "51/51 [==============================] - 0s 1ms/step - loss: 0.4890 - accuracy: 0.7605 - val_loss: 0.4597 - val_accuracy: 0.7633\n",
      "Epoch 56/300\n",
      "51/51 [==============================] - 0s 1ms/step - loss: 0.4889 - accuracy: 0.7595 - val_loss: 0.4615 - val_accuracy: 0.7640\n",
      "Epoch 57/300\n",
      "51/51 [==============================] - 0s 1ms/step - loss: 0.4889 - accuracy: 0.7597 - val_loss: 0.4589 - val_accuracy: 0.7655\n",
      "Epoch 58/300\n",
      "51/51 [==============================] - 0s 1ms/step - loss: 0.4891 - accuracy: 0.7577 - val_loss: 0.4596 - val_accuracy: 0.7655\n",
      "Epoch 59/300\n",
      "51/51 [==============================] - 0s 1ms/step - loss: 0.4888 - accuracy: 0.7595 - val_loss: 0.4609 - val_accuracy: 0.7647\n",
      "Epoch 60/300\n",
      "51/51 [==============================] - 0s 1ms/step - loss: 0.4890 - accuracy: 0.7592 - val_loss: 0.4606 - val_accuracy: 0.7640\n",
      "Epoch 61/300\n",
      "51/51 [==============================] - 0s 1ms/step - loss: 0.4888 - accuracy: 0.7592 - val_loss: 0.4619 - val_accuracy: 0.7640\n",
      "Epoch 62/300\n",
      "51/51 [==============================] - 0s 1ms/step - loss: 0.4887 - accuracy: 0.7589 - val_loss: 0.4593 - val_accuracy: 0.7626\n",
      "Epoch 63/300\n",
      "51/51 [==============================] - 0s 1ms/step - loss: 0.4888 - accuracy: 0.7594 - val_loss: 0.4619 - val_accuracy: 0.7619\n",
      "Epoch 64/300\n",
      "51/51 [==============================] - 0s 1ms/step - loss: 0.4888 - accuracy: 0.7592 - val_loss: 0.4583 - val_accuracy: 0.7633\n",
      "Epoch 65/300\n",
      "51/51 [==============================] - 0s 1ms/step - loss: 0.4888 - accuracy: 0.7586 - val_loss: 0.4607 - val_accuracy: 0.7633\n",
      "Epoch 66/300\n",
      "51/51 [==============================] - 0s 1ms/step - loss: 0.4888 - accuracy: 0.7595 - val_loss: 0.4606 - val_accuracy: 0.7633\n",
      "Epoch 67/300\n",
      "51/51 [==============================] - 0s 1ms/step - loss: 0.4888 - accuracy: 0.7605 - val_loss: 0.4618 - val_accuracy: 0.7633\n",
      "Epoch 68/300\n",
      "51/51 [==============================] - 0s 1ms/step - loss: 0.4888 - accuracy: 0.7594 - val_loss: 0.4620 - val_accuracy: 0.7640\n",
      "Epoch 69/300\n",
      "51/51 [==============================] - 0s 2ms/step - loss: 0.4889 - accuracy: 0.7589 - val_loss: 0.4640 - val_accuracy: 0.7633\n",
      "Epoch 70/300\n",
      "51/51 [==============================] - 0s 1ms/step - loss: 0.4888 - accuracy: 0.7594 - val_loss: 0.4603 - val_accuracy: 0.7633\n",
      "Epoch 71/300\n",
      "51/51 [==============================] - 0s 2ms/step - loss: 0.4887 - accuracy: 0.7598 - val_loss: 0.4606 - val_accuracy: 0.7619\n",
      "Epoch 72/300\n",
      "51/51 [==============================] - 0s 1ms/step - loss: 0.4887 - accuracy: 0.7586 - val_loss: 0.4627 - val_accuracy: 0.7626\n",
      "Epoch 73/300\n",
      "51/51 [==============================] - 0s 1ms/step - loss: 0.4890 - accuracy: 0.7595 - val_loss: 0.4620 - val_accuracy: 0.7633\n",
      "Epoch 74/300\n",
      "51/51 [==============================] - 0s 1ms/step - loss: 0.4887 - accuracy: 0.7595 - val_loss: 0.4599 - val_accuracy: 0.7633\n",
      "Epoch 75/300\n",
      "51/51 [==============================] - 0s 1ms/step - loss: 0.4887 - accuracy: 0.7595 - val_loss: 0.4598 - val_accuracy: 0.7640\n",
      "Epoch 76/300\n",
      "51/51 [==============================] - 0s 1ms/step - loss: 0.4887 - accuracy: 0.7598 - val_loss: 0.4598 - val_accuracy: 0.7640\n",
      "Epoch 77/300\n",
      "51/51 [==============================] - 0s 1ms/step - loss: 0.4887 - accuracy: 0.7592 - val_loss: 0.4625 - val_accuracy: 0.7619\n",
      "Epoch 78/300\n",
      "51/51 [==============================] - 0s 1ms/step - loss: 0.4887 - accuracy: 0.7601 - val_loss: 0.4623 - val_accuracy: 0.7633\n",
      "Epoch 79/300\n",
      "51/51 [==============================] - 0s 1ms/step - loss: 0.4887 - accuracy: 0.7595 - val_loss: 0.4609 - val_accuracy: 0.7633\n",
      "Epoch 80/300\n",
      "51/51 [==============================] - 0s 1ms/step - loss: 0.4889 - accuracy: 0.7589 - val_loss: 0.4630 - val_accuracy: 0.7633\n",
      "Epoch 81/300\n",
      "51/51 [==============================] - 0s 2ms/step - loss: 0.4888 - accuracy: 0.7592 - val_loss: 0.4634 - val_accuracy: 0.7633\n",
      "Epoch 82/300\n",
      "51/51 [==============================] - 0s 1ms/step - loss: 0.4888 - accuracy: 0.7592 - val_loss: 0.4623 - val_accuracy: 0.7647\n",
      "Epoch 83/300\n",
      "51/51 [==============================] - 0s 1ms/step - loss: 0.4886 - accuracy: 0.7598 - val_loss: 0.4612 - val_accuracy: 0.7633\n",
      "Epoch 84/300\n",
      "51/51 [==============================] - 0s 1ms/step - loss: 0.4888 - accuracy: 0.7601 - val_loss: 0.4604 - val_accuracy: 0.7633\n",
      "Epoch 85/300\n",
      "51/51 [==============================] - 0s 2ms/step - loss: 0.4887 - accuracy: 0.7592 - val_loss: 0.4647 - val_accuracy: 0.7640\n",
      "Epoch 86/300\n",
      "51/51 [==============================] - 0s 1ms/step - loss: 0.4887 - accuracy: 0.7592 - val_loss: 0.4611 - val_accuracy: 0.7640\n",
      "Epoch 87/300\n",
      "51/51 [==============================] - 0s 1ms/step - loss: 0.4886 - accuracy: 0.7597 - val_loss: 0.4607 - val_accuracy: 0.7640\n",
      "Epoch 88/300\n",
      "51/51 [==============================] - 0s 1ms/step - loss: 0.4890 - accuracy: 0.7603 - val_loss: 0.4633 - val_accuracy: 0.7633\n",
      "Epoch 89/300\n",
      "51/51 [==============================] - 0s 1ms/step - loss: 0.4887 - accuracy: 0.7594 - val_loss: 0.4609 - val_accuracy: 0.7633\n",
      "Epoch 90/300\n",
      "51/51 [==============================] - 0s 1ms/step - loss: 0.4886 - accuracy: 0.7594 - val_loss: 0.4620 - val_accuracy: 0.7640\n",
      "Epoch 91/300\n",
      "51/51 [==============================] - 0s 1ms/step - loss: 0.4887 - accuracy: 0.7601 - val_loss: 0.4593 - val_accuracy: 0.7647\n",
      "Epoch 92/300\n",
      "51/51 [==============================] - 0s 1ms/step - loss: 0.4887 - accuracy: 0.7589 - val_loss: 0.4627 - val_accuracy: 0.7633\n",
      "Epoch 93/300\n",
      "51/51 [==============================] - 0s 1ms/step - loss: 0.4886 - accuracy: 0.7597 - val_loss: 0.4603 - val_accuracy: 0.7633\n",
      "Epoch 94/300\n",
      "51/51 [==============================] - 0s 1ms/step - loss: 0.4887 - accuracy: 0.7595 - val_loss: 0.4619 - val_accuracy: 0.7633\n",
      "Epoch 95/300\n",
      "51/51 [==============================] - 0s 1ms/step - loss: 0.4886 - accuracy: 0.7605 - val_loss: 0.4638 - val_accuracy: 0.7619\n",
      "Epoch 96/300\n",
      "51/51 [==============================] - 0s 1ms/step - loss: 0.4887 - accuracy: 0.7597 - val_loss: 0.4626 - val_accuracy: 0.7626\n",
      "Epoch 97/300\n",
      "51/51 [==============================] - 0s 2ms/step - loss: 0.4885 - accuracy: 0.7603 - val_loss: 0.4591 - val_accuracy: 0.7647\n",
      "Epoch 98/300\n",
      "51/51 [==============================] - 0s 2ms/step - loss: 0.4886 - accuracy: 0.7594 - val_loss: 0.4617 - val_accuracy: 0.7626\n",
      "Epoch 99/300\n",
      "51/51 [==============================] - 0s 2ms/step - loss: 0.4887 - accuracy: 0.7601 - val_loss: 0.4636 - val_accuracy: 0.7633\n",
      "Epoch 100/300\n",
      "51/51 [==============================] - 0s 2ms/step - loss: 0.4887 - accuracy: 0.7598 - val_loss: 0.4636 - val_accuracy: 0.7633\n",
      "Epoch 101/300\n",
      "51/51 [==============================] - 0s 2ms/step - loss: 0.4885 - accuracy: 0.7603 - val_loss: 0.4610 - val_accuracy: 0.7640\n",
      "Epoch 102/300\n",
      "51/51 [==============================] - 0s 2ms/step - loss: 0.4885 - accuracy: 0.7592 - val_loss: 0.4611 - val_accuracy: 0.7633\n",
      "Epoch 103/300\n",
      "51/51 [==============================] - 0s 3ms/step - loss: 0.4887 - accuracy: 0.7594 - val_loss: 0.4627 - val_accuracy: 0.7626\n",
      "Epoch 104/300\n",
      "51/51 [==============================] - 0s 5ms/step - loss: 0.4887 - accuracy: 0.7598 - val_loss: 0.4614 - val_accuracy: 0.7626\n",
      "Epoch 105/300\n",
      "51/51 [==============================] - 0s 5ms/step - loss: 0.4888 - accuracy: 0.7603 - val_loss: 0.4593 - val_accuracy: 0.7640\n",
      "Epoch 106/300\n",
      "51/51 [==============================] - 0s 3ms/step - loss: 0.4885 - accuracy: 0.7597 - val_loss: 0.4593 - val_accuracy: 0.7662\n",
      "Epoch 107/300\n",
      "51/51 [==============================] - 0s 2ms/step - loss: 0.4884 - accuracy: 0.7600 - val_loss: 0.4603 - val_accuracy: 0.7662\n",
      "Epoch 108/300\n",
      "51/51 [==============================] - 0s 1ms/step - loss: 0.4885 - accuracy: 0.7597 - val_loss: 0.4609 - val_accuracy: 0.7633\n",
      "Epoch 109/300\n",
      "51/51 [==============================] - 0s 1ms/step - loss: 0.4886 - accuracy: 0.7592 - val_loss: 0.4618 - val_accuracy: 0.7633\n",
      "Epoch 110/300\n",
      "51/51 [==============================] - 0s 1ms/step - loss: 0.4885 - accuracy: 0.7600 - val_loss: 0.4610 - val_accuracy: 0.7633\n",
      "Epoch 111/300\n",
      "51/51 [==============================] - 0s 1ms/step - loss: 0.4884 - accuracy: 0.7606 - val_loss: 0.4624 - val_accuracy: 0.7633\n",
      "Epoch 112/300\n",
      "51/51 [==============================] - 0s 2ms/step - loss: 0.4887 - accuracy: 0.7595 - val_loss: 0.4641 - val_accuracy: 0.7619\n",
      "Epoch 113/300\n",
      "51/51 [==============================] - 0s 1ms/step - loss: 0.4884 - accuracy: 0.7601 - val_loss: 0.4593 - val_accuracy: 0.7633\n",
      "Epoch 114/300\n",
      "51/51 [==============================] - 0s 1ms/step - loss: 0.4885 - accuracy: 0.7608 - val_loss: 0.4605 - val_accuracy: 0.7612\n",
      "Epoch 115/300\n",
      "51/51 [==============================] - 0s 1ms/step - loss: 0.4884 - accuracy: 0.7608 - val_loss: 0.4638 - val_accuracy: 0.7619\n",
      "Epoch 116/300\n",
      "51/51 [==============================] - 0s 2ms/step - loss: 0.4885 - accuracy: 0.7601 - val_loss: 0.4621 - val_accuracy: 0.7626\n",
      "Epoch 117/300\n",
      "51/51 [==============================] - 0s 1ms/step - loss: 0.4885 - accuracy: 0.7605 - val_loss: 0.4605 - val_accuracy: 0.7647\n",
      "Epoch 118/300\n",
      "51/51 [==============================] - 0s 1ms/step - loss: 0.4885 - accuracy: 0.7606 - val_loss: 0.4638 - val_accuracy: 0.7626\n",
      "Epoch 119/300\n",
      "51/51 [==============================] - 0s 1ms/step - loss: 0.4886 - accuracy: 0.7601 - val_loss: 0.4608 - val_accuracy: 0.7662\n",
      "Epoch 120/300\n",
      "51/51 [==============================] - 0s 1ms/step - loss: 0.4884 - accuracy: 0.7600 - val_loss: 0.4627 - val_accuracy: 0.7640\n",
      "Epoch 121/300\n",
      "51/51 [==============================] - 0s 1ms/step - loss: 0.4884 - accuracy: 0.7592 - val_loss: 0.4607 - val_accuracy: 0.7669\n",
      "Epoch 122/300\n",
      "51/51 [==============================] - 0s 1ms/step - loss: 0.4884 - accuracy: 0.7606 - val_loss: 0.4586 - val_accuracy: 0.7690\n",
      "Epoch 123/300\n",
      "51/51 [==============================] - 0s 1ms/step - loss: 0.4885 - accuracy: 0.7589 - val_loss: 0.4585 - val_accuracy: 0.7690\n",
      "Epoch 124/300\n",
      "51/51 [==============================] - 0s 3ms/step - loss: 0.4887 - accuracy: 0.7601 - val_loss: 0.4577 - val_accuracy: 0.7683\n",
      "Epoch 125/300\n",
      "51/51 [==============================] - 0s 3ms/step - loss: 0.4884 - accuracy: 0.7591 - val_loss: 0.4611 - val_accuracy: 0.7655\n",
      "Epoch 126/300\n",
      "51/51 [==============================] - 0s 2ms/step - loss: 0.4886 - accuracy: 0.7598 - val_loss: 0.4582 - val_accuracy: 0.7669\n",
      "Epoch 127/300\n",
      "51/51 [==============================] - 0s 2ms/step - loss: 0.4884 - accuracy: 0.7605 - val_loss: 0.4611 - val_accuracy: 0.7647\n",
      "Epoch 128/300\n",
      "51/51 [==============================] - 0s 2ms/step - loss: 0.4884 - accuracy: 0.7600 - val_loss: 0.4606 - val_accuracy: 0.7655\n",
      "Epoch 129/300\n",
      "51/51 [==============================] - 0s 2ms/step - loss: 0.4884 - accuracy: 0.7601 - val_loss: 0.4601 - val_accuracy: 0.7662\n",
      "Epoch 130/300\n",
      "51/51 [==============================] - 0s 2ms/step - loss: 0.4884 - accuracy: 0.7600 - val_loss: 0.4601 - val_accuracy: 0.7640\n",
      "Epoch 131/300\n",
      "51/51 [==============================] - 0s 2ms/step - loss: 0.4883 - accuracy: 0.7597 - val_loss: 0.4626 - val_accuracy: 0.7619\n",
      "Epoch 132/300\n",
      "51/51 [==============================] - 0s 2ms/step - loss: 0.4883 - accuracy: 0.7600 - val_loss: 0.4605 - val_accuracy: 0.7655\n",
      "Epoch 133/300\n",
      "51/51 [==============================] - 0s 1ms/step - loss: 0.4884 - accuracy: 0.7605 - val_loss: 0.4605 - val_accuracy: 0.7647\n",
      "Epoch 134/300\n",
      "51/51 [==============================] - 0s 1ms/step - loss: 0.4885 - accuracy: 0.7608 - val_loss: 0.4555 - val_accuracy: 0.7690\n",
      "Epoch 135/300\n",
      "51/51 [==============================] - 0s 2ms/step - loss: 0.4885 - accuracy: 0.7600 - val_loss: 0.4576 - val_accuracy: 0.7676\n",
      "Epoch 136/300\n",
      "51/51 [==============================] - 0s 2ms/step - loss: 0.4884 - accuracy: 0.7598 - val_loss: 0.4606 - val_accuracy: 0.7655\n",
      "Epoch 137/300\n",
      "51/51 [==============================] - 0s 1ms/step - loss: 0.4883 - accuracy: 0.7598 - val_loss: 0.4622 - val_accuracy: 0.7626\n",
      "Epoch 138/300\n",
      "51/51 [==============================] - 0s 1ms/step - loss: 0.4883 - accuracy: 0.7606 - val_loss: 0.4607 - val_accuracy: 0.7676\n",
      "Epoch 139/300\n",
      "51/51 [==============================] - 0s 1ms/step - loss: 0.4885 - accuracy: 0.7595 - val_loss: 0.4619 - val_accuracy: 0.7626\n",
      "Epoch 140/300\n",
      "51/51 [==============================] - 0s 2ms/step - loss: 0.4883 - accuracy: 0.7598 - val_loss: 0.4593 - val_accuracy: 0.7683\n",
      "Epoch 141/300\n",
      "51/51 [==============================] - 0s 2ms/step - loss: 0.4883 - accuracy: 0.7598 - val_loss: 0.4604 - val_accuracy: 0.7697\n",
      "Epoch 142/300\n",
      "51/51 [==============================] - 0s 2ms/step - loss: 0.4885 - accuracy: 0.7598 - val_loss: 0.4599 - val_accuracy: 0.7655\n",
      "Epoch 143/300\n",
      "51/51 [==============================] - 0s 1ms/step - loss: 0.4884 - accuracy: 0.7597 - val_loss: 0.4616 - val_accuracy: 0.7655\n",
      "Epoch 144/300\n",
      "51/51 [==============================] - 0s 2ms/step - loss: 0.4883 - accuracy: 0.7598 - val_loss: 0.4589 - val_accuracy: 0.7690\n",
      "Epoch 145/300\n",
      "51/51 [==============================] - 0s 2ms/step - loss: 0.4883 - accuracy: 0.7600 - val_loss: 0.4611 - val_accuracy: 0.7655\n",
      "Epoch 146/300\n",
      "51/51 [==============================] - 0s 2ms/step - loss: 0.4883 - accuracy: 0.7600 - val_loss: 0.4638 - val_accuracy: 0.7633\n",
      "Epoch 147/300\n",
      "51/51 [==============================] - 0s 1ms/step - loss: 0.4882 - accuracy: 0.7603 - val_loss: 0.4606 - val_accuracy: 0.7669\n",
      "Epoch 148/300\n",
      "51/51 [==============================] - 0s 1ms/step - loss: 0.4883 - accuracy: 0.7595 - val_loss: 0.4609 - val_accuracy: 0.7647\n",
      "Epoch 149/300\n",
      "51/51 [==============================] - 0s 1ms/step - loss: 0.4884 - accuracy: 0.7603 - val_loss: 0.4612 - val_accuracy: 0.7626\n",
      "Epoch 150/300\n",
      "51/51 [==============================] - 0s 1ms/step - loss: 0.4883 - accuracy: 0.7601 - val_loss: 0.4642 - val_accuracy: 0.7619\n",
      "Epoch 151/300\n",
      "51/51 [==============================] - 0s 1ms/step - loss: 0.4884 - accuracy: 0.7603 - val_loss: 0.4616 - val_accuracy: 0.7626\n",
      "Epoch 152/300\n",
      "51/51 [==============================] - 0s 3ms/step - loss: 0.4884 - accuracy: 0.7595 - val_loss: 0.4636 - val_accuracy: 0.7619\n",
      "Epoch 153/300\n",
      "51/51 [==============================] - 0s 2ms/step - loss: 0.4884 - accuracy: 0.7598 - val_loss: 0.4633 - val_accuracy: 0.7612\n",
      "Epoch 154/300\n",
      "51/51 [==============================] - 0s 1ms/step - loss: 0.4883 - accuracy: 0.7598 - val_loss: 0.4599 - val_accuracy: 0.7683\n",
      "Epoch 155/300\n",
      "51/51 [==============================] - 0s 1ms/step - loss: 0.4885 - accuracy: 0.7598 - val_loss: 0.4608 - val_accuracy: 0.7662\n",
      "Epoch 156/300\n",
      "51/51 [==============================] - 0s 1ms/step - loss: 0.4883 - accuracy: 0.7605 - val_loss: 0.4588 - val_accuracy: 0.7697\n",
      "Epoch 157/300\n",
      "51/51 [==============================] - 0s 1ms/step - loss: 0.4882 - accuracy: 0.7595 - val_loss: 0.4619 - val_accuracy: 0.7662\n",
      "Epoch 158/300\n",
      "51/51 [==============================] - 0s 1ms/step - loss: 0.4882 - accuracy: 0.7597 - val_loss: 0.4614 - val_accuracy: 0.7669\n",
      "Epoch 159/300\n",
      "51/51 [==============================] - 0s 2ms/step - loss: 0.4884 - accuracy: 0.7600 - val_loss: 0.4586 - val_accuracy: 0.7690\n",
      "Epoch 160/300\n",
      "51/51 [==============================] - 0s 1ms/step - loss: 0.4884 - accuracy: 0.7609 - val_loss: 0.4579 - val_accuracy: 0.7669\n",
      "Epoch 161/300\n",
      "51/51 [==============================] - 0s 1ms/step - loss: 0.4882 - accuracy: 0.7601 - val_loss: 0.4596 - val_accuracy: 0.7676\n",
      "Epoch 162/300\n",
      "51/51 [==============================] - 0s 1ms/step - loss: 0.4883 - accuracy: 0.7617 - val_loss: 0.4577 - val_accuracy: 0.7662\n",
      "Epoch 163/300\n",
      "51/51 [==============================] - 0s 1ms/step - loss: 0.4882 - accuracy: 0.7605 - val_loss: 0.4588 - val_accuracy: 0.7676\n",
      "Epoch 164/300\n",
      "51/51 [==============================] - 0s 1ms/step - loss: 0.4881 - accuracy: 0.7597 - val_loss: 0.4595 - val_accuracy: 0.7669\n",
      "Epoch 165/300\n",
      "51/51 [==============================] - 0s 1ms/step - loss: 0.4882 - accuracy: 0.7603 - val_loss: 0.4573 - val_accuracy: 0.7676\n",
      "Epoch 166/300\n",
      "51/51 [==============================] - 0s 3ms/step - loss: 0.4882 - accuracy: 0.7598 - val_loss: 0.4611 - val_accuracy: 0.7676\n",
      "Epoch 167/300\n",
      "51/51 [==============================] - 0s 2ms/step - loss: 0.4884 - accuracy: 0.7603 - val_loss: 0.4617 - val_accuracy: 0.7662\n",
      "Epoch 168/300\n",
      "51/51 [==============================] - 0s 2ms/step - loss: 0.4885 - accuracy: 0.7597 - val_loss: 0.4624 - val_accuracy: 0.7647\n",
      "Epoch 169/300\n",
      "51/51 [==============================] - 0s 1ms/step - loss: 0.4882 - accuracy: 0.7600 - val_loss: 0.4601 - val_accuracy: 0.7669\n",
      "Epoch 170/300\n",
      "51/51 [==============================] - 0s 1ms/step - loss: 0.4881 - accuracy: 0.7591 - val_loss: 0.4621 - val_accuracy: 0.7640\n",
      "Epoch 171/300\n",
      "51/51 [==============================] - 0s 2ms/step - loss: 0.4884 - accuracy: 0.7606 - val_loss: 0.4618 - val_accuracy: 0.7640\n",
      "Epoch 172/300\n",
      "51/51 [==============================] - 0s 1ms/step - loss: 0.4881 - accuracy: 0.7601 - val_loss: 0.4591 - val_accuracy: 0.7662\n",
      "Epoch 173/300\n",
      "51/51 [==============================] - 0s 1ms/step - loss: 0.4882 - accuracy: 0.7600 - val_loss: 0.4589 - val_accuracy: 0.7655\n",
      "Epoch 174/300\n",
      "51/51 [==============================] - 0s 1ms/step - loss: 0.4882 - accuracy: 0.7606 - val_loss: 0.4624 - val_accuracy: 0.7633\n",
      "Epoch 175/300\n",
      "51/51 [==============================] - 0s 1ms/step - loss: 0.4882 - accuracy: 0.7608 - val_loss: 0.4617 - val_accuracy: 0.7626\n",
      "Epoch 176/300\n",
      "51/51 [==============================] - 0s 1ms/step - loss: 0.4882 - accuracy: 0.7598 - val_loss: 0.4608 - val_accuracy: 0.7655\n",
      "Epoch 177/300\n",
      "51/51 [==============================] - 0s 1ms/step - loss: 0.4881 - accuracy: 0.7603 - val_loss: 0.4609 - val_accuracy: 0.7662\n",
      "Epoch 178/300\n",
      "51/51 [==============================] - 0s 1ms/step - loss: 0.4881 - accuracy: 0.7608 - val_loss: 0.4590 - val_accuracy: 0.7655\n",
      "Epoch 179/300\n",
      "51/51 [==============================] - 0s 1ms/step - loss: 0.4883 - accuracy: 0.7606 - val_loss: 0.4616 - val_accuracy: 0.7633\n",
      "Epoch 180/300\n",
      "51/51 [==============================] - 0s 1ms/step - loss: 0.4881 - accuracy: 0.7598 - val_loss: 0.4605 - val_accuracy: 0.7662\n",
      "Epoch 181/300\n",
      "51/51 [==============================] - 0s 1ms/step - loss: 0.4881 - accuracy: 0.7600 - val_loss: 0.4604 - val_accuracy: 0.7662\n",
      "Epoch 182/300\n",
      "51/51 [==============================] - 0s 997us/step - loss: 0.4882 - accuracy: 0.7606 - val_loss: 0.4618 - val_accuracy: 0.7662\n",
      "Epoch 183/300\n",
      "51/51 [==============================] - 0s 1ms/step - loss: 0.4880 - accuracy: 0.7603 - val_loss: 0.4606 - val_accuracy: 0.7655\n",
      "Epoch 184/300\n",
      "51/51 [==============================] - 0s 1ms/step - loss: 0.4882 - accuracy: 0.7594 - val_loss: 0.4602 - val_accuracy: 0.7669\n",
      "Epoch 185/300\n",
      "51/51 [==============================] - 0s 1ms/step - loss: 0.4882 - accuracy: 0.7605 - val_loss: 0.4589 - val_accuracy: 0.7662\n",
      "Epoch 186/300\n",
      "51/51 [==============================] - 0s 1ms/step - loss: 0.4881 - accuracy: 0.7605 - val_loss: 0.4603 - val_accuracy: 0.7662\n",
      "Epoch 187/300\n",
      "51/51 [==============================] - 0s 1ms/step - loss: 0.4882 - accuracy: 0.7612 - val_loss: 0.4636 - val_accuracy: 0.7626\n",
      "Epoch 188/300\n",
      "51/51 [==============================] - 0s 1ms/step - loss: 0.4881 - accuracy: 0.7616 - val_loss: 0.4615 - val_accuracy: 0.7626\n",
      "Epoch 189/300\n",
      "51/51 [==============================] - 0s 1ms/step - loss: 0.4882 - accuracy: 0.7597 - val_loss: 0.4606 - val_accuracy: 0.7647\n",
      "Epoch 190/300\n",
      "51/51 [==============================] - 0s 1ms/step - loss: 0.4880 - accuracy: 0.7600 - val_loss: 0.4603 - val_accuracy: 0.7647\n",
      "Epoch 191/300\n",
      "51/51 [==============================] - 0s 1ms/step - loss: 0.4881 - accuracy: 0.7601 - val_loss: 0.4614 - val_accuracy: 0.7640\n",
      "Epoch 192/300\n",
      "51/51 [==============================] - 0s 1ms/step - loss: 0.4880 - accuracy: 0.7603 - val_loss: 0.4610 - val_accuracy: 0.7640\n",
      "Epoch 193/300\n",
      "51/51 [==============================] - 0s 1ms/step - loss: 0.4883 - accuracy: 0.7609 - val_loss: 0.4620 - val_accuracy: 0.7633\n",
      "Epoch 194/300\n",
      "51/51 [==============================] - 0s 1ms/step - loss: 0.4882 - accuracy: 0.7608 - val_loss: 0.4611 - val_accuracy: 0.7647\n",
      "Epoch 195/300\n",
      "51/51 [==============================] - 0s 1ms/step - loss: 0.4883 - accuracy: 0.7603 - val_loss: 0.4607 - val_accuracy: 0.7655\n",
      "Epoch 196/300\n",
      "51/51 [==============================] - 0s 1ms/step - loss: 0.4883 - accuracy: 0.7601 - val_loss: 0.4633 - val_accuracy: 0.7640\n",
      "Epoch 197/300\n",
      "51/51 [==============================] - 0s 1ms/step - loss: 0.4881 - accuracy: 0.7598 - val_loss: 0.4576 - val_accuracy: 0.7676\n",
      "Epoch 198/300\n",
      "51/51 [==============================] - 0s 1ms/step - loss: 0.4882 - accuracy: 0.7598 - val_loss: 0.4597 - val_accuracy: 0.7676\n",
      "Epoch 199/300\n",
      "51/51 [==============================] - 0s 1ms/step - loss: 0.4880 - accuracy: 0.7603 - val_loss: 0.4599 - val_accuracy: 0.7669\n",
      "Epoch 200/300\n",
      "51/51 [==============================] - 0s 1ms/step - loss: 0.4881 - accuracy: 0.7605 - val_loss: 0.4607 - val_accuracy: 0.7669\n",
      "Epoch 201/300\n",
      "51/51 [==============================] - 0s 1ms/step - loss: 0.4880 - accuracy: 0.7603 - val_loss: 0.4599 - val_accuracy: 0.7669\n",
      "Epoch 202/300\n",
      "51/51 [==============================] - 0s 1ms/step - loss: 0.4880 - accuracy: 0.7589 - val_loss: 0.4628 - val_accuracy: 0.7640\n",
      "Epoch 203/300\n",
      "51/51 [==============================] - 0s 1ms/step - loss: 0.4881 - accuracy: 0.7600 - val_loss: 0.4603 - val_accuracy: 0.7662\n",
      "Epoch 204/300\n",
      "51/51 [==============================] - 0s 1ms/step - loss: 0.4880 - accuracy: 0.7603 - val_loss: 0.4636 - val_accuracy: 0.7619\n",
      "Epoch 205/300\n",
      "51/51 [==============================] - 0s 1ms/step - loss: 0.4881 - accuracy: 0.7601 - val_loss: 0.4617 - val_accuracy: 0.7640\n",
      "Epoch 206/300\n",
      "51/51 [==============================] - 0s 1ms/step - loss: 0.4881 - accuracy: 0.7609 - val_loss: 0.4604 - val_accuracy: 0.7647\n",
      "Epoch 207/300\n",
      "51/51 [==============================] - 0s 1ms/step - loss: 0.4881 - accuracy: 0.7605 - val_loss: 0.4618 - val_accuracy: 0.7655\n",
      "Epoch 208/300\n",
      "51/51 [==============================] - 0s 1ms/step - loss: 0.4880 - accuracy: 0.7601 - val_loss: 0.4614 - val_accuracy: 0.7676\n",
      "Epoch 209/300\n",
      "51/51 [==============================] - 0s 1ms/step - loss: 0.4880 - accuracy: 0.7603 - val_loss: 0.4584 - val_accuracy: 0.7683\n",
      "Epoch 210/300\n",
      "51/51 [==============================] - 0s 1ms/step - loss: 0.4885 - accuracy: 0.7606 - val_loss: 0.4597 - val_accuracy: 0.7676\n",
      "Epoch 211/300\n",
      "51/51 [==============================] - 0s 1ms/step - loss: 0.4880 - accuracy: 0.7595 - val_loss: 0.4616 - val_accuracy: 0.7647\n",
      "Epoch 212/300\n",
      "51/51 [==============================] - 0s 1ms/step - loss: 0.4880 - accuracy: 0.7598 - val_loss: 0.4612 - val_accuracy: 0.7655\n",
      "Epoch 213/300\n",
      "51/51 [==============================] - 0s 1ms/step - loss: 0.4880 - accuracy: 0.7606 - val_loss: 0.4617 - val_accuracy: 0.7662\n",
      "Epoch 214/300\n",
      "51/51 [==============================] - 0s 3ms/step - loss: 0.4881 - accuracy: 0.7605 - val_loss: 0.4613 - val_accuracy: 0.7662\n",
      "Epoch 215/300\n",
      "51/51 [==============================] - 0s 2ms/step - loss: 0.4880 - accuracy: 0.7605 - val_loss: 0.4624 - val_accuracy: 0.7647\n",
      "Epoch 216/300\n",
      "51/51 [==============================] - 0s 2ms/step - loss: 0.4883 - accuracy: 0.7597 - val_loss: 0.4633 - val_accuracy: 0.7676\n",
      "Epoch 217/300\n",
      "51/51 [==============================] - 0s 2ms/step - loss: 0.4881 - accuracy: 0.7603 - val_loss: 0.4596 - val_accuracy: 0.7676\n",
      "Epoch 218/300\n",
      "51/51 [==============================] - 0s 2ms/step - loss: 0.4880 - accuracy: 0.7603 - val_loss: 0.4587 - val_accuracy: 0.7662\n",
      "Epoch 219/300\n",
      "51/51 [==============================] - 0s 1ms/step - loss: 0.4881 - accuracy: 0.7608 - val_loss: 0.4597 - val_accuracy: 0.7655\n",
      "Epoch 220/300\n",
      "51/51 [==============================] - 0s 1ms/step - loss: 0.4880 - accuracy: 0.7601 - val_loss: 0.4602 - val_accuracy: 0.7669\n",
      "Epoch 221/300\n",
      "51/51 [==============================] - 0s 3ms/step - loss: 0.4879 - accuracy: 0.7601 - val_loss: 0.4614 - val_accuracy: 0.7662\n",
      "Epoch 222/300\n",
      "51/51 [==============================] - 0s 2ms/step - loss: 0.4879 - accuracy: 0.7601 - val_loss: 0.4596 - val_accuracy: 0.7669\n",
      "Epoch 223/300\n",
      "51/51 [==============================] - 0s 1ms/step - loss: 0.4881 - accuracy: 0.7611 - val_loss: 0.4596 - val_accuracy: 0.7669\n",
      "Epoch 224/300\n",
      "51/51 [==============================] - 0s 1ms/step - loss: 0.4879 - accuracy: 0.7601 - val_loss: 0.4614 - val_accuracy: 0.7662\n",
      "Epoch 225/300\n",
      "51/51 [==============================] - 0s 1ms/step - loss: 0.4880 - accuracy: 0.7608 - val_loss: 0.4624 - val_accuracy: 0.7662\n",
      "Epoch 226/300\n",
      "51/51 [==============================] - 0s 3ms/step - loss: 0.4880 - accuracy: 0.7600 - val_loss: 0.4619 - val_accuracy: 0.7647\n",
      "Epoch 227/300\n",
      "51/51 [==============================] - 0s 5ms/step - loss: 0.4881 - accuracy: 0.7609 - val_loss: 0.4589 - val_accuracy: 0.7669\n",
      "Epoch 228/300\n",
      "51/51 [==============================] - 0s 2ms/step - loss: 0.4880 - accuracy: 0.7603 - val_loss: 0.4602 - val_accuracy: 0.7669\n",
      "Epoch 229/300\n",
      "51/51 [==============================] - 0s 2ms/step - loss: 0.4880 - accuracy: 0.7601 - val_loss: 0.4606 - val_accuracy: 0.7669\n",
      "Epoch 230/300\n",
      "51/51 [==============================] - 0s 3ms/step - loss: 0.4878 - accuracy: 0.7597 - val_loss: 0.4598 - val_accuracy: 0.7676\n",
      "Epoch 231/300\n",
      "51/51 [==============================] - 0s 2ms/step - loss: 0.4880 - accuracy: 0.7605 - val_loss: 0.4589 - val_accuracy: 0.7669\n",
      "Epoch 232/300\n",
      "51/51 [==============================] - 0s 4ms/step - loss: 0.4878 - accuracy: 0.7603 - val_loss: 0.4610 - val_accuracy: 0.7655\n",
      "Epoch 233/300\n",
      "51/51 [==============================] - 0s 2ms/step - loss: 0.4878 - accuracy: 0.7606 - val_loss: 0.4608 - val_accuracy: 0.7669\n",
      "Epoch 234/300\n",
      "51/51 [==============================] - 0s 4ms/step - loss: 0.4881 - accuracy: 0.7606 - val_loss: 0.4616 - val_accuracy: 0.7640\n",
      "Epoch 235/300\n",
      "51/51 [==============================] - 0s 3ms/step - loss: 0.4879 - accuracy: 0.7612 - val_loss: 0.4599 - val_accuracy: 0.7655\n",
      "Epoch 236/300\n",
      "51/51 [==============================] - 0s 1ms/step - loss: 0.4880 - accuracy: 0.7616 - val_loss: 0.4611 - val_accuracy: 0.7647\n",
      "Epoch 237/300\n",
      "51/51 [==============================] - 0s 1ms/step - loss: 0.4878 - accuracy: 0.7594 - val_loss: 0.4578 - val_accuracy: 0.7662\n",
      "Epoch 238/300\n",
      "51/51 [==============================] - 0s 1ms/step - loss: 0.4880 - accuracy: 0.7598 - val_loss: 0.4590 - val_accuracy: 0.7676\n",
      "Epoch 239/300\n",
      "51/51 [==============================] - 0s 1ms/step - loss: 0.4879 - accuracy: 0.7600 - val_loss: 0.4604 - val_accuracy: 0.7647\n",
      "Epoch 240/300\n",
      "51/51 [==============================] - 0s 1ms/step - loss: 0.4882 - accuracy: 0.7591 - val_loss: 0.4606 - val_accuracy: 0.7662\n",
      "Epoch 241/300\n",
      "51/51 [==============================] - 0s 1ms/step - loss: 0.4879 - accuracy: 0.7601 - val_loss: 0.4643 - val_accuracy: 0.7633\n",
      "Epoch 242/300\n",
      "51/51 [==============================] - 0s 1ms/step - loss: 0.4878 - accuracy: 0.7598 - val_loss: 0.4619 - val_accuracy: 0.7669\n",
      "Epoch 243/300\n",
      "51/51 [==============================] - 0s 1ms/step - loss: 0.4878 - accuracy: 0.7598 - val_loss: 0.4618 - val_accuracy: 0.7655\n",
      "Epoch 244/300\n",
      "51/51 [==============================] - 0s 2ms/step - loss: 0.4879 - accuracy: 0.7597 - val_loss: 0.4614 - val_accuracy: 0.7640\n",
      "Epoch 245/300\n",
      "51/51 [==============================] - 0s 1ms/step - loss: 0.4880 - accuracy: 0.7600 - val_loss: 0.4589 - val_accuracy: 0.7683\n",
      "Epoch 246/300\n",
      "51/51 [==============================] - 0s 1ms/step - loss: 0.4878 - accuracy: 0.7597 - val_loss: 0.4619 - val_accuracy: 0.7662\n",
      "Epoch 247/300\n",
      "51/51 [==============================] - 0s 1ms/step - loss: 0.4879 - accuracy: 0.7605 - val_loss: 0.4631 - val_accuracy: 0.7633\n",
      "Epoch 248/300\n",
      "51/51 [==============================] - 0s 1ms/step - loss: 0.4880 - accuracy: 0.7608 - val_loss: 0.4623 - val_accuracy: 0.7640\n",
      "Epoch 249/300\n",
      "51/51 [==============================] - 0s 1ms/step - loss: 0.4879 - accuracy: 0.7600 - val_loss: 0.4622 - val_accuracy: 0.7640\n",
      "Epoch 250/300\n",
      "51/51 [==============================] - 0s 1ms/step - loss: 0.4880 - accuracy: 0.7608 - val_loss: 0.4618 - val_accuracy: 0.7662\n",
      "Epoch 251/300\n",
      "51/51 [==============================] - 0s 1ms/step - loss: 0.4878 - accuracy: 0.7603 - val_loss: 0.4597 - val_accuracy: 0.7676\n",
      "Epoch 252/300\n",
      "51/51 [==============================] - 0s 2ms/step - loss: 0.4881 - accuracy: 0.7611 - val_loss: 0.4616 - val_accuracy: 0.7669\n",
      "Epoch 253/300\n",
      "51/51 [==============================] - 0s 2ms/step - loss: 0.4879 - accuracy: 0.7605 - val_loss: 0.4650 - val_accuracy: 0.7633\n",
      "Epoch 254/300\n",
      "51/51 [==============================] - 0s 2ms/step - loss: 0.4879 - accuracy: 0.7600 - val_loss: 0.4620 - val_accuracy: 0.7676\n",
      "Epoch 255/300\n",
      "51/51 [==============================] - 0s 1ms/step - loss: 0.4878 - accuracy: 0.7603 - val_loss: 0.4614 - val_accuracy: 0.7662\n",
      "Epoch 256/300\n",
      "51/51 [==============================] - 0s 2ms/step - loss: 0.4878 - accuracy: 0.7605 - val_loss: 0.4588 - val_accuracy: 0.7669\n",
      "Epoch 257/300\n",
      "51/51 [==============================] - 0s 1ms/step - loss: 0.4880 - accuracy: 0.7603 - val_loss: 0.4594 - val_accuracy: 0.7662\n",
      "Epoch 258/300\n",
      "51/51 [==============================] - 0s 1ms/step - loss: 0.4879 - accuracy: 0.7608 - val_loss: 0.4632 - val_accuracy: 0.7640\n",
      "Epoch 259/300\n",
      "51/51 [==============================] - 0s 1ms/step - loss: 0.4878 - accuracy: 0.7609 - val_loss: 0.4614 - val_accuracy: 0.7662\n",
      "Epoch 260/300\n",
      "51/51 [==============================] - 0s 1ms/step - loss: 0.4879 - accuracy: 0.7600 - val_loss: 0.4588 - val_accuracy: 0.7669\n",
      "Epoch 261/300\n",
      "51/51 [==============================] - 0s 1ms/step - loss: 0.4877 - accuracy: 0.7601 - val_loss: 0.4621 - val_accuracy: 0.7655\n",
      "Epoch 262/300\n",
      "51/51 [==============================] - 0s 1ms/step - loss: 0.4879 - accuracy: 0.7598 - val_loss: 0.4626 - val_accuracy: 0.7662\n",
      "Epoch 263/300\n",
      "51/51 [==============================] - 0s 1ms/step - loss: 0.4877 - accuracy: 0.7603 - val_loss: 0.4595 - val_accuracy: 0.7662\n",
      "Epoch 264/300\n",
      "51/51 [==============================] - 0s 2ms/step - loss: 0.4877 - accuracy: 0.7598 - val_loss: 0.4604 - val_accuracy: 0.7669\n",
      "Epoch 265/300\n",
      "51/51 [==============================] - 0s 1ms/step - loss: 0.4880 - accuracy: 0.7598 - val_loss: 0.4592 - val_accuracy: 0.7669\n",
      "Epoch 266/300\n",
      "51/51 [==============================] - 0s 1ms/step - loss: 0.4879 - accuracy: 0.7601 - val_loss: 0.4627 - val_accuracy: 0.7669\n",
      "Epoch 267/300\n",
      "51/51 [==============================] - 0s 1ms/step - loss: 0.4878 - accuracy: 0.7600 - val_loss: 0.4608 - val_accuracy: 0.7669\n",
      "Epoch 268/300\n",
      "51/51 [==============================] - 0s 1ms/step - loss: 0.4877 - accuracy: 0.7594 - val_loss: 0.4605 - val_accuracy: 0.7669\n",
      "Epoch 269/300\n",
      "51/51 [==============================] - 0s 1ms/step - loss: 0.4878 - accuracy: 0.7603 - val_loss: 0.4615 - val_accuracy: 0.7669\n",
      "Epoch 270/300\n",
      "51/51 [==============================] - 0s 1ms/step - loss: 0.4878 - accuracy: 0.7598 - val_loss: 0.4607 - val_accuracy: 0.7669\n",
      "Epoch 271/300\n",
      "51/51 [==============================] - 0s 2ms/step - loss: 0.4877 - accuracy: 0.7597 - val_loss: 0.4598 - val_accuracy: 0.7669\n",
      "Epoch 272/300\n",
      "51/51 [==============================] - 0s 2ms/step - loss: 0.4878 - accuracy: 0.7598 - val_loss: 0.4607 - val_accuracy: 0.7662\n",
      "Epoch 273/300\n",
      "51/51 [==============================] - 0s 1ms/step - loss: 0.4878 - accuracy: 0.7601 - val_loss: 0.4591 - val_accuracy: 0.7662\n",
      "Epoch 274/300\n",
      "51/51 [==============================] - 0s 1ms/step - loss: 0.4880 - accuracy: 0.7600 - val_loss: 0.4597 - val_accuracy: 0.7662\n",
      "Epoch 275/300\n",
      "51/51 [==============================] - 0s 2ms/step - loss: 0.4877 - accuracy: 0.7606 - val_loss: 0.4603 - val_accuracy: 0.7662\n",
      "Epoch 276/300\n",
      "51/51 [==============================] - 0s 2ms/step - loss: 0.4878 - accuracy: 0.7601 - val_loss: 0.4600 - val_accuracy: 0.7676\n",
      "Epoch 277/300\n",
      "51/51 [==============================] - 0s 1ms/step - loss: 0.4877 - accuracy: 0.7614 - val_loss: 0.4615 - val_accuracy: 0.7669\n",
      "Epoch 278/300\n",
      "51/51 [==============================] - 0s 1ms/step - loss: 0.4878 - accuracy: 0.7598 - val_loss: 0.4635 - val_accuracy: 0.7647\n",
      "Epoch 279/300\n",
      "51/51 [==============================] - 0s 1ms/step - loss: 0.4879 - accuracy: 0.7603 - val_loss: 0.4617 - val_accuracy: 0.7655\n",
      "Epoch 280/300\n",
      "51/51 [==============================] - 0s 2ms/step - loss: 0.4878 - accuracy: 0.7606 - val_loss: 0.4632 - val_accuracy: 0.7655\n",
      "Epoch 281/300\n",
      "51/51 [==============================] - 0s 1ms/step - loss: 0.4879 - accuracy: 0.7594 - val_loss: 0.4638 - val_accuracy: 0.7655\n",
      "Epoch 282/300\n",
      "51/51 [==============================] - 0s 1ms/step - loss: 0.4878 - accuracy: 0.7603 - val_loss: 0.4609 - val_accuracy: 0.7669\n",
      "Epoch 283/300\n",
      "51/51 [==============================] - 0s 1ms/step - loss: 0.4880 - accuracy: 0.7603 - val_loss: 0.4642 - val_accuracy: 0.7647\n",
      "Epoch 284/300\n",
      "51/51 [==============================] - 0s 2ms/step - loss: 0.4879 - accuracy: 0.7606 - val_loss: 0.4619 - val_accuracy: 0.7669\n",
      "Epoch 285/300\n",
      "51/51 [==============================] - 0s 1ms/step - loss: 0.4878 - accuracy: 0.7614 - val_loss: 0.4611 - val_accuracy: 0.7669\n",
      "Epoch 286/300\n",
      "51/51 [==============================] - 0s 1ms/step - loss: 0.4878 - accuracy: 0.7606 - val_loss: 0.4606 - val_accuracy: 0.7669\n",
      "Epoch 287/300\n",
      "51/51 [==============================] - 0s 1ms/step - loss: 0.4877 - accuracy: 0.7597 - val_loss: 0.4613 - val_accuracy: 0.7655\n",
      "Epoch 288/300\n",
      "51/51 [==============================] - 0s 1ms/step - loss: 0.4877 - accuracy: 0.7601 - val_loss: 0.4599 - val_accuracy: 0.7655\n",
      "Epoch 289/300\n",
      "51/51 [==============================] - 0s 1ms/step - loss: 0.4880 - accuracy: 0.7608 - val_loss: 0.4589 - val_accuracy: 0.7662\n",
      "Epoch 290/300\n",
      "51/51 [==============================] - 0s 1ms/step - loss: 0.4877 - accuracy: 0.7611 - val_loss: 0.4625 - val_accuracy: 0.7669\n",
      "Epoch 291/300\n",
      "51/51 [==============================] - 0s 1ms/step - loss: 0.4878 - accuracy: 0.7601 - val_loss: 0.4614 - val_accuracy: 0.7669\n",
      "Epoch 292/300\n",
      "51/51 [==============================] - 0s 1ms/step - loss: 0.4878 - accuracy: 0.7605 - val_loss: 0.4608 - val_accuracy: 0.7662\n",
      "Epoch 293/300\n",
      "51/51 [==============================] - 0s 1ms/step - loss: 0.4877 - accuracy: 0.7603 - val_loss: 0.4597 - val_accuracy: 0.7655\n",
      "Epoch 294/300\n",
      "51/51 [==============================] - 0s 1ms/step - loss: 0.4878 - accuracy: 0.7605 - val_loss: 0.4573 - val_accuracy: 0.7662\n",
      "Epoch 295/300\n",
      "51/51 [==============================] - 0s 1ms/step - loss: 0.4878 - accuracy: 0.7609 - val_loss: 0.4596 - val_accuracy: 0.7683\n",
      "Epoch 296/300\n",
      "51/51 [==============================] - 0s 1ms/step - loss: 0.4877 - accuracy: 0.7601 - val_loss: 0.4602 - val_accuracy: 0.7662\n",
      "Epoch 297/300\n",
      "51/51 [==============================] - 0s 1ms/step - loss: 0.4877 - accuracy: 0.7601 - val_loss: 0.4604 - val_accuracy: 0.7683\n",
      "Epoch 298/300\n",
      "51/51 [==============================] - 0s 1ms/step - loss: 0.4878 - accuracy: 0.7608 - val_loss: 0.4590 - val_accuracy: 0.7676\n",
      "Epoch 299/300\n",
      "51/51 [==============================] - 0s 1ms/step - loss: 0.4877 - accuracy: 0.7606 - val_loss: 0.4615 - val_accuracy: 0.7662\n",
      "Epoch 300/300\n",
      "51/51 [==============================] - 0s 1ms/step - loss: 0.4878 - accuracy: 0.7594 - val_loss: 0.4621 - val_accuracy: 0.7662\n"
     ]
    }
   ],
   "source": [
    "history = model3.fit(train_data, epochs=300, validation_data=val_data) #Running with 350 epcohs"
   ]
  },
  {
   "cell_type": "code",
   "execution_count": 68,
   "metadata": {},
   "outputs": [
    {
     "data": {
      "text/html": [
       "<div>\n",
       "<style scoped>\n",
       "    .dataframe tbody tr th:only-of-type {\n",
       "        vertical-align: middle;\n",
       "    }\n",
       "\n",
       "    .dataframe tbody tr th {\n",
       "        vertical-align: top;\n",
       "    }\n",
       "\n",
       "    .dataframe thead th {\n",
       "        text-align: right;\n",
       "    }\n",
       "</style>\n",
       "<table border=\"1\" class=\"dataframe\">\n",
       "  <thead>\n",
       "    <tr style=\"text-align: right;\">\n",
       "      <th></th>\n",
       "      <th>loss</th>\n",
       "      <th>accuracy</th>\n",
       "      <th>val_loss</th>\n",
       "      <th>val_accuracy</th>\n",
       "    </tr>\n",
       "  </thead>\n",
       "  <tbody>\n",
       "    <tr>\n",
       "      <th>0</th>\n",
       "      <td>0.720791</td>\n",
       "      <td>0.450187</td>\n",
       "      <td>0.658605</td>\n",
       "      <td>0.545132</td>\n",
       "    </tr>\n",
       "    <tr>\n",
       "      <th>1</th>\n",
       "      <td>0.651696</td>\n",
       "      <td>0.568863</td>\n",
       "      <td>0.594238</td>\n",
       "      <td>0.679460</td>\n",
       "    </tr>\n",
       "    <tr>\n",
       "      <th>2</th>\n",
       "      <td>0.605307</td>\n",
       "      <td>0.678638</td>\n",
       "      <td>0.551690</td>\n",
       "      <td>0.715707</td>\n",
       "    </tr>\n",
       "    <tr>\n",
       "      <th>3</th>\n",
       "      <td>0.572601</td>\n",
       "      <td>0.723923</td>\n",
       "      <td>0.520253</td>\n",
       "      <td>0.738451</td>\n",
       "    </tr>\n",
       "    <tr>\n",
       "      <th>4</th>\n",
       "      <td>0.548916</td>\n",
       "      <td>0.732667</td>\n",
       "      <td>0.499700</td>\n",
       "      <td>0.739872</td>\n",
       "    </tr>\n",
       "  </tbody>\n",
       "</table>\n",
       "</div>"
      ],
      "text/plain": [
       "       loss  accuracy  val_loss  val_accuracy\n",
       "0  0.720791  0.450187  0.658605      0.545132\n",
       "1  0.651696  0.568863  0.594238      0.679460\n",
       "2  0.605307  0.678638  0.551690      0.715707\n",
       "3  0.572601  0.723923  0.520253      0.738451\n",
       "4  0.548916  0.732667  0.499700      0.739872"
      ]
     },
     "execution_count": 68,
     "metadata": {},
     "output_type": "execute_result"
    }
   ],
   "source": [
    "metrics = pd.DataFrame(history.history)\n",
    "metrics.head()"
   ]
  },
  {
   "cell_type": "code",
   "execution_count": 69,
   "metadata": {},
   "outputs": [
    {
     "data": {
      "text/plain": [
       "<AxesSubplot:>"
      ]
     },
     "execution_count": 69,
     "metadata": {},
     "output_type": "execute_result"
    },
    {
     "data": {
      "image/png": "[encoded data removed]",
      "text/plain": [
       "<Figure size 432x288 with 1 Axes>"
      ]
     },
     "metadata": {
      "needs_background": "light"
     },
     "output_type": "display_data"
    }
   ],
   "source": [
    "metrics[['loss','val_loss']].plot()"
   ]
  },
  {
   "cell_type": "code",
   "execution_count": 70,
   "metadata": {},
   "outputs": [
    {
     "data": {
      "text/plain": [
       "<AxesSubplot:>"
      ]
     },
     "execution_count": 70,
     "metadata": {},
     "output_type": "execute_result"
    },
    {
     "data": {
      "image/png": "[encoded data removed]",
      "text/plain": [
       "<Figure size 432x288 with 1 Axes>"
      ]
     },
     "metadata": {
      "needs_background": "light"
     },
     "output_type": "display_data"
    }
   ],
   "source": [
    "metrics[['accuracy','val_accuracy']].plot()"
   ]
  },
  {
   "cell_type": "code",
   "execution_count": 71,
   "metadata": {},
   "outputs": [
    {
     "name": "stdout",
     "output_type": "stream",
     "text": [
      "              precision    recall  f1-score   support\n",
      "\n",
      "       False       0.87      0.74      0.80       401\n",
      "        True       0.53      0.72      0.61       162\n",
      "\n",
      "    accuracy                           0.74       563\n",
      "   macro avg       0.70      0.73      0.71       563\n",
      "weighted avg       0.77      0.74      0.75       563\n",
      "\n"
     ]
    }
   ],
   "source": [
    "y_pred = model.predict(test_data) #hasilnya akan probabilitas\n",
    "y_pred= np.where(y_pred > 0.5, 1, 0) # Binary only kalau multiclass berbeda lagi\n",
    "print(classification_report(y_test, y_pred))"
   ]
  },
  {
   "cell_type": "markdown",
   "metadata": {},
   "source": [
    "We get : \n",
    "- For class false f1-score accuracy is 82%\n",
    "- For the True class, the F1-score accuracy is 63%\n",
    "- And accuracy model 75%\n"
   ]
  },
  {
   "cell_type": "markdown",
   "metadata": {},
   "source": [
    "## Conclusion\n",
    "The best model with better overfitting is on model2,with:\n",
    "- 3 Hidden Layer, first hidden layer have 8 Neuron, Second Hidden layer have 4 Neuron, and Third hidden layer have 2 Neuron\n",
    "- Activation function in all hidden layer are `relu` and for out layer is `sigmoid`\n",
    "- Use Binary Crossentropy for loss\n",
    "- optimizer use adam\n",
    "And for scoring:\n",
    "- For class false f1-score accuracy is 84%\n",
    "- For the True class, the F1-score accuracy is 63%\n",
    "- And accuracy model 77%"
   ]
  },
  {
   "cell_type": "markdown",
   "metadata": {},
   "source": [
    "## Model Saving\n",
    "By looking at the results of the model evaluation, choose the best model to save. This best model will be reused in deploying Heroku."
   ]
  },
  {
   "cell_type": "code",
   "execution_count": 72,
   "metadata": {},
   "outputs": [],
   "source": [
    "#saving prepocessing data\n",
    "\n",
    "import pickle\n",
    "f= open('preprocesing.pkl', 'wb') #wb = write binary, rb = read binary\n",
    "pickle.dump(data_pipeline, f)\n",
    "f.close()"
   ]
  },
  {
   "cell_type": "code",
   "execution_count": 73,
   "metadata": {},
   "outputs": [],
   "source": [
    "# simpan model\n",
    "from tensorflow.keras.models import load_model,save_model\n",
    "model2.save('modell.h5')"
   ]
  },
  {
   "cell_type": "markdown",
   "metadata": {},
   "source": [
    "## Model Inference "
   ]
  },
  {
   "cell_type": "code",
   "execution_count": 74,
   "metadata": {},
   "outputs": [
    {
     "data": {
      "text/html": [
       "<div>\n",
       "<style scoped>\n",
       "    .dataframe tbody tr th:only-of-type {\n",
       "        vertical-align: middle;\n",
       "    }\n",
       "\n",
       "    .dataframe tbody tr th {\n",
       "        vertical-align: top;\n",
       "    }\n",
       "\n",
       "    .dataframe thead th {\n",
       "        text-align: right;\n",
       "    }\n",
       "</style>\n",
       "<table border=\"1\" class=\"dataframe\">\n",
       "  <thead>\n",
       "    <tr style=\"text-align: right;\">\n",
       "      <th></th>\n",
       "      <th>tenure</th>\n",
       "      <th>OnlineSecurity</th>\n",
       "      <th>Contract</th>\n",
       "      <th>MonthlyCharges</th>\n",
       "      <th>TotalCharges</th>\n",
       "      <th>Churn</th>\n",
       "    </tr>\n",
       "  </thead>\n",
       "  <tbody>\n",
       "    <tr>\n",
       "      <th>0</th>\n",
       "      <td>1</td>\n",
       "      <td>No</td>\n",
       "      <td>Month-to-month</td>\n",
       "      <td>29.85</td>\n",
       "      <td>29.85</td>\n",
       "      <td>No</td>\n",
       "    </tr>\n",
       "    <tr>\n",
       "      <th>1</th>\n",
       "      <td>34</td>\n",
       "      <td>Yes</td>\n",
       "      <td>One year</td>\n",
       "      <td>56.95</td>\n",
       "      <td>1889.50</td>\n",
       "      <td>No</td>\n",
       "    </tr>\n",
       "    <tr>\n",
       "      <th>2</th>\n",
       "      <td>2</td>\n",
       "      <td>Yes</td>\n",
       "      <td>Month-to-month</td>\n",
       "      <td>53.85</td>\n",
       "      <td>108.15</td>\n",
       "      <td>Yes</td>\n",
       "    </tr>\n",
       "    <tr>\n",
       "      <th>3</th>\n",
       "      <td>45</td>\n",
       "      <td>Yes</td>\n",
       "      <td>One year</td>\n",
       "      <td>42.30</td>\n",
       "      <td>1840.75</td>\n",
       "      <td>No</td>\n",
       "    </tr>\n",
       "    <tr>\n",
       "      <th>4</th>\n",
       "      <td>2</td>\n",
       "      <td>No</td>\n",
       "      <td>Month-to-month</td>\n",
       "      <td>70.70</td>\n",
       "      <td>151.65</td>\n",
       "      <td>Yes</td>\n",
       "    </tr>\n",
       "    <tr>\n",
       "      <th>...</th>\n",
       "      <td>...</td>\n",
       "      <td>...</td>\n",
       "      <td>...</td>\n",
       "      <td>...</td>\n",
       "      <td>...</td>\n",
       "      <td>...</td>\n",
       "    </tr>\n",
       "    <tr>\n",
       "      <th>7038</th>\n",
       "      <td>24</td>\n",
       "      <td>Yes</td>\n",
       "      <td>One year</td>\n",
       "      <td>84.80</td>\n",
       "      <td>1990.50</td>\n",
       "      <td>No</td>\n",
       "    </tr>\n",
       "    <tr>\n",
       "      <th>7039</th>\n",
       "      <td>72</td>\n",
       "      <td>No</td>\n",
       "      <td>One year</td>\n",
       "      <td>103.20</td>\n",
       "      <td>7362.90</td>\n",
       "      <td>No</td>\n",
       "    </tr>\n",
       "    <tr>\n",
       "      <th>7040</th>\n",
       "      <td>11</td>\n",
       "      <td>Yes</td>\n",
       "      <td>Month-to-month</td>\n",
       "      <td>29.60</td>\n",
       "      <td>346.45</td>\n",
       "      <td>No</td>\n",
       "    </tr>\n",
       "    <tr>\n",
       "      <th>7041</th>\n",
       "      <td>4</td>\n",
       "      <td>No</td>\n",
       "      <td>Month-to-month</td>\n",
       "      <td>74.40</td>\n",
       "      <td>306.60</td>\n",
       "      <td>Yes</td>\n",
       "    </tr>\n",
       "    <tr>\n",
       "      <th>7042</th>\n",
       "      <td>66</td>\n",
       "      <td>Yes</td>\n",
       "      <td>Two year</td>\n",
       "      <td>105.65</td>\n",
       "      <td>6844.50</td>\n",
       "      <td>No</td>\n",
       "    </tr>\n",
       "  </tbody>\n",
       "</table>\n",
       "<p>7032 rows × 6 columns</p>\n",
       "</div>"
      ],
      "text/plain": [
       "      tenure OnlineSecurity        Contract  MonthlyCharges  TotalCharges  \\\n",
       "0          1             No  Month-to-month           29.85         29.85   \n",
       "1         34            Yes        One year           56.95       1889.50   \n",
       "2          2            Yes  Month-to-month           53.85        108.15   \n",
       "3         45            Yes        One year           42.30       1840.75   \n",
       "4          2             No  Month-to-month           70.70        151.65   \n",
       "...      ...            ...             ...             ...           ...   \n",
       "7038      24            Yes        One year           84.80       1990.50   \n",
       "7039      72             No        One year          103.20       7362.90   \n",
       "7040      11            Yes  Month-to-month           29.60        346.45   \n",
       "7041       4             No  Month-to-month           74.40        306.60   \n",
       "7042      66            Yes        Two year          105.65       6844.50   \n",
       "\n",
       "     Churn  \n",
       "0       No  \n",
       "1       No  \n",
       "2      Yes  \n",
       "3       No  \n",
       "4      Yes  \n",
       "...    ...  \n",
       "7038    No  \n",
       "7039    No  \n",
       "7040    No  \n",
       "7041   Yes  \n",
       "7042    No  \n",
       "\n",
       "[7032 rows x 6 columns]"
      ]
     },
     "execution_count": 74,
     "metadata": {},
     "output_type": "execute_result"
    }
   ],
   "source": [
    "df_fi"
   ]
  },
  {
   "cell_type": "code",
   "execution_count": 75,
   "metadata": {},
   "outputs": [],
   "source": [
    "df_inf= pd.DataFrame([{'tenure': 48, 'OnlineSecurity': 'No', 'Contract': 'One year', 'MonthlyCharges': 100, 'TotalCharges': 1998}])"
   ]
  },
  {
   "cell_type": "code",
   "execution_count": 76,
   "metadata": {},
   "outputs": [
    {
     "data": {
      "text/html": [
       "<div>\n",
       "<style scoped>\n",
       "    .dataframe tbody tr th:only-of-type {\n",
       "        vertical-align: middle;\n",
       "    }\n",
       "\n",
       "    .dataframe tbody tr th {\n",
       "        vertical-align: top;\n",
       "    }\n",
       "\n",
       "    .dataframe thead th {\n",
       "        text-align: right;\n",
       "    }\n",
       "</style>\n",
       "<table border=\"1\" class=\"dataframe\">\n",
       "  <thead>\n",
       "    <tr style=\"text-align: right;\">\n",
       "      <th></th>\n",
       "      <th>tenure</th>\n",
       "      <th>OnlineSecurity</th>\n",
       "      <th>Contract</th>\n",
       "      <th>MonthlyCharges</th>\n",
       "      <th>TotalCharges</th>\n",
       "    </tr>\n",
       "  </thead>\n",
       "  <tbody>\n",
       "    <tr>\n",
       "      <th>0</th>\n",
       "      <td>48</td>\n",
       "      <td>No</td>\n",
       "      <td>One year</td>\n",
       "      <td>100</td>\n",
       "      <td>1998</td>\n",
       "    </tr>\n",
       "  </tbody>\n",
       "</table>\n",
       "</div>"
      ],
      "text/plain": [
       "   tenure OnlineSecurity  Contract  MonthlyCharges  TotalCharges\n",
       "0      48             No  One year             100          1998"
      ]
     },
     "execution_count": 76,
     "metadata": {},
     "output_type": "execute_result"
    }
   ],
   "source": [
    "df_inf"
   ]
  },
  {
   "cell_type": "code",
   "execution_count": 77,
   "metadata": {},
   "outputs": [
    {
     "data": {
      "text/plain": [
       "(1, 9)"
      ]
     },
     "execution_count": 77,
     "metadata": {},
     "output_type": "execute_result"
    }
   ],
   "source": [
    "inf= data_pipeline.transform(df_inf)\n",
    "inf.shape"
   ]
  },
  {
   "cell_type": "code",
   "execution_count": 78,
   "metadata": {},
   "outputs": [
    {
     "data": {
      "text/plain": [
       "array([[0]])"
      ]
     },
     "execution_count": 78,
     "metadata": {},
     "output_type": "execute_result"
    }
   ],
   "source": [
    "# For Inference \n",
    "y_pred = model.predict(inf)\n",
    "y_pred= np.where (y_pred > 0.5, 1,0)\n",
    "y_pred"
   ]
  },
  {
   "cell_type": "code",
   "execution_count": 79,
   "metadata": {},
   "outputs": [
    {
     "data": {
      "text/html": [
       "<div>\n",
       "<style scoped>\n",
       "    .dataframe tbody tr th:only-of-type {\n",
       "        vertical-align: middle;\n",
       "    }\n",
       "\n",
       "    .dataframe tbody tr th {\n",
       "        vertical-align: top;\n",
       "    }\n",
       "\n",
       "    .dataframe thead th {\n",
       "        text-align: right;\n",
       "    }\n",
       "</style>\n",
       "<table border=\"1\" class=\"dataframe\">\n",
       "  <thead>\n",
       "    <tr style=\"text-align: right;\">\n",
       "      <th></th>\n",
       "      <th>tenure</th>\n",
       "      <th>OnlineSecurity</th>\n",
       "      <th>Contract</th>\n",
       "      <th>MonthlyCharges</th>\n",
       "      <th>TotalCharges</th>\n",
       "    </tr>\n",
       "  </thead>\n",
       "  <tbody>\n",
       "    <tr>\n",
       "      <th>3852</th>\n",
       "      <td>1</td>\n",
       "      <td>No internet service</td>\n",
       "      <td>Month-to-month</td>\n",
       "      <td>19.65</td>\n",
       "      <td>19.65</td>\n",
       "    </tr>\n",
       "    <tr>\n",
       "      <th>3175</th>\n",
       "      <td>17</td>\n",
       "      <td>No</td>\n",
       "      <td>Month-to-month</td>\n",
       "      <td>81.50</td>\n",
       "      <td>1329.20</td>\n",
       "    </tr>\n",
       "    <tr>\n",
       "      <th>3198</th>\n",
       "      <td>40</td>\n",
       "      <td>No</td>\n",
       "      <td>One year</td>\n",
       "      <td>106.00</td>\n",
       "      <td>4178.65</td>\n",
       "    </tr>\n",
       "    <tr>\n",
       "      <th>3112</th>\n",
       "      <td>72</td>\n",
       "      <td>Yes</td>\n",
       "      <td>Two year</td>\n",
       "      <td>100.55</td>\n",
       "      <td>7325.10</td>\n",
       "    </tr>\n",
       "    <tr>\n",
       "      <th>3015</th>\n",
       "      <td>59</td>\n",
       "      <td>Yes</td>\n",
       "      <td>Two year</td>\n",
       "      <td>86.75</td>\n",
       "      <td>5186.00</td>\n",
       "    </tr>\n",
       "    <tr>\n",
       "      <th>...</th>\n",
       "      <td>...</td>\n",
       "      <td>...</td>\n",
       "      <td>...</td>\n",
       "      <td>...</td>\n",
       "      <td>...</td>\n",
       "    </tr>\n",
       "    <tr>\n",
       "      <th>1951</th>\n",
       "      <td>14</td>\n",
       "      <td>No</td>\n",
       "      <td>Month-to-month</td>\n",
       "      <td>50.20</td>\n",
       "      <td>668.85</td>\n",
       "    </tr>\n",
       "    <tr>\n",
       "      <th>4196</th>\n",
       "      <td>70</td>\n",
       "      <td>No internet service</td>\n",
       "      <td>Two year</td>\n",
       "      <td>24.05</td>\n",
       "      <td>1764.75</td>\n",
       "    </tr>\n",
       "    <tr>\n",
       "      <th>2384</th>\n",
       "      <td>48</td>\n",
       "      <td>No</td>\n",
       "      <td>Month-to-month</td>\n",
       "      <td>91.05</td>\n",
       "      <td>4370.75</td>\n",
       "    </tr>\n",
       "    <tr>\n",
       "      <th>5149</th>\n",
       "      <td>62</td>\n",
       "      <td>No internet service</td>\n",
       "      <td>Two year</td>\n",
       "      <td>19.20</td>\n",
       "      <td>1123.65</td>\n",
       "    </tr>\n",
       "    <tr>\n",
       "      <th>3229</th>\n",
       "      <td>12</td>\n",
       "      <td>No</td>\n",
       "      <td>Month-to-month</td>\n",
       "      <td>94.20</td>\n",
       "      <td>1046.10</td>\n",
       "    </tr>\n",
       "  </tbody>\n",
       "</table>\n",
       "<p>563 rows × 5 columns</p>\n",
       "</div>"
      ],
      "text/plain": [
       "      tenure       OnlineSecurity        Contract  MonthlyCharges  \\\n",
       "3852       1  No internet service  Month-to-month           19.65   \n",
       "3175      17                   No  Month-to-month           81.50   \n",
       "3198      40                   No        One year          106.00   \n",
       "3112      72                  Yes        Two year          100.55   \n",
       "3015      59                  Yes        Two year           86.75   \n",
       "...      ...                  ...             ...             ...   \n",
       "1951      14                   No  Month-to-month           50.20   \n",
       "4196      70  No internet service        Two year           24.05   \n",
       "2384      48                   No  Month-to-month           91.05   \n",
       "5149      62  No internet service        Two year           19.20   \n",
       "3229      12                   No  Month-to-month           94.20   \n",
       "\n",
       "      TotalCharges  \n",
       "3852         19.65  \n",
       "3175       1329.20  \n",
       "3198       4178.65  \n",
       "3112       7325.10  \n",
       "3015       5186.00  \n",
       "...            ...  \n",
       "1951        668.85  \n",
       "4196       1764.75  \n",
       "2384       4370.75  \n",
       "5149       1123.65  \n",
       "3229       1046.10  \n",
       "\n",
       "[563 rows x 5 columns]"
      ]
     },
     "execution_count": 79,
     "metadata": {},
     "output_type": "execute_result"
    }
   ],
   "source": [
    "X_test"
   ]
  },
  {
   "cell_type": "code",
   "execution_count": 91,
   "metadata": {},
   "outputs": [
    {
     "data": {
      "text/plain": [
       "No                     3497\n",
       "Yes                    2015\n",
       "No internet service    1520\n",
       "Name: OnlineSecurity, dtype: int64"
      ]
     },
     "execution_count": 91,
     "metadata": {},
     "output_type": "execute_result"
    }
   ],
   "source": [
    "df['OnlineSecurity'].value_counts()"
   ]
  },
  {
   "cell_type": "code",
   "execution_count": 80,
   "metadata": {},
   "outputs": [
    {
     "data": {
      "text/html": [
       "<div>\n",
       "<style scoped>\n",
       "    .dataframe tbody tr th:only-of-type {\n",
       "        vertical-align: middle;\n",
       "    }\n",
       "\n",
       "    .dataframe tbody tr th {\n",
       "        vertical-align: top;\n",
       "    }\n",
       "\n",
       "    .dataframe thead th {\n",
       "        text-align: right;\n",
       "    }\n",
       "</style>\n",
       "<table border=\"1\" class=\"dataframe\">\n",
       "  <thead>\n",
       "    <tr style=\"text-align: right;\">\n",
       "      <th></th>\n",
       "      <th>gender</th>\n",
       "      <th>SeniorCitizen</th>\n",
       "      <th>Partner</th>\n",
       "      <th>Dependents</th>\n",
       "      <th>tenure</th>\n",
       "      <th>PhoneService</th>\n",
       "      <th>MultipleLines</th>\n",
       "      <th>InternetService</th>\n",
       "      <th>OnlineSecurity</th>\n",
       "      <th>OnlineBackup</th>\n",
       "      <th>DeviceProtection</th>\n",
       "      <th>TechSupport</th>\n",
       "      <th>StreamingTV</th>\n",
       "      <th>StreamingMovies</th>\n",
       "      <th>Contract</th>\n",
       "      <th>PaperlessBilling</th>\n",
       "      <th>PaymentMethod</th>\n",
       "      <th>MonthlyCharges</th>\n",
       "      <th>TotalCharges</th>\n",
       "      <th>Churn</th>\n",
       "    </tr>\n",
       "  </thead>\n",
       "  <tbody>\n",
       "    <tr>\n",
       "      <th>0</th>\n",
       "      <td>Female</td>\n",
       "      <td>0</td>\n",
       "      <td>Yes</td>\n",
       "      <td>No</td>\n",
       "      <td>1</td>\n",
       "      <td>No</td>\n",
       "      <td>No phone service</td>\n",
       "      <td>DSL</td>\n",
       "      <td>No</td>\n",
       "      <td>Yes</td>\n",
       "      <td>No</td>\n",
       "      <td>No</td>\n",
       "      <td>No</td>\n",
       "      <td>No</td>\n",
       "      <td>Month-to-month</td>\n",
       "      <td>Yes</td>\n",
       "      <td>Electronic check</td>\n",
       "      <td>29.85</td>\n",
       "      <td>29.85</td>\n",
       "      <td>No</td>\n",
       "    </tr>\n",
       "    <tr>\n",
       "      <th>1</th>\n",
       "      <td>Male</td>\n",
       "      <td>0</td>\n",
       "      <td>No</td>\n",
       "      <td>No</td>\n",
       "      <td>34</td>\n",
       "      <td>Yes</td>\n",
       "      <td>No</td>\n",
       "      <td>DSL</td>\n",
       "      <td>Yes</td>\n",
       "      <td>No</td>\n",
       "      <td>Yes</td>\n",
       "      <td>No</td>\n",
       "      <td>No</td>\n",
       "      <td>No</td>\n",
       "      <td>One year</td>\n",
       "      <td>No</td>\n",
       "      <td>Mailed check</td>\n",
       "      <td>56.95</td>\n",
       "      <td>1889.50</td>\n",
       "      <td>No</td>\n",
       "    </tr>\n",
       "    <tr>\n",
       "      <th>2</th>\n",
       "      <td>Male</td>\n",
       "      <td>0</td>\n",
       "      <td>No</td>\n",
       "      <td>No</td>\n",
       "      <td>2</td>\n",
       "      <td>Yes</td>\n",
       "      <td>No</td>\n",
       "      <td>DSL</td>\n",
       "      <td>Yes</td>\n",
       "      <td>Yes</td>\n",
       "      <td>No</td>\n",
       "      <td>No</td>\n",
       "      <td>No</td>\n",
       "      <td>No</td>\n",
       "      <td>Month-to-month</td>\n",
       "      <td>Yes</td>\n",
       "      <td>Mailed check</td>\n",
       "      <td>53.85</td>\n",
       "      <td>108.15</td>\n",
       "      <td>Yes</td>\n",
       "    </tr>\n",
       "    <tr>\n",
       "      <th>3</th>\n",
       "      <td>Male</td>\n",
       "      <td>0</td>\n",
       "      <td>No</td>\n",
       "      <td>No</td>\n",
       "      <td>45</td>\n",
       "      <td>No</td>\n",
       "      <td>No phone service</td>\n",
       "      <td>DSL</td>\n",
       "      <td>Yes</td>\n",
       "      <td>No</td>\n",
       "      <td>Yes</td>\n",
       "      <td>Yes</td>\n",
       "      <td>No</td>\n",
       "      <td>No</td>\n",
       "      <td>One year</td>\n",
       "      <td>No</td>\n",
       "      <td>Bank transfer (automatic)</td>\n",
       "      <td>42.30</td>\n",
       "      <td>1840.75</td>\n",
       "      <td>No</td>\n",
       "    </tr>\n",
       "    <tr>\n",
       "      <th>4</th>\n",
       "      <td>Female</td>\n",
       "      <td>0</td>\n",
       "      <td>No</td>\n",
       "      <td>No</td>\n",
       "      <td>2</td>\n",
       "      <td>Yes</td>\n",
       "      <td>No</td>\n",
       "      <td>Fiber optic</td>\n",
       "      <td>No</td>\n",
       "      <td>No</td>\n",
       "      <td>No</td>\n",
       "      <td>No</td>\n",
       "      <td>No</td>\n",
       "      <td>No</td>\n",
       "      <td>Month-to-month</td>\n",
       "      <td>Yes</td>\n",
       "      <td>Electronic check</td>\n",
       "      <td>70.70</td>\n",
       "      <td>151.65</td>\n",
       "      <td>Yes</td>\n",
       "    </tr>\n",
       "    <tr>\n",
       "      <th>...</th>\n",
       "      <td>...</td>\n",
       "      <td>...</td>\n",
       "      <td>...</td>\n",
       "      <td>...</td>\n",
       "      <td>...</td>\n",
       "      <td>...</td>\n",
       "      <td>...</td>\n",
       "      <td>...</td>\n",
       "      <td>...</td>\n",
       "      <td>...</td>\n",
       "      <td>...</td>\n",
       "      <td>...</td>\n",
       "      <td>...</td>\n",
       "      <td>...</td>\n",
       "      <td>...</td>\n",
       "      <td>...</td>\n",
       "      <td>...</td>\n",
       "      <td>...</td>\n",
       "      <td>...</td>\n",
       "      <td>...</td>\n",
       "    </tr>\n",
       "    <tr>\n",
       "      <th>7038</th>\n",
       "      <td>Male</td>\n",
       "      <td>0</td>\n",
       "      <td>Yes</td>\n",
       "      <td>Yes</td>\n",
       "      <td>24</td>\n",
       "      <td>Yes</td>\n",
       "      <td>Yes</td>\n",
       "      <td>DSL</td>\n",
       "      <td>Yes</td>\n",
       "      <td>No</td>\n",
       "      <td>Yes</td>\n",
       "      <td>Yes</td>\n",
       "      <td>Yes</td>\n",
       "      <td>Yes</td>\n",
       "      <td>One year</td>\n",
       "      <td>Yes</td>\n",
       "      <td>Mailed check</td>\n",
       "      <td>84.80</td>\n",
       "      <td>1990.50</td>\n",
       "      <td>No</td>\n",
       "    </tr>\n",
       "    <tr>\n",
       "      <th>7039</th>\n",
       "      <td>Female</td>\n",
       "      <td>0</td>\n",
       "      <td>Yes</td>\n",
       "      <td>Yes</td>\n",
       "      <td>72</td>\n",
       "      <td>Yes</td>\n",
       "      <td>Yes</td>\n",
       "      <td>Fiber optic</td>\n",
       "      <td>No</td>\n",
       "      <td>Yes</td>\n",
       "      <td>Yes</td>\n",
       "      <td>No</td>\n",
       "      <td>Yes</td>\n",
       "      <td>Yes</td>\n",
       "      <td>One year</td>\n",
       "      <td>Yes</td>\n",
       "      <td>Credit card (automatic)</td>\n",
       "      <td>103.20</td>\n",
       "      <td>7362.90</td>\n",
       "      <td>No</td>\n",
       "    </tr>\n",
       "    <tr>\n",
       "      <th>7040</th>\n",
       "      <td>Female</td>\n",
       "      <td>0</td>\n",
       "      <td>Yes</td>\n",
       "      <td>Yes</td>\n",
       "      <td>11</td>\n",
       "      <td>No</td>\n",
       "      <td>No phone service</td>\n",
       "      <td>DSL</td>\n",
       "      <td>Yes</td>\n",
       "      <td>No</td>\n",
       "      <td>No</td>\n",
       "      <td>No</td>\n",
       "      <td>No</td>\n",
       "      <td>No</td>\n",
       "      <td>Month-to-month</td>\n",
       "      <td>Yes</td>\n",
       "      <td>Electronic check</td>\n",
       "      <td>29.60</td>\n",
       "      <td>346.45</td>\n",
       "      <td>No</td>\n",
       "    </tr>\n",
       "    <tr>\n",
       "      <th>7041</th>\n",
       "      <td>Male</td>\n",
       "      <td>1</td>\n",
       "      <td>Yes</td>\n",
       "      <td>No</td>\n",
       "      <td>4</td>\n",
       "      <td>Yes</td>\n",
       "      <td>Yes</td>\n",
       "      <td>Fiber optic</td>\n",
       "      <td>No</td>\n",
       "      <td>No</td>\n",
       "      <td>No</td>\n",
       "      <td>No</td>\n",
       "      <td>No</td>\n",
       "      <td>No</td>\n",
       "      <td>Month-to-month</td>\n",
       "      <td>Yes</td>\n",
       "      <td>Mailed check</td>\n",
       "      <td>74.40</td>\n",
       "      <td>306.60</td>\n",
       "      <td>Yes</td>\n",
       "    </tr>\n",
       "    <tr>\n",
       "      <th>7042</th>\n",
       "      <td>Male</td>\n",
       "      <td>0</td>\n",
       "      <td>No</td>\n",
       "      <td>No</td>\n",
       "      <td>66</td>\n",
       "      <td>Yes</td>\n",
       "      <td>No</td>\n",
       "      <td>Fiber optic</td>\n",
       "      <td>Yes</td>\n",
       "      <td>No</td>\n",
       "      <td>Yes</td>\n",
       "      <td>Yes</td>\n",
       "      <td>Yes</td>\n",
       "      <td>Yes</td>\n",
       "      <td>Two year</td>\n",
       "      <td>Yes</td>\n",
       "      <td>Bank transfer (automatic)</td>\n",
       "      <td>105.65</td>\n",
       "      <td>6844.50</td>\n",
       "      <td>No</td>\n",
       "    </tr>\n",
       "  </tbody>\n",
       "</table>\n",
       "<p>7032 rows × 20 columns</p>\n",
       "</div>"
      ],
      "text/plain": [
       "      gender  SeniorCitizen Partner Dependents  tenure PhoneService  \\\n",
       "0     Female              0     Yes         No       1           No   \n",
       "1       Male              0      No         No      34          Yes   \n",
       "2       Male              0      No         No       2          Yes   \n",
       "3       Male              0      No         No      45           No   \n",
       "4     Female              0      No         No       2          Yes   \n",
       "...      ...            ...     ...        ...     ...          ...   \n",
       "7038    Male              0     Yes        Yes      24          Yes   \n",
       "7039  Female              0     Yes        Yes      72          Yes   \n",
       "7040  Female              0     Yes        Yes      11           No   \n",
       "7041    Male              1     Yes         No       4          Yes   \n",
       "7042    Male              0      No         No      66          Yes   \n",
       "\n",
       "         MultipleLines InternetService OnlineSecurity OnlineBackup  \\\n",
       "0     No phone service             DSL             No          Yes   \n",
       "1                   No             DSL            Yes           No   \n",
       "2                   No             DSL            Yes          Yes   \n",
       "3     No phone service             DSL            Yes           No   \n",
       "4                   No     Fiber optic             No           No   \n",
       "...                ...             ...            ...          ...   \n",
       "7038               Yes             DSL            Yes           No   \n",
       "7039               Yes     Fiber optic             No          Yes   \n",
       "7040  No phone service             DSL            Yes           No   \n",
       "7041               Yes     Fiber optic             No           No   \n",
       "7042                No     Fiber optic            Yes           No   \n",
       "\n",
       "     DeviceProtection TechSupport StreamingTV StreamingMovies        Contract  \\\n",
       "0                  No          No          No              No  Month-to-month   \n",
       "1                 Yes          No          No              No        One year   \n",
       "2                  No          No          No              No  Month-to-month   \n",
       "3                 Yes         Yes          No              No        One year   \n",
       "4                  No          No          No              No  Month-to-month   \n",
       "...               ...         ...         ...             ...             ...   \n",
       "7038              Yes         Yes         Yes             Yes        One year   \n",
       "7039              Yes          No         Yes             Yes        One year   \n",
       "7040               No          No          No              No  Month-to-month   \n",
       "7041               No          No          No              No  Month-to-month   \n",
       "7042              Yes         Yes         Yes             Yes        Two year   \n",
       "\n",
       "     PaperlessBilling              PaymentMethod  MonthlyCharges  \\\n",
       "0                 Yes           Electronic check           29.85   \n",
       "1                  No               Mailed check           56.95   \n",
       "2                 Yes               Mailed check           53.85   \n",
       "3                  No  Bank transfer (automatic)           42.30   \n",
       "4                 Yes           Electronic check           70.70   \n",
       "...               ...                        ...             ...   \n",
       "7038              Yes               Mailed check           84.80   \n",
       "7039              Yes    Credit card (automatic)          103.20   \n",
       "7040              Yes           Electronic check           29.60   \n",
       "7041              Yes               Mailed check           74.40   \n",
       "7042              Yes  Bank transfer (automatic)          105.65   \n",
       "\n",
       "      TotalCharges Churn  \n",
       "0            29.85    No  \n",
       "1          1889.50    No  \n",
       "2           108.15   Yes  \n",
       "3          1840.75    No  \n",
       "4           151.65   Yes  \n",
       "...            ...   ...  \n",
       "7038       1990.50    No  \n",
       "7039       7362.90    No  \n",
       "7040        346.45    No  \n",
       "7041        306.60   Yes  \n",
       "7042       6844.50    No  \n",
       "\n",
       "[7032 rows x 20 columns]"
      ]
     },
     "execution_count": 80,
     "metadata": {},
     "output_type": "execute_result"
    }
   ],
   "source": [
    "df"
   ]
  },
  {
   "cell_type": "markdown",
   "metadata": {},
   "source": [
    "## Overall Analysis"
   ]
  },
  {
   "cell_type": "markdown",
   "metadata": {},
   "source": [
    "> Because it takes up future importance, in this case it uses 5 features, that is:\n",
    "- tenure\n",
    "- OnlineSecurity\n",
    "- Contract\n",
    "- MonthlyCharges\n",
    "- TotalCharges\n",
    "> For EDA:\n",
    "- For gender column: for column `Churn` value no it is dominated by Male, indicating that males are more likely to don't leave services than females\n",
    "- For Partner Column : For column `Churn` value no, it is dominated by those who have partners, it means those who have partners don't leave the service more often than those who don't have partners\n",
    "- For Dependants Column : For column `Churn` value no, dominated by those who don't have dependents, it means that many people who don't  have dependents don't leave the service compared to those who have dependents\n",
    "- For PhoneService Column: For column `Churn` value no, dominated by those who have PhoneService, That means many people who have PhoneService don't leave the service\n",
    "- For MultipleLines Column: For column `Churn` value no, dominated by those who don't have MultipleLines, that means many people who don't have MultipleLines don't leave the service\n",
    "- For Internet Service Column: For column `Churn` value no, dominated by Using DSL as an internet service, it means many people who use DSL don't leave the service\n",
    "- For Online Security Column: For column `Churn` value no, dominated by those who don't use online security, it means that many people who don't use online security don't leave the service\n",
    "- For Online Backup Column: For column `Churn` value no, dominated by those who have Online Backup , it means many people who have OnlineBackup don't leave the service\n",
    "- For Device Protection Column: For column `Churn` value no, dominated by those who  don't have Device Protection , that means many people who don't have Device Protection don't leave the service\n",
    "- For Tech Support Column: For column `Churn` value no, dominated by those who  don't have Tech Support , that means many people who  don't have TechSupport  don't leave the service\n",
    "- For Streaming TV Column: For column `Churn` value no, dominated by those who have streaming TV services, that means many people who have streaming TV services don't leave the service\n",
    "- For Streaming Movies Column: For column `Churn` value no, dominated by those who have Streaming Movies services, that means many people who have movie streaming services don't leave the service\n",
    "- For Contract Column: For column `Churn` value no, dominated by those who have Contracts for Month-to-month , that means many people who have contracts Month-to-month do not leave the service\n",
    "- For Paperless Billing Column: For column `Churn` value no, dominated by those who have Paperless Billing , meaning that many people who have Pepperless Billing do not leave the service\n",
    "> For Model :\n",
    "\n",
    "The best model with better overfitting is on model2,with:\n",
    "- 3 Hidden Layer, first hidden layer have 8 Neuron, Second Hidden layer have 4 Neuron, and Third hidden layer have 2 Neuron\n",
    "- Activation function in all hidden layer are `relu` and for out layer is `sigmoid`\n",
    "- Use Binary Crossentropy for loss\n",
    "- optimizer use adam\n",
    "And for scoring:\n",
    "- For class false f1-score accuracy is 84%\n",
    "- For the True class, the F1-score accuracy is 63%\n",
    "- And accuracy model 77%"
   ]
  }
 ],
 "metadata": {
  "interpreter": {
   "hash": "f6a4004321b98c52e1f5486033ccbfda5ad71ac98aa516adcea02de455fdfad7"
  },
  "kernelspec": {
   "display_name": "Python 3.10.2 64-bit (windows store)",
   "language": "python",
   "name": "python3"
  },
  "language_info": {
   "codemirror_mode": {
    "name": "ipython",
    "version": 3
   },
   "file_extension": ".py",
   "mimetype": "text/x-python",
   "name": "python",
   "nbconvert_exporter": "python",
   "pygments_lexer": "ipython3",
   "version": "3.10.4"
  },
  "orig_nbformat": 4
 },
 "nbformat": 4,
 "nbformat_minor": 2
}
